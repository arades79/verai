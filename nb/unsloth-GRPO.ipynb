{
  "cells": [
    {
      "cell_type": "markdown",
      "metadata": {
        "id": "view-in-github",
        "colab_type": "text"
      },
      "source": [
        "<a href=\"https://colab.research.google.com/github/arades79/verai/blob/master/nb/unsloth-GRPO.ipynb\" target=\"_parent\"><img src=\"https://colab.research.google.com/assets/colab-badge.svg\" alt=\"Open In Colab\"/></a>"
      ]
    },
    {
      "cell_type": "markdown",
      "metadata": {
        "id": "nE0fo86EFYt2"
      },
      "source": [
        "To run this, press \"*Runtime*\" and press \"*Run all*\" on a **free** Tesla T4 Google Colab instance!\n",
        "<div class=\"align-center\">\n",
        "<a href=\"https://unsloth.ai/\"><img src=\"https://github.com/unslothai/unsloth/raw/main/images/unsloth%20new%20logo.png\" width=\"115\"></a>\n",
        "<a href=\"https://discord.gg/unsloth\"><img src=\"https://github.com/unslothai/unsloth/raw/main/images/Discord button.png\" width=\"145\"></a>\n",
        "<a href=\"https://docs.unsloth.ai/\"><img src=\"https://github.com/unslothai/unsloth/blob/main/images/documentation%20green%20button.png?raw=true\" width=\"125\"></a></a> Join Discord if you need help + ⭐ <i>Star us on <a href=\"https://github.com/unslothai/unsloth\">Github</a> </i> ⭐\n",
        "</div>\n",
        "\n",
        "To install Unsloth on your own computer, follow the installation instructions on our Github page [here](https://docs.unsloth.ai/get-started/installing-+-updating).\n",
        "\n",
        "You will learn how to do [data prep](#Data), how to [train](#Train), how to [run the model](#Inference), & [how to save it](#Save)\n"
      ]
    },
    {
      "cell_type": "markdown",
      "metadata": {
        "id": "EVJSuoJaFYt3"
      },
      "source": [
        "### News"
      ]
    },
    {
      "cell_type": "markdown",
      "metadata": {
        "id": "aQfdh1xcFYt3"
      },
      "source": [
        "Read our **[Qwen3 Guide](https://docs.unsloth.ai/basics/qwen3-how-to-run-and-fine-tune)** and check out our new **[Dynamic 2.0](https://docs.unsloth.ai/basics/unsloth-dynamic-2.0-ggufs)** quants which outperforms other quantization methods!\n",
        "\n",
        "Visit our docs for all our [model uploads](https://docs.unsloth.ai/get-started/all-our-models) and [notebooks](https://docs.unsloth.ai/get-started/unsloth-notebooks).\n"
      ]
    },
    {
      "cell_type": "markdown",
      "metadata": {
        "id": "OLPOcdDcFYt3"
      },
      "source": [
        "### Installation"
      ]
    },
    {
      "cell_type": "code",
      "execution_count": 1,
      "metadata": {
        "id": "9Nedh6n2FYt4"
      },
      "outputs": [],
      "source": [
        "%%capture\n",
        "import os\n",
        "\n",
        "if \"RADEON_UNSLOTH\" in \"\".join(os.environ.keys()):\n",
        "  # Install Unsloth from source\n",
        "  !git clone https://github.com/billishyahao/unsloth.git && cd unsloth && git checkout billhe/rocm &&  pip install .\n",
        "  !pip install unsloth_zoo==2025.3.17\n",
        "  # Install ROCm Bitsandbytes from source\n",
        "  !git clone --recurse https://github.com/ROCm/bitsandbytes && cd bitsandbytes && git checkout rocm_enabled_multi_backend && pip install -r requirements-dev.txt && cmake -DCOMPUTE_BACKEND=hip -S . && make -j  && pip install .\n",
        "  # This notebook is verified under unsloth==2025.3.19 unsloth_zoo==2025.3.17 bitsandbytes==0.43.3.dev0\n",
        "  # Verify the installation and version of the required libraries\n",
        "  !pip list | grep unsloth\n",
        "else:\n",
        "  !pip install --upgrade unsloth vllm\n",
        "\n",
        "if \"COLAB_\" not in \"\".join(os.environ.keys()):\n",
        "    %cd ../\n",
        "else:\n",
        "    # !pip install --no-deps unsloth vllm==0.8.5.post1\n",
        "    # # [NOTE] Do the below ONLY in Colab! Use [[pip install unsloth vllm]]\n",
        "    # # Skip restarting message in Colab\n",
        "    # import sys, re, requests; modules = list(sys.modules.keys())\n",
        "    # for x in modules: sys.modules.pop(x) if \"PIL\" in x or \"google\" in x else None\n",
        "    # !pip install --no-deps bitsandbytes accelerate xformers==0.0.29.post3 peft trl triton cut_cross_entropy unsloth_zoo torch\n",
        "    # !pip install sentencepiece protobuf \"datasets>=3.4.1\" huggingface_hub hf_transfer\n",
        "\n",
        "    # # vLLM requirements - vLLM breaks Colab due to reinstalling numpy\n",
        "    # f = requests.get(\"https://raw.githubusercontent.com/vllm-project/vllm/refs/heads/main/requirements/common.txt\").content\n",
        "    # with open(\"vllm_requirements.txt\", \"wb\") as file:\n",
        "    #     file.write(re.sub(rb\"(transformers|numpy|xformers)[^\\n]{1,}\\n\", b\"\", f))\n",
        "    # !pip install -r vllm_requirements.txt\n",
        "\n",
        "    !git clone https://github.com/arades79/verai.git\n",
        "    %cd verai"
      ]
    },
    {
      "cell_type": "code",
      "execution_count": 2,
      "metadata": {
        "id": "cSGxrNALFYt4"
      },
      "outputs": [],
      "source": [
        "#@title Colab Extra Install { display-mode: \"form\" }\n",
        "%%capture\n",
        "# import os\n",
        "# if \"COLAB_\" not in \"\".join(os.environ.keys()):\n",
        "#     !pip install unsloth vllm\n",
        "# else:\n",
        "#     !pip install --no-deps unsloth vllm==0.8.5.post1\n",
        "#     # [NOTE] Do the below ONLY in Colab! Use [[pip install unsloth vllm]]\n",
        "#     # Skip restarting message in Colab\n",
        "#     import sys, re, requests; modules = list(sys.modules.keys())\n",
        "#     for x in modules: sys.modules.pop(x) if \"PIL\" in x or \"google\" in x else None\n",
        "#     !pip install --no-deps bitsandbytes accelerate xformers==0.0.29.post3 peft trl triton cut_cross_entropy unsloth_zoo\n",
        "#     !pip install sentencepiece protobuf \"datasets>=3.4.1\" huggingface_hub hf_transfer\n",
        "\n",
        "#     # vLLM requirements - vLLM breaks Colab due to reinstalling numpy\n",
        "#     f = requests.get(\"https://raw.githubusercontent.com/vllm-project/vllm/refs/heads/main/requirements/common.txt\").content\n",
        "#     with open(\"vllm_requirements.txt\", \"wb\") as file:\n",
        "#         file.write(re.sub(rb\"(transformers|numpy|xformers)[^\\n]{1,}\\n\", b\"\", f))\n",
        "#     !pip install -r vllm_requirements.txt"
      ]
    },
    {
      "cell_type": "markdown",
      "metadata": {
        "id": "Gd2cpn1kaXRA"
      },
      "source": [
        "### Unsloth"
      ]
    },
    {
      "cell_type": "markdown",
      "metadata": {
        "id": "rezoBIE1aXRA"
      },
      "source": [
        "Load up `Gemma 3 1B Instruct`, and set parameters"
      ]
    },
    {
      "cell_type": "code",
      "execution_count": 3,
      "metadata": {
        "colab": {
          "base_uri": "https://localhost:8080/"
        },
        "id": "DkIvEkIIkEyB",
        "outputId": "6538d4ab-0adb-4490-9503-3128852b91eb"
      },
      "outputs": [
        {
          "output_type": "stream",
          "name": "stdout",
          "text": [
            "🦥 Unsloth: Will patch your computer to enable 2x faster free finetuning.\n",
            "🦥 Unsloth Zoo will now patch everything to make training faster!\n",
            "INFO 06-22 18:03:52 [__init__.py:244] Automatically detected platform cuda.\n",
            "==((====))==  Unsloth 2025.6.5: Fast Gemma3 patching. Transformers: 4.52.4. vLLM: 0.9.1.\n",
            "   \\\\   /|    Tesla T4. Num GPUs = 1. Max memory: 14.741 GB. Platform: Linux.\n",
            "O^O/ \\_/ \\    Torch: 2.7.0+cu126. CUDA: 7.5. CUDA Toolkit: 12.6. Triton: 3.3.0\n",
            "\\        /    Bfloat16 = FALSE. FA [Xformers = 0.0.30. FA2 = False]\n",
            " \"-____-\"     Free license: http://github.com/unslothai/unsloth\n",
            "Unsloth: Fast downloading is enabled - ignore downloading bars which are red colored!\n",
            "Unsloth: Using float16 precision for gemma3 won't work! Using float32.\n",
            "Unsloth: Making `model.base_model.model.model` require gradients\n"
          ]
        }
      ],
      "source": [
        "import unsloth\n",
        "import torch\n",
        "\n",
        "use_model = \"unsloth/gemma-3-1b-it-unsloth-bnb-4bit\"\n",
        "max_seq_length = 4096\n",
        "lora_rank = 8  # Larger rank = smarter, but slower\n",
        "\n",
        "if use_model == \"unsloth/gemma-3-1b-it-unsloth-bnb-4bit\":\n",
        "  from unsloth import FastModel\n",
        "  # More models at https://huggingface.co/unsloth\n",
        "\n",
        "  model, tokenizer = FastModel.from_pretrained(\n",
        "    model_name = \"unsloth/gemma-3-1b-it-unsloth-bnb-4bit\",\n",
        "    max_seq_length = max_seq_length, # Choose any for long context!\n",
        "    load_in_4bit = True,  # 4 bit quantization to reduce memory\n",
        "    load_in_8bit = False, # [NEW!] A bit more accurate, uses 2x memory\n",
        "    full_finetuning = False, # [NEW!] We have full finetuning now!\n",
        "    # token = \"hf_...\", # use one if using gated models\n",
        "  )\n",
        "\n",
        "  model = FastModel.get_peft_model(\n",
        "    model,\n",
        "    finetune_vision_layers     = False, # Turn off for just text!\n",
        "    finetune_language_layers   = True,  # Should leave on!\n",
        "    finetune_attention_modules = True,  # Attention good for GRPO\n",
        "    finetune_mlp_modules       = True,  # SHould leave on always!\n",
        "\n",
        "    r = lora_rank,           # Larger = higher accuracy, but might overfit\n",
        "    lora_alpha = lora_rank*2,  # Recommended alpha == r at least\n",
        "    lora_dropout = 0,\n",
        "    bias = \"none\",\n",
        "    random_state = 3407,\n",
        "    gpu_memory_utilization = 0.70, # Reduce if out of memory\n",
        "  )\n",
        "\n",
        "elif use_model in [\"unsloth/Qwen3-4B-Base\",\"unsloth/DeepSeek-R1-0528-Qwen3-8B\"]:\n",
        "  from unsloth import FastLanguageModel\n",
        "  model, tokenizer = FastLanguageModel.from_pretrained(\n",
        "    model_name = use_model,\n",
        "    max_seq_length = max_seq_length,\n",
        "    load_in_4bit = True, # False for LoRA 16bit\n",
        "    fast_inference = True, # Enable vLLM fast inference\n",
        "    max_lora_rank = lora_rank,\n",
        "    gpu_memory_utilization = 0.7, # Reduce if out of memory\n",
        "  )\n",
        "\n",
        "  model = FastLanguageModel.get_peft_model(\n",
        "    model,\n",
        "    r = lora_rank, # Choose any number > 0 ! Suggested 8, 16, 32, 64, 128\n",
        "    target_modules = [\n",
        "        \"q_proj\", \"k_proj\", \"v_proj\", \"o_proj\",\n",
        "        \"gate_proj\", \"up_proj\", \"down_proj\",\n",
        "    ],\n",
        "    lora_alpha = lora_rank*2, # *2 speeds up training\n",
        "    use_gradient_checkpointing = \"unsloth\", # Reduces memory usage\n",
        "    random_state = 3407,\n",
        "  )"
      ]
    },
    {
      "cell_type": "markdown",
      "metadata": {
        "id": "6nHQVsQJ2roh"
      },
      "source": [
        "We now add LoRA adapters so we only need to update a small amount of parameters!"
      ]
    },
    {
      "cell_type": "markdown",
      "metadata": {
        "id": "7KGgPgk_5S8r"
      },
      "source": [
        "### Data Prep\n",
        "<a name=\"Data\"></a>\n",
        "\n",
        "We're using OpenAI's famous GSM8K dataset!"
      ]
    },
    {
      "cell_type": "code",
      "execution_count": 4,
      "metadata": {
        "id": "zEibULDtlOMU"
      },
      "outputs": [],
      "source": [
        "from pathlib import Path\n",
        "import json\n",
        "from datasets import Dataset\n",
        "dataset = Dataset.from_list([json.loads(file.read_text()) for file in Path(\"training\").glob(\"*.json\")])"
      ]
    },
    {
      "cell_type": "markdown",
      "metadata": {
        "id": "GRfa3z_atGgT"
      },
      "source": [
        "Let's look at the first row:"
      ]
    },
    {
      "cell_type": "code",
      "execution_count": 5,
      "metadata": {
        "colab": {
          "base_uri": "https://localhost:8080/",
          "height": 122
        },
        "id": "rIRsNJ_YitXl",
        "outputId": "2d81b389-a4a9-453b-865f-4bbb283b9d89"
      },
      "outputs": [
        {
          "output_type": "execute_result",
          "data": {
            "text/plain": [
              "'/* Generated by Yosys 0.53 (git sha1 53c22ab7c, g++ 12.2.1 -fPIC -O3) */\\n\\n(* src = \"../riscv/core/riscv/riscv_mmu.v:42.1-570.10\" *)\\nmodule riscv_mmu(clk_i, rst_i, priv_d_i, sum_i, mxr_i, flush_i, satp_i, fetch_in_rd_i, fetch_in_flush_i, fetch_in_invalidate_i, fetch_in_pc_i, fetch_in_priv_i, fetch_out_accept_i, fetch_out_valid_i, fetch_out_error_i, fetch_out_inst_i, lsu_in_addr_i, lsu_in_data_wr_i, lsu_in_rd_i, lsu_in_wr_i, lsu_in_cacheable_i\\n, lsu_in_req_tag_i, lsu_in_invalidate_i, lsu_in_writeback_i, lsu_in_flush_i, lsu_out_data_rd_i, lsu_out_accept_i, lsu_out_ack_i, lsu_out_error_i, lsu_out_resp_tag_i, fetch_in_accept_o, fetch_in_valid_o, fetch_in_error_o, fetch_in_inst_o, fetch_out_rd_o, fetch_out_flush_o, fetch_out_invalidate_o, fetch_out_pc_o, fetch_in_fault_o, lsu_in_data_rd_o, lsu_in_accept_o, lsu_in_ack_o\\n, lsu_in_error_o, lsu_in_resp_tag_o, lsu_out_addr_o, lsu_out_data_wr_o, lsu_out_rd_o, lsu_out_wr_o, lsu_out_cacheable_o, lsu_out_req_tag_o, lsu_out_invalidate_o, lsu_out_writeback_o, lsu_out_flush_o, lsu_in_load_fault_o, lsu_in_store_fault_o);\\n  (* src = \"../riscv/core/riscv/riscv_mmu.v:365.5-371.30\" *)\\n  wire _0000_;\\n  (* src = \"../riscv/core/riscv/riscv_mmu.v:291.5-299.30\" *)\\n  wire _0001_;\\n  (* src = \"../riscv/core/riscv/riscv_mmu.v:488.5-496.27\" *)\\n  wire _0002_;\\n  (* src = \"../riscv/core/riscv/riscv_mmu.v:220.5-282.8\" *)\\n  wire [31:0] _0003_;\\n  (* src = \"../riscv/core/riscv/riscv_mmu.v:505.5-517.30\" *)\\n  wire _0004_;\\n  (* src = \"../riscv/core/riscv/riscv_mmu.v:220.5-282.8\" *)\\n  wire [1:0] _0005_;\\n  wire _0006_;\\n  wire _0007_;\\n  wire _0008_;\\n  wire _0009_;\\n  wire _0010_;\\n  wire _0011_;\\n  wire _0012_;\\n  (* src = \"../riscv/core/riscv/riscv_mmu.v:296.14-296.52\" *)\\n  wire _0013_;\\n  (* src = \"../riscv/core/riscv/riscv_mmu.v:370.14-370.51\" *)\\n  wire _0014_;\\n  wire _0015_;\\n  wire _0016_;\\n  wire _0017_;\\n  wire _0018_;\\n  wire _0019_;\\n  wire _0020_;\\n  wire _0021_;\\n  wire _0022_;\\n  wire _0023_;\\n  wire _0024_;\\n  wire _0025_;\\n  wire _0026_;\\n  wire _0027_;\\n  wire _0028_;\\n  wire _0029_;\\n  wire _0030_;\\n  wire _0031_;\\n  wire _0032_;\\n  wire _0033_;\\n  wire _0034_;\\n  wire _0035_;\\n  wire _0036_;\\n  wire _0037_;\\n  wire _0038_;\\n  wire _0039_;\\n  wire _0040_;\\n  wire _0041_;\\n  wire _0042_;\\n  wire _0043_;\\n  wire _0044_;\\n  wire _0045_;\\n  wire _0046_;\\n  wire _0047_;\\n  wire _0048_;\\n  wire _0049_;\\n  wire _0050_;\\n  wire _0051_;\\n  wire _0052_;\\n  wire _0053_;\\n  wire _0054_;\\n  wire _0055_;\\n  wire _0056_;\\n  wire _0057_;\\n  wire _0058_;\\n  wire _0059_;\\n  wire _0060_;\\n  wire _0061_;\\n  wire _0062_;\\n  wire _0063_;\\n  wire _0064_;\\n  wire _0065_;\\n  wire _0066_;\\n  wire _0067_;\\n  wire _0068_;\\n  wire _0069_;\\n  wire _0070_;\\n  wire _0071_;\\n  wire _0072_;\\n  wire _0073_;\\n  wire _0074_;\\n  wire _0075_;\\n  wire _0076_;\\n  wire _0077_;\\n  wire _0078_;\\n  wire _0079_;\\n  wire _0080_;\\n  wire _0081_;\\n  wire _0082_;\\n  wire _0083_;\\n  wire _0084_;\\n  wire _0085_;\\n  wire _0086_;\\n  wire _0087_;\\n  wire _0088_;\\n  wire _0089_;\\n  wire _0090_;\\n  wire _0091_;\\n  wire _0092_;\\n  wire _0093_;\\n  wire _0094_;\\n  wire _0095_;\\n  wire _0096_;\\n  wire _0097_;\\n  wire _0098_;\\n  wire _0099_;\\n  wire _0100_;\\n  wire _0101_;\\n  wire _0102_;\\n  wire _0103_;\\n  wire _0104_;\\n  wire _0105_;\\n  wire _0106_;\\n  wire _0107_;\\n  wire _0108_;\\n  wire _0109_;\\n  wire _0110_;\\n  wire _0111_;\\n  wire _0112_;\\n  wire _0113_;\\n  wire _0114_;\\n  wire _0115_;\\n  wire _0116_;\\n  wire _0117_;\\n  wire _0118_;\\n  wire _0119_;\\n  wire _0120_;\\n  wire _0121_;\\n  wire _0122_;\\n  wire _0123_;\\n  wire _0124_;\\n  wire _0125_;\\n  wire _0126_;\\n  wire _0127_;\\n  wire _0128_;\\n  wire _0129_;\\n  wire _0130_;\\n  wire _0131_;\\n  wire _0132_;\\n  wire _0133_;\\n  wire _0134_;\\n  wire _0135_;\\n  wire _0136_;\\n  wire _0137_;\\n  wire _0138_;\\n  wire _0139_;\\n  wire _0140_;\\n  wire _0141_;\\n  wire _0142_;\\n  wire _0143_;\\n  wire _0144_;\\n  wire _0145_;\\n  wire _0146_;\\n  wire _0147_;\\n  wire _0148_;\\n  wire _0149_;\\n  wire _0150_;\\n  wire _0151_;\\n  wire _0152_;\\n  wire _0153_;\\n  wire _0154_;\\n  wire _0155_;\\n  wire _0156_;\\n  wire _0157_;\\n  wire _0158_;\\n  wire _0159_;\\n  wire _0160_;\\n  wire _0161_;\\n  wire _0162_;\\n  wire _0163_;\\n  wire _0164_;\\n  wire _0165_;\\n  wire _0166_;\\n  wire _0167_;\\n  wire _0168_;\\n  wire _0169_;\\n  wire _0170_;\\n  wire _0171_;\\n  wire _0172_;\\n  wire _0173_;\\n  wire _0174_;\\n  wire _0175_;\\n  wire _0176_;\\n  wire _0177_;\\n  wire _0178_;\\n  wire _0179_;\\n  wire _0180_;\\n  wire _0181_;\\n  wire _0182_;\\n  wire _0183_;\\n  wire _0184_;\\n  wire _0185_;\\n  wire _0186_;\\n  wire _0187_;\\n  wire _0188_;\\n  wire _0189_;\\n  wire _0190_;\\n  wire _0191_;\\n  wire _0192_;\\n  wire _0193_;\\n  wire _0194_;\\n  wire _0195_;\\n  wire _0196_;\\n  wire _0197_;\\n  wire _0198_;\\n  wire _0199_;\\n  wire _0200_;\\n  wire _0201_;\\n  wire _0202_;\\n  wire _0203_;\\n  wire _0204_;\\n  wire _0205_;\\n  wire _0206_;\\n  wire _0207_;\\n  wire _0208_;\\n  wire _0209_;\\n  wire _0210_;\\n  wire _0211_;\\n  wire _0212_;\\n  wire _0213_;\\n  wire _0214_;\\n  wire _0215_;\\n  wire _0216_;\\n  wire _0217_;\\n  wire _0218_;\\n  wire _0219_;\\n  wire _0220_;\\n  wire _0221_;\\n  wire _0222_;\\n  wire _0223_;\\n  wire _0224_;\\n  wire _0225_;\\n  wire _0226_;\\n  wire _0227_;\\n  wire _0228_;\\n  wire _0229_;\\n  wire _0230_;\\n  wire _0231_;\\n  wire _0232_;\\n  wire _0233_;\\n  wire _0234_;\\n  wire _0235_;\\n  wire _0236_;\\n  wire _0237_;\\n  wire _0238_;\\n  wire _0239_;\\n  wire _0240_;\\n  wire _0241_;\\n  wire _0242_;\\n  wire _0243_;\\n  wire _0244_;\\n  wire _0245_;\\n  wire _0246_;\\n  wire _0247_;\\n  wire _0248_;\\n  wire _0249_;\\n  wire _0250_;\\n  wire _0251_;\\n  wire _0252_;\\n  wire _0253_;\\n  wire _0254_;\\n  wire _0255_;\\n  wire _0256_;\\n  wire _0257_;\\n  wire _0258_;\\n  wire _0259_;\\n  wire _0260_;\\n  wire _0261_;\\n  wire _0262_;\\n  wire _0263_;\\n  wire _0264_;\\n  wire _0265_;\\n  wire _0266_;\\n  wire _0267_;\\n  wire _0268_;\\n  wire _0269_;\\n  wire _0270_;\\n  wire _0271_;\\n  wire _0272_;\\n  wire _0273_;\\n  wire _0274_;\\n  wire _0275_;\\n  wire _0276_;\\n  wire _0277_;\\n  wire _0278_;\\n  wire _0279_;\\n  wire _0280_;\\n  wire _0281_;\\n  wire _0282_;\\n  wire _0283_;\\n  wire _0284_;\\n  wire _0285_;\\n  wire _0286_;\\n  wire _0287_;\\n  wire _0288_;\\n  wire _0289_;\\n  wire _0290_;\\n  wire _0291_;\\n  wire _0292_;\\n  wire _0293_;\\n  wire _0294_;\\n  wire _0295_;\\n  wire _0296_;\\n  wire _0297_;\\n  wire _0298_;\\n  wire _0299_;\\n  wire _0300_;\\n  wire _0301_;\\n  wire _0302_;\\n  wire _0303_;\\n  wire _0304_;\\n  wire _0305_;\\n  wire _0306_;\\n  wire _0307_;\\n  wire _0308_;\\n  wire _0309_;\\n  wire _0310_;\\n  wire _0311_;\\n  wire _0312_;\\n  wire _0313_;\\n  wire _0314_;\\n  wire _0315_;\\n  wire _0316_;\\n  wire _0317_;\\n  wire _0318_;\\n  wire _0319_;\\n  wire _0320_;\\n  wire _0321_;\\n  wire _0322_;\\n  wire _0323_;\\n  wire _0324_;\\n  wire _0325_;\\n  wire _0326_;\\n  wire _0327_;\\n  wire _0328_;\\n  wire _0329_;\\n  wire _0330_;\\n  wire _0331_;\\n  wire _0332_;\\n  wire _0333_;\\n  wire _0334_;\\n  wire _0335_;\\n  wire _0336_;\\n  wire _0337_;\\n  wire _0338_;\\n  wire _0339_;\\n  wire _0340_;\\n  wire _0341_;\\n  wire _0342_;\\n  wire _0343_;\\n  wire _0344_;\\n  wire _0345_;\\n  wire _0346_;\\n  wire _0347_;\\n  wire _0348_;\\n  wire _0349_;\\n  wire _0350_;\\n  wire _0351_;\\n  wire _0352_;\\n  wire _0353_;\\n  wire _0354_;\\n  wire _0355_;\\n  wire _0356_;\\n  wire _0357_;\\n  wire _0358_;\\n  wire _0359_;\\n  wire _0360_;\\n  wire _0361_;\\n  wire _0362_;\\n  wire _0363_;\\n  wire _0364_;\\n  wire _0365_;\\n  wire _0366_;\\n  wire _0367_;\\n  wire _0368_;\\n  wire _0369_;\\n  wire _0370_;\\n  wire _0371_;\\n  wire _0372_;\\n  wire _0373_;\\n  wire _0374_;\\n  wire _0375_;\\n  wire _0376_;\\n  wire _0377_;\\n  wire _0378_;\\n  wire _0379_;\\n  wire _0380_;\\n  wire _0381_;\\n  wire _0382_;\\n  wire _0383_;\\n  wire _0384_;\\n  wire _0385_;\\n  wire _0386_;\\n  wire _0387_;\\n  wire _0388_;\\n  wire _0389_;\\n  wire _0390_;\\n  wire _0391_;\\n  wire _0392_;\\n  wire _0393_;\\n  wire _0394_;\\n  wire _0395_;\\n  wire _0396_;\\n  wire _0397_;\\n  wire _0398_;\\n  wire _0399_;\\n  wire _0400_;\\n  wire _0401_;\\n  wire _0402_;\\n  wire _0403_;\\n  wire _0404_;\\n  wire _0405_;\\n  wire _0406_;\\n  wire _0407_;\\n  wire _0408_;\\n  wire _0409_;\\n  wire _0410_;\\n  wire _0411_;\\n  wire _0412_;\\n  wire _0413_;\\n  wire _0414_;\\n  wire _0415_;\\n  wire _0416_;\\n  wire _0417_;\\n  wire _0418_;\\n  wire _0419_;\\n  wire _0420_;\\n  wire _0421_;\\n  wire _0422_;\\n  wire _0423_;\\n  wire _0424_;\\n  wire _0425_;\\n  wire _0426_;\\n  wire _0427_;\\n  wire _0428_;\\n  wire _0429_;\\n  wire _0430_;\\n  wire _0431_;\\n  wire _0432_;\\n  wire _0433_;\\n  wire _0434_;\\n  wire _0435_;\\n  wire _0436_;\\n  wire _0437_;\\n  wire _0438_;\\n  wire _0439_;\\n  wire _0440_;\\n  wire _0441_;\\n  wire _0442_;\\n  wire _0443_;\\n  wire _0444_;\\n  wire _0445_;\\n  wire _0446_;\\n  (* src = \"../riscv/core/riscv/riscv_mmu.v:162.19-162.35\" *)\\n  wire _0447_;\\n  wire _0448_;\\n  wire _0449_;\\n  wire _0450_;\\n  wire _0451_;\\n  wire _0452_;\\n  wire _0453_;\\n  wire _0454_;\\n  wire _0455_;\\n  wire _0456_;\\n  wire _0457_;\\n  wire _0458_;\\n  wire _0459_;\\n  wire _0460_;\\n  wire _0461_;\\n  wire _0462_;\\n  wire _0463_;\\n  wire _0464_;\\n  wire _0465_;\\n  wire _0466_;\\n  wire _0467_;\\n  wire _0468_;\\n  wire _0469_;\\n  wire _0470_;\\n  wire _0471_;\\n  wire _0472_;\\n  (* src = \"../riscv/core/riscv/riscv_mmu.v:168.20-168.56\" *)\\n  wire _0473_;\\n  (* src = \"../riscv/core/riscv/riscv_mmu.v:168.20-168.56\" *)\\n  wire _0474_;\\n  (* src = \"../riscv/core/riscv/riscv_mmu.v:168.20-168.56\" *)\\n  wire _0475_;\\n  (* src = \"../riscv/core/riscv/riscv_mmu.v:168.20-168.56\" *)\\n  wire _0476_;\\n  (* src = \"../riscv/core/riscv/riscv_mmu.v:56.22-56.27\" *)\\n  input clk_i;\\n  wire clk_i;\\n  (* src = \"../riscv/core/riscv/riscv_mmu.v:88.22-88.39\" *)\\n  output fetch_in_accept_o;\\n  wire fetch_in_accept_o;\\n  (* src = \"../riscv/core/riscv/riscv_mmu.v:90.22-90.38\" *)\\n  output fetch_in_error_o;\\n  wire fetch_in_error_o;\\n  (* src = \"../riscv/core/riscv/riscv_mmu.v:96.22-96.38\" *)\\n  output fetch_in_fault_o;\\n  wire fetch_in_fault_o;\\n  (* src = \"../riscv/core/riscv/riscv_mmu.v:64.22-64.38\" *)\\n  input fetch_in_flush_i;\\n  wire fetch_in_flush_i;\\n  (* src = \"../riscv/core/riscv/riscv_mmu.v:91.22-91.37\" *)\\n  output [31:0] fetch_in_inst_o;\\n  wire [31:0] fetch_in_inst_o;\\n  (* src = \"../riscv/core/riscv/riscv_mmu.v:65.22-65.43\" *)\\n  input fetch_in_invalidate_i;\\n  wire fetch_in_invalidate_i;\\n  (* src = \"../riscv/core/riscv/riscv_mmu.v:66.22-66.35\" *)\\n  input [31:0] fetch_in_pc_i;\\n  wire [31:0] fetch_in_pc_i;\\n  (* src = \"../riscv/core/riscv/riscv_mmu.v:67.22-67.37\" *)\\n  input [1:0] fetch_in_priv_i;\\n  wire [1:0] fetch_in_priv_i;\\n  (* src = \"../riscv/core/riscv/riscv_mmu.v:63.22-63.35\" *)\\n  input fetch_in_rd_i;\\n  wire fetch_in_rd_i;\\n  (* src = \"../riscv/core/riscv/riscv_mmu.v:89.22-89.38\" *)\\n  output fetch_in_valid_o;\\n  wire fetch_in_valid_o;\\n  (* src = \"../riscv/core/riscv/riscv_mmu.v:68.22-68.40\" *)\\n  input fetch_out_accept_i;\\n  wire fetch_out_accept_i;\\n  (* src = \"../riscv/core/riscv/riscv_mmu.v:70.22-70.39\" *)\\n  input fetch_out_error_i;\\n  wire fetch_out_error_i;\\n  (* src = \"../riscv/core/riscv/riscv_mmu.v:93.22-93.39\" *)\\n  output fetch_out_flush_o;\\n  wire fetch_out_flush_o;\\n  (* src = \"../riscv/core/riscv/riscv_mmu.v:71.22-71.38\" *)\\n  input [31:0] fetch_out_inst_i;\\n  wire [31:0] fetch_out_inst_i;\\n  (* src = \"../riscv/core/riscv/riscv_mmu.v:94.22-94.44\" *)\\n  output fetch_out_invalidate_o;\\n  wire fetch_out_invalidate_o;\\n  (* src = \"../riscv/core/riscv/riscv_mmu.v:95.22-95.36\" *)\\n  output [31:0] fetch_out_pc_o;\\n  wire [31:0] fetch_out_pc_o;\\n  (* src = \"../riscv/core/riscv/riscv_mmu.v:92.22-92.36\" *)\\n  output fetch_out_rd_o;\\n  wire fetch_out_rd_o;\\n  (* src = \"../riscv/core/riscv/riscv_mmu.v:69.22-69.39\" *)\\n  input fetch_out_valid_i;\\n  wire fetch_out_valid_i;\\n  (* src = \"../riscv/core/riscv/riscv_mmu.v:61.22-61.29\" *)\\n  input flush_i;\\n  wire flush_i;\\n  (* src = \"../riscv/core/riscv/riscv_mmu.v:363.17-363.29\" *)\\n  (* unused_bits = \"0 5 6 7 8 9\" *)\\n  wire [31:0] \\\\genblk1.dtlb_entry_q ;\\n  (* src = \"../riscv/core/riscv/riscv_mmu.v:206.17-206.28\" *)\\n  wire \\\\genblk1.dtlb_miss_w ;\\n  (* src = \"../riscv/core/riscv/riscv_mmu.v:189.17-189.27\" *)\\n  reg \\\\genblk1.dtlb_req_q ;\\n  (* src = \"../riscv/core/riscv/riscv_mmu.v:362.17-362.31\" *)\\n  reg [31:12] \\\\genblk1.dtlb_va_addr_q ;\\n  (* src = \"../riscv/core/riscv/riscv_mmu.v:361.17-361.29\" *)\\n  reg \\\\genblk1.dtlb_valid_q ;\\n  (* src = \"../riscv/core/riscv/riscv_mmu.v:289.17-289.29\" *)\\n  (* unused_bits = \"0 1 2 5 6 7 8 9\" *)\\n  wire [31:0] \\\\genblk1.itlb_entry_q ;\\n  (* src = \"../riscv/core/riscv/riscv_mmu.v:288.17-288.31\" *)\\n  reg [31:12] \\\\genblk1.itlb_va_addr_q ;\\n  (* src = \"../riscv/core/riscv/riscv_mmu.v:287.17-287.29\" *)\\n  reg \\\\genblk1.itlb_valid_q ;\\n  (* src = \"../riscv/core/riscv/riscv_mmu.v:435.9-435.21\" *)\\n  reg \\\\genblk1.load_fault_q ;\\n  (* src = \"../riscv/core/riscv/riscv_mmu.v:388.9-388.21\" *)\\n  wire \\\\genblk1.load_fault_r ;\\n  (* src = \"../riscv/core/riscv/riscv_mmu.v:155.15-155.21\" *)\\n  reg \\\\genblk1.load_q ;\\n  (* src = \"../riscv/core/riscv/riscv_mmu.v:181.17-181.27\" *)\\n  wire [31:0] \\\\genblk1.lsu_addr_w ;\\n  (* src = \"../riscv/core/riscv/riscv_mmu.v:173.16-173.29\" *)\\n  reg [31:0] \\\\genblk1.lsu_in_addr_q ;\\n  (* src = \"../riscv/core/riscv/riscv_mmu.v:451.17-451.31\" *)\\n  (* unused_bits = \"12 13 14 15 16 17 18 19 20 21 22 23 24 25 26 27 28 29 30 31\" *)\\n  wire [31:0] \\\\genblk1.lsu_out_addr_w ;\\n  (* src = \"../riscv/core/riscv/riscv_mmu.v:452.17-452.34\" *)\\n  wire [31:0] \\\\genblk1.lsu_out_data_wr_w ;\\n  (* src = \"../riscv/core/riscv/riscv_mmu.v:471.17-471.32\" *)\\n  wire \\\\genblk1.lsu_out_flush_w ;\\n  (* src = \"../riscv/core/riscv/riscv_mmu.v:454.17-454.37\" *)\\n  wire \\\\genblk1.lsu_out_invalidate_w ;\\n  (* src = \"../riscv/core/riscv/riscv_mmu.v:470.17-470.34\" *)\\n  wire [10:0] \\\\genblk1.lsu_out_req_tag_w ;\\n  (* src = \"../riscv/core/riscv/riscv_mmu.v:455.17-455.36\" *)\\n  wire \\\\genblk1.lsu_out_writeback_w ;\\n  (* src = \"../riscv/core/riscv/riscv_mmu.v:485.9-485.18\" *)\\n  reg \\\\genblk1.mem_req_q ;\\n  (* src = \"../riscv/core/riscv/riscv_mmu.v:339.9-339.19\" *)\\n  reg \\\\genblk1.pc_fault_q ;\\n  (* src = \"../riscv/core/riscv/riscv_mmu.v:316.9-316.19\" *)\\n  wire \\\\genblk1.pc_fault_r ;\\n  (* src = \"../riscv/core/riscv/riscv_mmu.v:193.17-193.23\" *)\\n  wire [31:0] \\\\genblk1.ptbr_w ;\\n  (* src = \"../riscv/core/riscv/riscv_mmu.v:213.17-213.27\" *)\\n  wire [31:0] \\\\genblk1.pte_addr_q ;\\n  (* src = \"../riscv/core/riscv/riscv_mmu.v:214.17-214.28\" *)\\n  (* unused_bits = \"0 5 6 7 8 9\" *)\\n  wire [31:0] \\\\genblk1.pte_entry_q ;\\n  (* src = \"../riscv/core/riscv/riscv_mmu.v:218.17-218.28\" *)\\n  wire [9:0] \\\\genblk1.pte_flags_w ;\\n  wire [21:0] \\\\genblk1.pte_ppn_w ;\\n  (* src = \"../riscv/core/riscv/riscv_mmu.v:501.10-501.21\" *)\\n  reg \\\\genblk1.read_hold_q ;\\n  (* src = \"../riscv/core/riscv/riscv_mmu.v:209.17-209.31\" *)\\n  (* unused_bits = \"0 1 2 3 4 5 6 7 8 9 10 11\" *)\\n  wire [31:0] \\\\genblk1.request_addr_w ;\\n  (* src = \"../riscv/core/riscv/riscv_mmu.v:148.17-148.28\" *)\\n  wire [31:0] \\\\genblk1.resp_data_w ;\\n  (* src = \"../riscv/core/riscv/riscv_mmu.v:502.10-502.19\" *)\\n  reg \\\\genblk1.src_mmu_q ;\\n  (* src = \"../riscv/core/riscv/riscv_mmu.v:503.10-503.19\" *)\\n  wire \\\\genblk1.src_mmu_w ;\\n  (* src = \"../riscv/core/riscv/riscv_mmu.v:141.23-141.30\" *)\\n  reg [1:0] \\\\genblk1.state_q ;\\n  (* src = \"../riscv/core/riscv/riscv_mmu.v:434.9-434.22\" *)\\n  reg \\\\genblk1.store_fault_q ;\\n  (* src = \"../riscv/core/riscv/riscv_mmu.v:411.9-411.22\" *)\\n  wire \\\\genblk1.store_fault_r ;\\n  (* src = \"../riscv/core/riscv/riscv_mmu.v:156.15-156.22\" *)\\n  reg [3:0] \\\\genblk1.store_q ;\\n  (* src = \"../riscv/core/riscv/riscv_mmu.v:215.17-215.28\" *)\\n  (* unused_bits = \"0 1 2 3 4 5 6 7 8 9 10 11\" *)\\n  wire [31:0] \\\\genblk1.virt_addr_q ;\\n  (* src = \"../riscv/core/riscv/riscv_mmu.v:192.17-192.28\" *)\\n  wire \\\\genblk1.vm_enable_w ;\\n  (* src = \"../riscv/core/riscv/riscv_mmu.v:98.22-98.37\" *)\\n  output lsu_in_accept_o;\\n  wire lsu_in_accept_o;\\n  (* src = \"../riscv/core/riscv/riscv_mmu.v:99.22-99.34\" *)\\n  output lsu_in_ack_o;\\n  wire lsu_in_ack_o;\\n  (* src = \"../riscv/core/riscv/riscv_mmu.v:72.22-72.35\" *)\\n  input [31:0] lsu_in_addr_i;\\n  wire [31:0] lsu_in_addr_i;\\n  (* src = \"../riscv/core/riscv/riscv_mmu.v:76.22-76.40\" *)\\n  input lsu_in_cacheable_i;\\n  wire lsu_in_cacheable_i;\\n  (* src = \"../riscv/core/riscv/riscv_mmu.v:97.22-97.38\" *)\\n  output [31:0] lsu_in_data_rd_o;\\n  wire [31:0] lsu_in_data_rd_o;\\n  (* src = \"../riscv/core/riscv/riscv_mmu.v:73.22-73.38\" *)\\n  input [31:0] lsu_in_data_wr_i;\\n  wire [31:0] lsu_in_data_wr_i;\\n  (* src = \"../riscv/core/riscv/riscv_mmu.v:100.22-100.36\" *)\\n  output lsu_in_error_o;\\n  wire lsu_in_error_o;\\n  (* src = \"../riscv/core/riscv/riscv_mmu.v:80.22-80.36\" *)\\n  input lsu_in_flush_i;\\n  wire lsu_in_flush_i;\\n  (* src = \"../riscv/core/riscv/riscv_mmu.v:78.22-78.41\" *)\\n  input lsu_in_invalidate_i;\\n  wire lsu_in_invalidate_i;\\n  (* src = \"../riscv/core/riscv/riscv_mmu.v:111.22-111.41\" *)\\n  output lsu_in_load_fault_o;\\n  wire lsu_in_load_fault_o;\\n  (* src = \"../riscv/core/riscv/riscv_mmu.v:74.22-74.33\" *)\\n  input lsu_in_rd_i;\\n  wire lsu_in_rd_i;\\n  (* src = \"../riscv/core/riscv/riscv_mmu.v:77.22-77.38\" *)\\n  input [10:0] lsu_in_req_tag_i;\\n  wire [10:0] lsu_in_req_tag_i;\\n  (* src = \"../riscv/core/riscv/riscv_mmu.v:101.22-101.39\" *)\\n  output [10:0] lsu_in_resp_tag_o;\\n  wire [10:0] lsu_in_resp_tag_o;\\n  (* src = \"../riscv/core/riscv/riscv_mmu.v:112.22-112.42\" *)\\n  output lsu_in_store_fault_o;\\n  wire lsu_in_store_fault_o;\\n  (* src = \"../riscv/core/riscv/riscv_mmu.v:75.22-75.33\" *)\\n  input [3:0] lsu_in_wr_i;\\n  wire [3:0] lsu_in_wr_i;\\n  (* src = \"../riscv/core/riscv/riscv_mmu.v:79.22-79.40\" *)\\n  input lsu_in_writeback_i;\\n  wire lsu_in_writeback_i;\\n  (* src = \"../riscv/core/riscv/riscv_mmu.v:82.22-82.38\" *)\\n  input lsu_out_accept_i;\\n  wire lsu_out_accept_i;\\n  (* src = \"../riscv/core/riscv/riscv_mmu.v:83.22-83.35\" *)\\n  input lsu_out_ack_i;\\n  wire lsu_out_ack_i;\\n  (* src = \"../riscv/core/riscv/riscv_mmu.v:102.22-102.36\" *)\\n  output [31:0] lsu_out_addr_o;\\n  wire [31:0] lsu_out_addr_o;\\n  (* src = \"../riscv/core/riscv/riscv_mmu.v:106.22-106.41\" *)\\n  output lsu_out_cacheable_o;\\n  wire lsu_out_cacheable_o;\\n  (* src = \"../riscv/core/riscv/riscv_mmu.v:81.22-81.39\" *)\\n  input [31:0] lsu_out_data_rd_i;\\n  wire [31:0] lsu_out_data_rd_i;\\n  (* src = \"../riscv/core/riscv/riscv_mmu.v:103.22-103.39\" *)\\n  output [31:0] lsu_out_data_wr_o;\\n  wire [31:0] lsu_out_data_wr_o;\\n  (* src = \"../riscv/core/riscv/riscv_mmu.v:84.22-84.37\" *)\\n  input lsu_out_error_i;\\n  wire lsu_out_error_i;\\n  (* src = \"../riscv/core/riscv/riscv_mmu.v:110.22-110.37\" *)\\n  output lsu_out_flush_o;\\n  wire lsu_out_flush_o;\\n  (* src = \"../riscv/core/riscv/riscv_mmu.v:108.22-108.42\" *)\\n  output lsu_out_invalidate_o;\\n  wire lsu_out_invalidate_o;\\n  (* src = \"../riscv/core/riscv/riscv_mmu.v:104.22-104.34\" *)\\n  output lsu_out_rd_o;\\n  wire lsu_out_rd_o;\\n  (* src = \"../riscv/core/riscv/riscv_mmu.v:107.22-107.39\" *)\\n  output [10:0] lsu_out_req_tag_o;\\n  wire [10:0] lsu_out_req_tag_o;\\n  (* src = \"../riscv/core/riscv/riscv_mmu.v:85.22-85.40\" *)\\n  input [10:0] lsu_out_resp_tag_i;\\n  wire [10:0] lsu_out_resp_tag_i;\\n  (* src = \"../riscv/core/riscv/riscv_mmu.v:105.22-105.34\" *)\\n  output [3:0] lsu_out_wr_o;\\n  wire [3:0] lsu_out_wr_o;\\n  (* src = \"../riscv/core/riscv/riscv_mmu.v:109.22-109.41\" *)\\n  output lsu_out_writeback_o;\\n  wire lsu_out_writeback_o;\\n  (* src = \"../riscv/core/riscv/riscv_mmu.v:60.22-60.27\" *)\\n  input mxr_i;\\n  wire mxr_i;\\n  (* src = \"../riscv/core/riscv/riscv_mmu.v:58.22-58.30\" *)\\n  input [1:0] priv_d_i;\\n  wire [1:0] priv_d_i;\\n  (* src = \"../riscv/core/riscv/riscv_mmu.v:57.22-57.27\" *)\\n  input rst_i;\\n  wire rst_i;\\n  (* src = \"../riscv/core/riscv/riscv_mmu.v:62.22-62.28\" *)\\n  input [31:0] satp_i;\\n  wire [31:0] satp_i;\\n  (* src = \"../riscv/core/riscv/riscv_mmu.v:59.22-59.27\" *)\\n  input sum_i;\\n  wire sum_i;\\n  assign _0141_ = ~(\\\\genblk1.load_q  | lsu_in_rd_i);\\n  assign _0142_ = \\\\genblk1.store_q [0] | lsu_in_wr_i[0];\\n  assign _0143_ = \\\\genblk1.store_q [1] | lsu_in_wr_i[1];\\n  assign _0144_ = _0143_ | _0142_;\\n  assign _0145_ = \\\\genblk1.store_q [2] | lsu_in_wr_i[2];\\n  assign _0146_ = \\\\genblk1.store_q [3] | lsu_in_wr_i[3];\\n  assign _0147_ = _0146_ | _0145_;\\n  assign _0148_ = _0147_ | _0144_;\\n  assign _0149_ = _0141_ & ~(_0148_);\\n  assign \\\\genblk1.lsu_addr_w [0] = _0149_ ? \\\\genblk1.lsu_in_addr_q [0] : lsu_in_addr_i[0];\\n  assign _0150_ = priv_d_i[1] & priv_d_i[0];\\n  assign _0151_ = satp_i[31] & ~(_0150_);\\n  assign _0152_ = ~\\\\genblk1.lsu_in_addr_q [12];\\n  assign _0153_ = ~lsu_in_addr_i[12];\\n  assign _0154_ = _0149_ ? _0152_ : _0153_;\\n  assign _0155_ = ~(_0154_ ^ \\\\genblk1.dtlb_va_addr_q [12]);\\n  assign _0156_ = ~\\\\genblk1.lsu_in_addr_q [13];\\n  assign _0157_ = ~lsu_in_addr_i[13];\\n  assign _0158_ = _0149_ ? _0156_ : _0157_;\\n  assign _0159_ = ~(_0158_ ^ \\\\genblk1.dtlb_va_addr_q [13]);\\n  assign _0160_ = _0159_ | _0155_;\\n  assign _0161_ = ~\\\\genblk1.lsu_in_addr_q [14];\\n  assign _0162_ = ~lsu_in_addr_i[14];\\n  assign _0163_ = _0149_ ? _0161_ : _0162_;\\n  assign _0164_ = ~(_0163_ ^ \\\\genblk1.dtlb_va_addr_q [14]);\\n  assign _0165_ = ~\\\\genblk1.lsu_in_addr_q [15];\\n  assign _0166_ = ~lsu_in_addr_i[15];\\n  assign _0167_ = _0149_ ? _0165_ : _0166_;\\n  assign _0168_ = ~(_0167_ ^ \\\\genblk1.dtlb_va_addr_q [15]);\\n  assign _0169_ = _0168_ | _0164_;\\n  assign _0170_ = _0169_ | _0160_;\\n  assign _0171_ = ~\\\\genblk1.lsu_in_addr_q [16];\\n  assign _0172_ = ~lsu_in_addr_i[16];\\n  assign _0173_ = _0149_ ? _0171_ : _0172_;\\n  assign _0174_ = ~(_0173_ ^ \\\\genblk1.dtlb_va_addr_q [16]);\\n  assign _0175_ = ~\\\\genblk1.lsu_in_addr_q [17];\\n  assign _0176_ = ~lsu_in_addr_i[17];\\n  assign _0177_ = _0149_ ? _0175_ : _0176_;\\n  assign _0178_ = ~(_0177_ ^ \\\\genblk1.dtlb_va_addr_q [17]);\\n  assign _0179_ = _0178_ | _0174_;\\n  assign _0180_ = ~\\\\genblk1.lsu_in_addr_q [18];\\n  assign _0181_ = ~lsu_in_addr_i[18];\\n  assign _0182_ = _0149_ ? _0180_ : _0181_;\\n  assign _0183_ = ~(_0182_ ^ \\\\genblk1.dtlb_va_addr_q [18]);\\n  assign _0184_ = ~\\\\genblk1.lsu_in_addr_q [19];\\n  assign _0185_ = ~lsu_in_addr_i[19];\\n  assign _0186_ = _0149_ ? _0184_ : _0185_;\\n  assign _0187_ = ~(_0186_ ^ \\\\genblk1.dtlb_va_addr_q [19]);\\n  assign _0188_ = _0187_ | _0183_;\\n  assign _0189_ = _0188_ | _0179_;\\n  assign _0190_ = _0189_ | _0170_;\\n  assign _0191_ = ~\\\\genblk1.lsu_in_addr_q [20];\\n  assign _0192_ = ~lsu_in_addr_i[20];\\n  assign _0193_ = _0149_ ? _0191_ : _0192_;\\n  assign _0194_ = ~(_0193_ ^ \\\\genblk1.dtlb_va_addr_q [20]);\\n  assign _0195_ = ~\\\\genblk1.lsu_in_addr_q [21];\\n  assign _0196_ = ~lsu_in_addr_i[21];\\n  assign _0197_ = _0149_ ? _0195_ : _0196_;\\n  assign _0198_ = ~(_0197_ ^ \\\\genblk1.dtlb_va_addr_q [21]);\\n  assign _0199_ = _0198_ | _0194_;\\n  assign _0200_ = ~\\\\genblk1.lsu_in_addr_q [22];\\n  assign _0201_ = ~lsu_in_addr_i[22];\\n  assign _0202_ = _0149_ ? _0200_ : _0201_;\\n  assign _0203_ = ~(_0202_ ^ \\\\genblk1.dtlb_va_addr_q [22]);\\n  assign _0204_ = ~\\\\genblk1.lsu_in_addr_q [23];\\n  assign _0205_ = ~lsu_in_addr_i[23];\\n  assign _0206_ = _0149_ ? _0204_ : _0205_;\\n  assign _0207_ = ~(_0206_ ^ \\\\genblk1.dtlb_va_addr_q [23]);\\n  assign _0208_ = _0207_ | _0203_;\\n  assign _0209_ = _0208_ | _0199_;\\n  assign _0210_ = ~\\\\genblk1.lsu_in_addr_q [24];\\n  assign _0211_ = ~lsu_in_addr_i[24];\\n  assign _0212_ = _0149_ ? _0210_ : _0211_;\\n  assign _0213_ = ~(_0212_ ^ \\\\genblk1.dtlb_va_addr_q [24]);\\n  assign _0214_ = ~\\\\genblk1.lsu_in_addr_q [25];\\n  assign _0215_ = ~lsu_in_addr_i[25];\\n  assign _0216_ = _0149_ ? _0214_ : _0215_;\\n  assign _0217_ = ~(_0216_ ^ \\\\genblk1.dtlb_va_addr_q [25]);\\n  assign _0218_ = _0217_ | _0213_;\\n  assign _0219_ = ~\\\\genblk1.lsu_in_addr_q [26];\\n  assign _0220_ = ~lsu_in_addr_i[26];\\n  assign _0221_ = _0149_ ? _0219_ : _0220_;\\n  assign _0222_ = ~(_0221_ ^ \\\\genblk1.dtlb_va_addr_q [26]);\\n  assign _0223_ = ~\\\\genblk1.lsu_in_addr_q [27];\\n  assign _0224_ = ~lsu_in_addr_i[27];\\n  assign _0225_ = _0149_ ? _0223_ : _0224_;\\n  assign _0226_ = ~(_0225_ ^ \\\\genblk1.dtlb_va_addr_q [27]);\\n  assign _0227_ = _0226_ | _0222_;\\n  assign _0228_ = _0227_ | _0218_;\\n  assign _0229_ = _0228_ | _0209_;\\n  assign _0230_ = _0229_ | _0190_;\\n  assign _0231_ = ~\\\\genblk1.lsu_in_addr_q [28];\\n  assign _0232_ = ~lsu_in_addr_i[28];\\n  assign _0233_ = _0149_ ? _0231_ : _0232_;\\n  assign _0234_ = ~(_0233_ ^ \\\\genblk1.dtlb_va_addr_q [28]);\\n  assign _0235_ = ~\\\\genblk1.lsu_in_addr_q [29];\\n  assign _0236_ = ~lsu_in_addr_i[29];\\n  assign _0237_ = _0149_ ? _0235_ : _0236_;\\n  assign _0238_ = ~(_0237_ ^ \\\\genblk1.dtlb_va_addr_q [29]);\\n  assign _0239_ = _0238_ | _0234_;\\n  assign _0240_ = ~\\\\genblk1.lsu_in_addr_q [30];\\n  assign _0241_ = ~lsu_in_addr_i[30];\\n  assign _0242_ = _0149_ ? _0240_ : _0241_;\\n  assign _0243_ = ~(_0242_ ^ \\\\genblk1.dtlb_va_addr_q [30]);\\n  assign _0244_ = ~\\\\genblk1.lsu_in_addr_q [31];\\n  assign _0245_ = ~lsu_in_addr_i[31];\\n  assign _0246_ = _0149_ ? _0244_ : _0245_;\\n  assign _0247_ = ~(_0246_ ^ \\\\genblk1.dtlb_va_addr_q [31]);\\n  assign _0248_ = _0247_ | _0243_;\\n  assign _0249_ = _0248_ | _0239_;\\n  assign _0250_ = ~(_0249_ | _0230_);\\n  assign _0251_ = ~(_0250_ & \\\\genblk1.dtlb_valid_q );\\n  assign _0252_ = ~(_0151_ & _0148_);\\n  assign _0253_ = ~(_0252_ | _0251_);\\n  assign _0254_ = ~(\\\\genblk1.dtlb_entry_q [1] & \\\\genblk1.dtlb_entry_q [2]);\\n  assign _0255_ = \\\\genblk1.dtlb_entry_q [4] & ~(sum_i);\\n  assign _0256_ = ~_0255_;\\n  assign _0257_ = priv_d_i[0] & ~(priv_d_i[1]);\\n  assign _0258_ = _0257_ ? _0256_ : \\\\genblk1.dtlb_entry_q [4];\\n  assign _0259_ = _0258_ & ~(_0254_);\\n  assign \\\\genblk1.store_fault_r  = _0253_ & ~(_0259_);\\n  assign _0260_ = \\\\genblk1.store_fault_r  | _0251_;\\n  assign _0261_ = _0142_ & ~(_0260_);\\n  assign _0262_ = _0151_ ? _0261_ : lsu_in_wr_i[0];\\n  assign \\\\genblk1.src_mmu_w  = \\\\genblk1.read_hold_q  ? \\\\genblk1.src_mmu_q  : \\\\genblk1.mem_req_q ;\\n  assign lsu_out_wr_o[0] = _0262_ & ~(\\\\genblk1.src_mmu_w );\\n  assign _0263_ = _0143_ & ~(_0260_);\\n  assign _0264_ = _0151_ ? _0263_ : lsu_in_wr_i[1];\\n  assign lsu_out_wr_o[1] = _0264_ & ~(\\\\genblk1.src_mmu_w );\\n  assign _0265_ = _0145_ & ~(_0260_);\\n  assign _0266_ = _0151_ ? _0265_ : lsu_in_wr_i[2];\\n  assign lsu_out_wr_o[2] = _0266_ & ~(\\\\genblk1.src_mmu_w );\\n  assign _0267_ = _0146_ & ~(_0260_);\\n  assign _0268_ = _0151_ ? _0267_ : lsu_in_wr_i[3];\\n  assign lsu_out_wr_o[3] = _0268_ & ~(\\\\genblk1.src_mmu_w );\\n  assign _0269_ = ~(_0251_ | _0141_);\\n  assign _0270_ = _0141_ | ~(_0151_);\\n  assign _0271_ = ~(_0270_ | _0251_);\\n  assign _0272_ = ~(\\\\genblk1.dtlb_entry_q [3] & mxr_i);\\n  assign _0273_ = _0272_ & ~(\\\\genblk1.dtlb_entry_q [1]);\\n  assign _0274_ = _0256_ & ~(_0273_);\\n  assign _0275_ = \\\\genblk1.dtlb_entry_q [1] & \\\\genblk1.dtlb_entry_q [4];\\n  assign _0276_ = _0257_ ? _0274_ : _0275_;\\n  assign \\\\genblk1.load_fault_r  = _0271_ & ~(_0276_);\\n  assign _0277_ = _0269_ & ~(\\\\genblk1.load_fault_r );\\n  assign _0278_ = _0151_ ? _0277_ : lsu_in_rd_i;\\n  assign lsu_out_rd_o = \\\\genblk1.src_mmu_w  ? \\\\genblk1.mem_req_q  : _0278_;\\n  assign _0279_ = lsu_out_wr_o[1] | lsu_out_wr_o[0];\\n  assign _0280_ = lsu_out_wr_o[3] | lsu_out_wr_o[2];\\n  assign _0281_ = _0280_ | _0279_;\\n  assign _0282_ = _0281_ | lsu_out_rd_o;\\n  assign _0004_ = _0282_ & ~(lsu_out_accept_i);\\n  assign _0010_ = _0282_ | lsu_out_accept_i;\\n  assign _0283_ = lsu_out_resp_tag_i[8] & lsu_out_resp_tag_i[7];\\n  assign _0284_ = ~(_0283_ & lsu_out_resp_tag_i[9]);\\n  assign _0285_ = lsu_out_error_i & ~(_0284_);\\n  assign _0286_ = lsu_out_data_rd_i[0] & ~(_0285_);\\n  assign _0287_ = \\\\genblk1.state_q [1] | ~(\\\\genblk1.state_q [0]);\\n  assign _0288_ = ~lsu_out_ack_i;\\n  assign _0289_ = _0284_ | _0288_;\\n  assign _0290_ = _0289_ | _0287_;\\n  assign _0291_ = _0290_ | _0286_;\\n  assign _0292_ = ~(\\\\genblk1.state_q [1] | \\\\genblk1.state_q [0]);\\n  assign _0293_ = fetch_in_priv_i[1] & fetch_in_priv_i[0];\\n  assign _0294_ = _0293_ | ~(fetch_in_rd_i);\\n  assign _0295_ = \\\\genblk1.itlb_valid_q  & fetch_in_rd_i;\\n  assign _0296_ = \\\\genblk1.itlb_va_addr_q [12] ^ fetch_in_pc_i[12];\\n  assign _0297_ = \\\\genblk1.itlb_va_addr_q [13] ^ fetch_in_pc_i[13];\\n  assign _0298_ = _0297_ | _0296_;\\n  assign _0299_ = \\\\genblk1.itlb_va_addr_q [14] ^ fetch_in_pc_i[14];\\n  assign _0300_ = \\\\genblk1.itlb_va_addr_q [15] ^ fetch_in_pc_i[15];\\n  assign _0301_ = _0300_ | _0299_;\\n  assign _0302_ = _0301_ | _0298_;\\n  assign _0303_ = \\\\genblk1.itlb_va_addr_q [16] ^ fetch_in_pc_i[16];\\n  assign _0304_ = \\\\genblk1.itlb_va_addr_q [17] ^ fetch_in_pc_i[17];\\n  assign _0305_ = _0304_ | _0303_;\\n  assign _0306_ = \\\\genblk1.itlb_va_addr_q [18] ^ fetch_in_pc_i[18];\\n  assign _0307_ = \\\\genblk1.itlb_va_addr_q [19] ^ fetch_in_pc_i[19];\\n  assign _0308_ = _0307_ | _0306_;\\n  assign _0309_ = _0308_ | _0305_;\\n  assign _0310_ = _0309_ | _0302_;\\n  assign _0311_ = \\\\genblk1.itlb_va_addr_q [20] ^ fetch_in_pc_i[20];\\n  assign _0312_ = \\\\genblk1.itlb_va_addr_q [21] ^ fetch_in_pc_i[21];\\n  assign _0313_ = _0312_ | _0311_;\\n  assign _0314_ = \\\\genblk1.itlb_va_addr_q [22] ^ fetch_in_pc_i[22];\\n  assign _0315_ = \\\\genblk1.itlb_va_addr_q [23] ^ fetch_in_pc_i[23];\\n  assign _0316_ = _0315_ | _0314_;\\n  assign _0317_ = _0316_ | _0313_;\\n  assign _0318_ = \\\\genblk1.itlb_va_addr_q [24] ^ fetch_in_pc_i[24];\\n  assign _0319_ = \\\\genblk1.itlb_va_addr_q [25] ^ fetch_in_pc_i[25];\\n  assign _0320_ = _0319_ | _0318_;\\n  assign _0321_ = \\\\genblk1.itlb_va_addr_q [26] ^ fetch_in_pc_i[26];\\n  assign _0322_ = \\\\genblk1.itlb_va_addr_q [27] ^ fetch_in_pc_i[27];\\n  assign _0323_ = _0322_ | _0321_;\\n  assign _0324_ = _0323_ | _0320_;\\n  assign _0325_ = _0324_ | _0317_;\\n  assign _0326_ = _0325_ | _0310_;\\n  assign _0327_ = \\\\genblk1.itlb_va_addr_q [28] ^ fetch_in_pc_i[28];\\n  assign _0328_ = \\\\genblk1.itlb_va_addr_q [29] ^ fetch_in_pc_i[29];\\n  assign _0329_ = _0328_ | _0327_;\\n  assign _0330_ = \\\\genblk1.itlb_va_addr_q [30] ^ fetch_in_pc_i[30];\\n  assign _0331_ = \\\\genblk1.itlb_va_addr_q [31] ^ fetch_in_pc_i[31];\\n  assign _0332_ = _0331_ | _0330_;\\n  assign _0333_ = _0332_ | _0329_;\\n  assign _0334_ = _0333_ | _0326_;\\n  assign _0335_ = _0295_ & ~(_0334_);\\n  assign _0336_ = _0335_ | _0294_;\\n  assign _0337_ = _0149_ | ~(_0151_);\\n  assign _0338_ = _0337_ | ~(_0251_);\\n  assign _0339_ = _0338_ & _0336_;\\n  assign _0340_ = _0339_ | ~(_0292_);\\n  assign _0341_ = _0291_ | ~(_0340_);\\n  assign _0342_ = _0340_ & _0290_;\\n  assign _0343_ = _0341_ & ~(_0342_);\\n  assign _0344_ = lsu_out_data_rd_i[2] | lsu_out_data_rd_i[1];\\n  assign _0345_ = ~(_0344_ | lsu_out_data_rd_i[3]);\\n  assign _0346_ = _0286_ & ~(_0345_);\\n  assign _0347_ = _0290_ | ~(_0340_);\\n  assign _0348_ = _0346_ & ~(_0347_);\\n  assign _0011_ = _0343_ & ~(_0348_);\\n  assign _0349_ = ~\\\\genblk1.dtlb_req_q ;\\n  assign _0350_ = ~(\\\\genblk1.state_q [1] & \\\\genblk1.state_q [0]);\\n  assign _0013_ = _0349_ & ~(_0350_);\\n  assign _0351_ = _0349_ & ~(_0292_);\\n  assign _0352_ = _0351_ | _0013_;\\n  assign _0007_ = _0352_ | flush_i;\\n  assign _0353_ = ~(_0290_ | _0285_);\\n  assign _0354_ = ~(_0353_ & lsu_out_data_rd_i[0]);\\n  assign _0355_ = _0345_ & ~(_0354_);\\n  assign _0002_ = _0355_ | ~(_0340_);\\n  assign _0356_ = \\\\genblk1.src_mmu_w  & lsu_out_accept_i;\\n  assign _0009_ = _0356_ | _0002_;\\n  assign _0014_ = \\\\genblk1.dtlb_req_q  & ~(_0350_);\\n  assign _0008_ = _0014_ | flush_i;\\n  assign _0357_ = \\\\genblk1.state_q [0] | ~(\\\\genblk1.state_q [1]);\\n  assign _0358_ = ~(_0357_ | _0289_);\\n  assign _0359_ = _0350_ & ~(_0358_);\\n  assign _0006_ = ~(_0359_ & _0342_);\\n  assign _0360_ = _0345_ & _0286_;\\n  assign _0361_ = ~_0360_;\\n  assign _0362_ = _0290_ ? _0358_ : _0361_;\\n  assign _0012_ = _0362_ & _0340_;\\n  assign _0363_ = lsu_in_wr_i[1] | lsu_in_wr_i[0];\\n  assign _0364_ = lsu_in_wr_i[3] | lsu_in_wr_i[2];\\n  assign _0472_ = _0364_ | _0363_;\\n  assign _0365_ = _0293_ & fetch_in_rd_i;\\n  assign _0366_ = _0335_ & ~(_0293_);\\n  assign _0367_ = fetch_in_priv_i[1] | ~(fetch_in_priv_i[0]);\\n  assign _0368_ = _0367_ ^ \\\\genblk1.itlb_entry_q [4];\\n  assign _0369_ = \\\\genblk1.itlb_entry_q [3] & ~(_0368_);\\n  assign \\\\genblk1.pc_fault_r  = _0366_ & ~(_0369_);\\n  assign _0370_ = _0335_ & ~(\\\\genblk1.pc_fault_r );\\n  assign fetch_out_rd_o = _0370_ | _0365_;\\n  assign \\\\genblk1.dtlb_miss_w  = ~_0338_;\\n  assign lsu_out_addr_o[0] = \\\\genblk1.lsu_addr_w [0] & ~(\\\\genblk1.src_mmu_w );\\n  assign \\\\genblk1.lsu_addr_w [1] = _0149_ ? \\\\genblk1.lsu_in_addr_q [1] : lsu_in_addr_i[1];\\n  assign lsu_out_addr_o[1] = \\\\genblk1.lsu_addr_w [1] & ~(\\\\genblk1.src_mmu_w );\\n  assign \\\\genblk1.lsu_addr_w [2] = _0149_ ? \\\\genblk1.lsu_in_addr_q [2] : lsu_in_addr_i[2];\\n  assign lsu_out_addr_o[2] = \\\\genblk1.src_mmu_w  ? \\\\genblk1.pte_addr_q [2] : \\\\genblk1.lsu_addr_w [2];\\n  assign \\\\genblk1.lsu_addr_w [3] = _0149_ ? \\\\genblk1.lsu_in_addr_q [3] : lsu_in_addr_i[3];\\n  assign lsu_out_addr_o[3] = \\\\genblk1.src_mmu_w  ? \\\\genblk1.pte_addr_q [3] : \\\\genblk1.lsu_addr_w [3];\\n  assign \\\\genblk1.lsu_addr_w [4] = _0149_ ? \\\\genblk1.lsu_in_addr_q [4] : lsu_in_addr_i[4];\\n  assign lsu_out_addr_o[4] = \\\\genblk1.src_mmu_w  ? \\\\genblk1.pte_addr_q [4] : \\\\genblk1.lsu_addr_w [4];\\n  assign \\\\genblk1.lsu_addr_w [5] = _0149_ ? \\\\genblk1.lsu_in_addr_q [5] : lsu_in_addr_i[5];\\n  assign lsu_out_addr_o[5] = \\\\genblk1.src_mmu_w  ? \\\\genblk1.pte_addr_q [5] : \\\\genblk1.lsu_addr_w [5];\\n  assign \\\\genblk1.lsu_addr_w [6] = _0149_ ? \\\\genblk1.lsu_in_addr_q [6] : lsu_in_addr_i[6];\\n  assign lsu_out_addr_o[6] = \\\\genblk1.src_mmu_w  ? \\\\genblk1.pte_addr_q [6] : \\\\genblk1.lsu_addr_w [6];\\n  assign \\\\genblk1.lsu_addr_w [7] = _0149_ ? \\\\genblk1.lsu_in_addr_q [7] : lsu_in_addr_i[7];\\n  assign lsu_out_addr_o[7] = \\\\genblk1.src_mmu_w  ? \\\\genblk1.pte_addr_q [7] : \\\\genblk1.lsu_addr_w [7];\\n  assign \\\\genblk1.lsu_addr_w [8] = _0149_ ? \\\\genblk1.lsu_in_addr_q [8] : lsu_in_addr_i[8];\\n  assign lsu_out_addr_o[8] = \\\\genblk1.src_mmu_w  ? \\\\genblk1.pte_addr_q [8] : \\\\genblk1.lsu_addr_w [8];\\n  assign \\\\genblk1.lsu_addr_w [9] = _0149_ ? \\\\genblk1.lsu_in_addr_q [9] : lsu_in_addr_i[9];\\n  assign lsu_out_addr_o[9] = \\\\genblk1.src_mmu_w  ? \\\\genblk1.pte_addr_q [9] : \\\\genblk1.lsu_addr_w [9];\\n  assign \\\\genblk1.lsu_addr_w [10] = _0149_ ? \\\\genblk1.lsu_in_addr_q [10] : lsu_in_addr_i[10];\\n  assign lsu_out_addr_o[10] = \\\\genblk1.src_mmu_w  ? \\\\genblk1.pte_addr_q [10] : \\\\genblk1.lsu_addr_w [10];\\n  assign \\\\genblk1.lsu_addr_w [11] = _0149_ ? \\\\genblk1.lsu_in_addr_q [11] : lsu_in_addr_i[11];\\n  assign lsu_out_addr_o[11] = \\\\genblk1.src_mmu_w  ? \\\\genblk1.pte_addr_q [11] : \\\\genblk1.lsu_addr_w [11];\\n  assign \\\\genblk1.lsu_addr_w [12] = ~_0154_;\\n  assign _0371_ = _0151_ ? \\\\genblk1.dtlb_entry_q [12] : \\\\genblk1.lsu_addr_w [12];\\n  assign lsu_out_addr_o[12] = \\\\genblk1.src_mmu_w  ? \\\\genblk1.pte_addr_q [12] : _0371_;\\n  assign \\\\genblk1.lsu_addr_w [13] = ~_0158_;\\n  assign _0372_ = _0151_ ? \\\\genblk1.dtlb_entry_q [13] : \\\\genblk1.lsu_addr_w [13];\\n  assign lsu_out_addr_o[13] = \\\\genblk1.src_mmu_w  ? \\\\genblk1.pte_addr_q [13] : _0372_;\\n  assign \\\\genblk1.lsu_addr_w [14] = ~_0163_;\\n  assign _0373_ = _0151_ ? \\\\genblk1.dtlb_entry_q [14] : \\\\genblk1.lsu_addr_w [14];\\n  assign lsu_out_addr_o[14] = \\\\genblk1.src_mmu_w  ? \\\\genblk1.pte_addr_q [14] : _0373_;\\n  assign \\\\genblk1.lsu_addr_w [15] = ~_0167_;\\n  assign _0374_ = _0151_ ? \\\\genblk1.dtlb_entry_q [15] : \\\\genblk1.lsu_addr_w [15];\\n  assign lsu_out_addr_o[15] = \\\\genblk1.src_mmu_w  ? \\\\genblk1.pte_addr_q [15] : _0374_;\\n  assign \\\\genblk1.lsu_addr_w [16] = ~_0173_;\\n  assign _0375_ = _0151_ ? \\\\genblk1.dtlb_entry_q [16] : \\\\genblk1.lsu_addr_w [16];\\n  assign lsu_out_addr_o[16] = \\\\genblk1.src_mmu_w  ? \\\\genblk1.pte_addr_q [16] : _0375_;\\n  assign \\\\genblk1.lsu_addr_w [17] = ~_0177_;\\n  assign _0376_ = _0151_ ? \\\\genblk1.dtlb_entry_q [17] : \\\\genblk1.lsu_addr_w [17];\\n  assign lsu_out_addr_o[17] = \\\\genblk1.src_mmu_w  ? \\\\genblk1.pte_addr_q [17] : _0376_;\\n  assign \\\\genblk1.lsu_addr_w [18] = ~_0182_;\\n  assign _0377_ = _0151_ ? \\\\genblk1.dtlb_entry_q [18] : \\\\genblk1.lsu_addr_w [18];\\n  assign lsu_out_addr_o[18] = \\\\genblk1.src_mmu_w  ? \\\\genblk1.pte_addr_q [18] : _0377_;\\n  assign \\\\genblk1.lsu_addr_w [19] = ~_0186_;\\n  assign _0378_ = _0151_ ? \\\\genblk1.dtlb_entry_q [19] : \\\\genblk1.lsu_addr_w [19];\\n  assign lsu_out_addr_o[19] = \\\\genblk1.src_mmu_w  ? \\\\genblk1.pte_addr_q [19] : _0378_;\\n  assign \\\\genblk1.lsu_addr_w [20] = ~_0193_;\\n  assign _0379_ = _0151_ ? \\\\genblk1.dtlb_entry_q [20] : \\\\genblk1.lsu_addr_w [20];\\n  assign lsu_out_addr_o[20] = \\\\genblk1.src_mmu_w  ? \\\\genblk1.pte_addr_q [20] : _0379_;\\n  assign \\\\genblk1.lsu_addr_w [21] = ~_0197_;\\n  assign _0380_ = _0151_ ? \\\\genblk1.dtlb_entry_q [21] : \\\\genblk1.lsu_addr_w [21];\\n  assign lsu_out_addr_o[21] = \\\\genblk1.src_mmu_w  ? \\\\genblk1.pte_addr_q [21] : _0380_;\\n  assign \\\\genblk1.lsu_addr_w [22] = ~_0202_;\\n  assign _0381_ = _0151_ ? \\\\genblk1.dtlb_entry_q [22] : \\\\genblk1.lsu_addr_w [22];\\n  assign lsu_out_addr_o[22] = \\\\genblk1.src_mmu_w  ? \\\\genblk1.pte_addr_q [22] : _0381_;\\n  assign \\\\genblk1.lsu_addr_w [23] = ~_0206_;\\n  assign _0382_ = _0151_ ? \\\\genblk1.dtlb_entry_q [23] : \\\\genblk1.lsu_addr_w [23];\\n  assign lsu_out_addr_o[23] = \\\\genblk1.src_mmu_w  ? \\\\genblk1.pte_addr_q [23] : _0382_;\\n  assign \\\\genblk1.lsu_addr_w [24] = ~_0212_;\\n  assign _0383_ = _0151_ ? \\\\genblk1.dtlb_entry_q [24] : \\\\genblk1.lsu_addr_w [24];\\n  assign lsu_out_addr_o[24] = \\\\genblk1.src_mmu_w  ? \\\\genblk1.pte_addr_q [24] : _0383_;\\n  assign \\\\genblk1.lsu_addr_w [25] = ~_0216_;\\n  assign _0384_ = _0151_ ? \\\\genblk1.dtlb_entry_q [25] : \\\\genblk1.lsu_addr_w [25];\\n  assign lsu_out_addr_o[25] = \\\\genblk1.src_mmu_w  ? \\\\genblk1.pte_addr_q [25] : _0384_;\\n  assign \\\\genblk1.lsu_addr_w [26] = ~_0221_;\\n  assign _0385_ = _0151_ ? \\\\genblk1.dtlb_entry_q [26] : \\\\genblk1.lsu_addr_w [26];\\n  assign lsu_out_addr_o[26] = \\\\genblk1.src_mmu_w  ? \\\\genblk1.pte_addr_q [26] : _0385_;\\n  assign \\\\genblk1.lsu_addr_w [27] = ~_0225_;\\n  assign _0386_ = _0151_ ? \\\\genblk1.dtlb_entry_q [27] : \\\\genblk1.lsu_addr_w [27];\\n  assign lsu_out_addr_o[27] = \\\\genblk1.src_mmu_w  ? \\\\genblk1.pte_addr_q [27] : _0386_;\\n  assign \\\\genblk1.lsu_addr_w [28] = ~_0233_;\\n  assign _0387_ = _0151_ ? \\\\genblk1.dtlb_entry_q [28] : \\\\genblk1.lsu_addr_w [28];\\n  assign lsu_out_addr_o[28] = \\\\genblk1.src_mmu_w  ? \\\\genblk1.pte_addr_q [28] : _0387_;\\n  assign \\\\genblk1.lsu_addr_w [29] = ~_0237_;\\n  assign _0388_ = _0151_ ? \\\\genblk1.dtlb_entry_q [29] : \\\\genblk1.lsu_addr_w [29];\\n  assign lsu_out_addr_o[29] = \\\\genblk1.src_mmu_w  ? \\\\genblk1.pte_addr_q [29] : _0388_;\\n  assign \\\\genblk1.lsu_addr_w [30] = ~_0242_;\\n  assign _0389_ = _0151_ ? \\\\genblk1.dtlb_entry_q [30] : \\\\genblk1.lsu_addr_w [30];\\n  assign lsu_out_addr_o[30] = \\\\genblk1.src_mmu_w  ? \\\\genblk1.pte_addr_q [30] : _0389_;\\n  assign \\\\genblk1.lsu_addr_w [31] = ~_0246_;\\n  assign _0390_ = _0151_ ? \\\\genblk1.dtlb_entry_q [31] : \\\\genblk1.lsu_addr_w [31];\\n  assign lsu_out_addr_o[31] = \\\\genblk1.src_mmu_w  ? \\\\genblk1.pte_addr_q [31] : _0390_;\\n  assign lsu_out_writeback_o = lsu_in_writeback_i & ~(\\\\genblk1.src_mmu_w );\\n  assign lsu_out_req_tag_o[0] = lsu_in_req_tag_i[0] & ~(\\\\genblk1.src_mmu_w );\\n  assign lsu_out_req_tag_o[1] = lsu_in_req_tag_i[1] & ~(\\\\genblk1.src_mmu_w );\\n  assign lsu_out_req_tag_o[2] = lsu_in_req_tag_i[2] & ~(\\\\genblk1.src_mmu_w );\\n  assign lsu_out_req_tag_o[3] = lsu_in_req_tag_i[3] & ~(\\\\genblk1.src_mmu_w );\\n  assign lsu_out_req_tag_o[4] = lsu_in_req_tag_i[4] & ~(\\\\genblk1.src_mmu_w );\\n  assign lsu_out_req_tag_o[5] = lsu_in_req_tag_i[5] & ~(\\\\genblk1.src_mmu_w );\\n  assign lsu_out_req_tag_o[6] = lsu_in_req_tag_i[6] & ~(\\\\genblk1.src_mmu_w );\\n  assign lsu_out_req_tag_o[7] = \\\\genblk1.src_mmu_w  | lsu_in_req_tag_i[7];\\n  assign lsu_out_req_tag_o[8] = \\\\genblk1.src_mmu_w  | lsu_in_req_tag_i[8];\\n  assign lsu_out_req_tag_o[9] = \\\\genblk1.src_mmu_w  | lsu_in_req_tag_i[9];\\n  assign lsu_out_req_tag_o[10] = lsu_in_req_tag_i[10] & ~(\\\\genblk1.src_mmu_w );\\n  assign lsu_out_invalidate_o = lsu_in_invalidate_i & ~(\\\\genblk1.src_mmu_w );\\n  assign lsu_out_flush_o = lsu_in_flush_i & ~(\\\\genblk1.src_mmu_w );\\n  assign fetch_out_pc_o[12] = _0293_ ? fetch_in_pc_i[12] : \\\\genblk1.itlb_entry_q [12];\\n  assign fetch_out_pc_o[13] = _0293_ ? fetch_in_pc_i[13] : \\\\genblk1.itlb_entry_q [13];\\n  assign fetch_out_pc_o[14] = _0293_ ? fetch_in_pc_i[14] : \\\\genblk1.itlb_entry_q [14];\\n  assign fetch_out_pc_o[15] = _0293_ ? fetch_in_pc_i[15] : \\\\genblk1.itlb_entry_q [15];\\n  assign fetch_out_pc_o[16] = _0293_ ? fetch_in_pc_i[16] : \\\\genblk1.itlb_entry_q [16];\\n  assign fetch_out_pc_o[17] = _0293_ ? fetch_in_pc_i[17] : \\\\genblk1.itlb_entry_q [17];\\n  assign fetch_out_pc_o[18] = _0293_ ? fetch_in_pc_i[18] : \\\\genblk1.itlb_entry_q [18];\\n  assign fetch_out_pc_o[19] = _0293_ ? fetch_in_pc_i[19] : \\\\genblk1.itlb_entry_q [19];\\n  assign fetch_out_pc_o[20] = _0293_ ? fetch_in_pc_i[20] : \\\\genblk1.itlb_entry_q [20];\\n  assign fetch_out_pc_o[21] = _0293_ ? fetch_in_pc_i[21] : \\\\genblk1.itlb_entry_q [21];\\n  assign fetch_out_pc_o[22] = _0293_ ? fetch_in_pc_i[22] : \\\\genblk1.itlb_entry_q [22];\\n  assign fetch_out_pc_o[23] = _0293_ ? fetch_in_pc_i[23] : \\\\genblk1.itlb_entry_q [23];\\n  assign fetch_out_pc_o[24] = _0293_ ? fetch_in_pc_i[24] : \\\\genblk1.itlb_entry_q [24];\\n  assign fetch_out_pc_o[25] = _0293_ ? fetch_in_pc_i[25] : \\\\genblk1.itlb_entry_q [25];\\n  assign fetch_out_pc_o[26] = _0293_ ? fetch_in_pc_i[26] : \\\\genblk1.itlb_entry_q [26];\\n  assign fetch_out_pc_o[27] = _0293_ ? fetch_in_pc_i[27] : \\\\genblk1.itlb_entry_q [27];\\n  assign fetch_out_pc_o[28] = _0293_ ? fetch_in_pc_i[28] : \\\\genblk1.itlb_entry_q [28];\\n  assign fetch_out_pc_o[29] = _0293_ ? fetch_in_pc_i[29] : \\\\genblk1.itlb_entry_q [29];\\n  assign fetch_out_pc_o[30] = _0293_ ? fetch_in_pc_i[30] : \\\\genblk1.itlb_entry_q [30];\\n  assign fetch_out_pc_o[31] = _0293_ ? fetch_in_pc_i[31] : \\\\genblk1.itlb_entry_q [31];\\n  assign _0000_ = ~flush_i;\\n  assign _0391_ = _0334_ | ~(_0013_);\\n  assign _0001_ = _0000_ & ~(_0391_);\\n  assign _0392_ = _0338_ ? fetch_in_pc_i[12] : \\\\genblk1.lsu_addr_w [12];\\n  assign _0393_ = \\\\genblk1.dtlb_req_q  ? \\\\genblk1.lsu_addr_w [12] : fetch_in_pc_i[12];\\n  assign \\\\genblk1.request_addr_w [12] = _0292_ ? _0392_ : _0393_;\\n  assign _0394_ = _0338_ ? fetch_in_pc_i[22] : \\\\genblk1.lsu_addr_w [22];\\n  assign _0395_ = \\\\genblk1.dtlb_req_q  ? \\\\genblk1.lsu_addr_w [22] : fetch_in_pc_i[22];\\n  assign \\\\genblk1.request_addr_w [22] = _0292_ ? _0394_ : _0395_;\\n  assign _0003_[2] = _0340_ ? \\\\genblk1.request_addr_w [12] : \\\\genblk1.request_addr_w [22];\\n  assign _0396_ = _0338_ ? fetch_in_pc_i[13] : \\\\genblk1.lsu_addr_w [13];\\n  assign _0397_ = \\\\genblk1.dtlb_req_q  ? \\\\genblk1.lsu_addr_w [13] : fetch_in_pc_i[13];\\n  assign \\\\genblk1.request_addr_w [13] = _0292_ ? _0396_ : _0397_;\\n  assign _0398_ = _0338_ ? fetch_in_pc_i[23] : \\\\genblk1.lsu_addr_w [23];\\n  assign _0399_ = \\\\genblk1.dtlb_req_q  ? \\\\genblk1.lsu_addr_w [23] : fetch_in_pc_i[23];\\n  assign \\\\genblk1.request_addr_w [23] = _0292_ ? _0398_ : _0399_;\\n  assign _0003_[3] = _0340_ ? \\\\genblk1.request_addr_w [13] : \\\\genblk1.request_addr_w [23];\\n  assign _0400_ = _0338_ ? fetch_in_pc_i[14] : \\\\genblk1.lsu_addr_w [14];\\n  assign _0401_ = \\\\genblk1.dtlb_req_q  ? \\\\genblk1.lsu_addr_w [14] : fetch_in_pc_i[14];\\n  assign \\\\genblk1.request_addr_w [14] = _0292_ ? _0400_ : _0401_;\\n  assign _0402_ = _0338_ ? fetch_in_pc_i[24] : \\\\genblk1.lsu_addr_w [24];\\n  assign _0403_ = \\\\genblk1.dtlb_req_q  ? \\\\genblk1.lsu_addr_w [24] : fetch_in_pc_i[24];\\n  assign \\\\genblk1.request_addr_w [24] = _0292_ ? _0402_ : _0403_;\\n  assign _0003_[4] = _0340_ ? \\\\genblk1.request_addr_w [14] : \\\\genblk1.request_addr_w [24];\\n  assign _0404_ = _0338_ ? fetch_in_pc_i[15] : \\\\genblk1.lsu_addr_w [15];\\n  assign _0405_ = \\\\genblk1.dtlb_req_q  ? \\\\genblk1.lsu_addr_w [15] : fetch_in_pc_i[15];\\n  assign \\\\genblk1.request_addr_w [15] = _0292_ ? _0404_ : _0405_;\\n  assign _0406_ = _0338_ ? fetch_in_pc_i[25] : \\\\genblk1.lsu_addr_w [25];\\n  assign _0407_ = \\\\genblk1.dtlb_req_q  ? \\\\genblk1.lsu_addr_w [25] : fetch_in_pc_i[25];\\n  assign \\\\genblk1.request_addr_w [25] = _0292_ ? _0406_ : _0407_;\\n  assign _0003_[5] = _0340_ ? \\\\genblk1.request_addr_w [15] : \\\\genblk1.request_addr_w [25];\\n  assign _0408_ = _0338_ ? fetch_in_pc_i[16] : \\\\genblk1.lsu_addr_w [16];\\n  assign _0409_ = \\\\genblk1.dtlb_req_q  ? \\\\genblk1.lsu_addr_w [16] : fetch_in_pc_i[16];\\n  assign \\\\genblk1.request_addr_w [16] = _0292_ ? _0408_ : _0409_;\\n  assign _0410_ = _0338_ ? fetch_in_pc_i[26] : \\\\genblk1.lsu_addr_w [26];\\n  assign _0411_ = \\\\genblk1.dtlb_req_q  ? \\\\genblk1.lsu_addr_w [26] : fetch_in_pc_i[26];\\n  assign \\\\genblk1.request_addr_w [26] = _0292_ ? _0410_ : _0411_;\\n  assign _0003_[6] = _0340_ ? \\\\genblk1.request_addr_w [16] : \\\\genblk1.request_addr_w [26];\\n  assign _0412_ = _0338_ ? fetch_in_pc_i[17] : \\\\genblk1.lsu_addr_w [17];\\n  assign _0413_ = \\\\genblk1.dtlb_req_q  ? \\\\genblk1.lsu_addr_w [17] : fetch_in_pc_i[17];\\n  assign \\\\genblk1.request_addr_w [17] = _0292_ ? _0412_ : _0413_;\\n  assign _0414_ = _0338_ ? fetch_in_pc_i[27] : \\\\genblk1.lsu_addr_w [27];\\n  assign _0415_ = \\\\genblk1.dtlb_req_q  ? \\\\genblk1.lsu_addr_w [27] : fetch_in_pc_i[27];\\n  assign \\\\genblk1.request_addr_w [27] = _0292_ ? _0414_ : _0415_;\\n  assign _0003_[7] = _0340_ ? \\\\genblk1.request_addr_w [17] : \\\\genblk1.request_addr_w [27];\\n  assign _0416_ = _0338_ ? fetch_in_pc_i[18] : \\\\genblk1.lsu_addr_w [18];\\n  assign _0417_ = \\\\genblk1.dtlb_req_q  ? \\\\genblk1.lsu_addr_w [18] : fetch_in_pc_i[18];\\n  assign \\\\genblk1.request_addr_w [18] = _0292_ ? _0416_ : _0417_;\\n  assign _0418_ = _0338_ ? fetch_in_pc_i[28] : \\\\genblk1.lsu_addr_w [28];\\n  assign _0419_ = \\\\genblk1.dtlb_req_q  ? \\\\genblk1.lsu_addr_w [28] : fetch_in_pc_i[28];\\n  assign \\\\genblk1.request_addr_w [28] = _0292_ ? _0418_ : _0419_;\\n  assign _0003_[8] = _0340_ ? \\\\genblk1.request_addr_w [18] : \\\\genblk1.request_addr_w [28];\\n  assign _0420_ = _0338_ ? fetch_in_pc_i[19] : \\\\genblk1.lsu_addr_w [19];\\n  assign _0421_ = \\\\genblk1.dtlb_req_q  ? \\\\genblk1.lsu_addr_w [19] : fetch_in_pc_i[19];\\n  assign \\\\genblk1.request_addr_w [19] = _0292_ ? _0420_ : _0421_;\\n  assign _0422_ = _0338_ ? fetch_in_pc_i[29] : \\\\genblk1.lsu_addr_w [29];\\n  assign _0423_ = \\\\genblk1.dtlb_req_q  ? \\\\genblk1.lsu_addr_w [29] : fetch_in_pc_i[29];\\n  assign \\\\genblk1.request_addr_w [29] = _0292_ ? _0422_ : _0423_;\\n  assign _0003_[9] = _0340_ ? \\\\genblk1.request_addr_w [19] : \\\\genblk1.request_addr_w [29];\\n  assign _0424_ = _0338_ ? fetch_in_pc_i[20] : \\\\genblk1.lsu_addr_w [20];\\n  assign _0425_ = \\\\genblk1.dtlb_req_q  ? \\\\genblk1.lsu_addr_w [20] : fetch_in_pc_i[20];\\n  assign \\\\genblk1.request_addr_w [20] = _0292_ ? _0424_ : _0425_;\\n  assign _0426_ = _0338_ ? fetch_in_pc_i[30] : \\\\genblk1.lsu_addr_w [30];\\n  assign _0427_ = \\\\genblk1.dtlb_req_q  ? \\\\genblk1.lsu_addr_w [30] : fetch_in_pc_i[30];\\n  assign \\\\genblk1.request_addr_w [30] = _0292_ ? _0426_ : _0427_;\\n  assign _0003_[10] = _0340_ ? \\\\genblk1.request_addr_w [20] : \\\\genblk1.request_addr_w [30];\\n  assign _0428_ = _0338_ ? fetch_in_pc_i[21] : \\\\genblk1.lsu_addr_w [21];\\n  assign _0429_ = \\\\genblk1.dtlb_req_q  ? \\\\genblk1.lsu_addr_w [21] : fetch_in_pc_i[21];\\n  assign \\\\genblk1.request_addr_w [21] = _0292_ ? _0428_ : _0429_;\\n  assign _0430_ = _0338_ ? fetch_in_pc_i[31] : \\\\genblk1.lsu_addr_w [31];\\n  assign _0431_ = \\\\genblk1.dtlb_req_q  ? \\\\genblk1.lsu_addr_w [31] : fetch_in_pc_i[31];\\n  assign \\\\genblk1.request_addr_w [31] = _0292_ ? _0430_ : _0431_;\\n  assign _0003_[11] = _0340_ ? \\\\genblk1.request_addr_w [21] : \\\\genblk1.request_addr_w [31];\\n  assign _0003_[12] = _0340_ ? lsu_out_data_rd_i[10] : satp_i[0];\\n  assign _0003_[13] = _0340_ ? lsu_out_data_rd_i[11] : satp_i[1];\\n  assign _0003_[14] = _0340_ ? lsu_out_data_rd_i[12] : satp_i[2];\\n  assign _0003_[15] = _0340_ ? lsu_out_data_rd_i[13] : satp_i[3];\\n  assign _0003_[16] = _0340_ ? lsu_out_data_rd_i[14] : satp_i[4];\\n  assign _0003_[17] = _0340_ ? lsu_out_data_rd_i[15] : satp_i[5];\\n  assign _0003_[18] = _0340_ ? lsu_out_data_rd_i[16] : satp_i[6];\\n  assign _0003_[19] = _0340_ ? lsu_out_data_rd_i[17] : satp_i[7];\\n  assign _0003_[20] = _0340_ ? lsu_out_data_rd_i[18] : satp_i[8];\\n  assign _0003_[21] = _0340_ ? lsu_out_data_rd_i[19] : satp_i[9];\\n  assign _0003_[22] = _0340_ ? lsu_out_data_rd_i[20] : satp_i[10];\\n  assign _0003_[23] = _0340_ ? lsu_out_data_rd_i[21] : satp_i[11];\\n  assign _0003_[24] = _0340_ ? lsu_out_data_rd_i[22] : satp_i[12];\\n  assign _0003_[25] = _0340_ ? lsu_out_data_rd_i[23] : satp_i[13];\\n  assign _0003_[26] = _0340_ ? lsu_out_data_rd_i[24] : satp_i[14];\\n  assign _0003_[27] = _0340_ ? lsu_out_data_rd_i[25] : satp_i[15];\\n  assign _0003_[28] = _0340_ ? lsu_out_data_rd_i[26] : satp_i[16];\\n  assign _0003_[29] = _0340_ ? lsu_out_data_rd_i[27] : satp_i[17];\\n  assign _0003_[30] = _0340_ ? lsu_out_data_rd_i[28] : satp_i[18];\\n  assign _0003_[31] = _0340_ ? lsu_out_data_rd_i[29] : satp_i[19];\\n  assign _0005_[0] = _0362_ | ~(_0340_);\\n  assign _0432_ = _0290_ & ~(_0358_);\\n  assign _0005_[1] = _0340_ & ~(_0432_);\\n  assign _0433_ = lsu_out_data_rd_i[1] & lsu_out_data_rd_i[0];\\n  assign _0434_ = _0286_ & lsu_out_data_rd_i[1];\\n  assign _0456_ = _0290_ ? _0433_ : _0434_;\\n  assign _0435_ = lsu_out_data_rd_i[2] & lsu_out_data_rd_i[0];\\n  assign _0436_ = _0286_ & lsu_out_data_rd_i[2];\\n  assign _0467_ = _0290_ ? _0435_ : _0436_;\\n  assign _0437_ = lsu_out_data_rd_i[3] & lsu_out_data_rd_i[0];\\n  assign _0438_ = _0286_ & lsu_out_data_rd_i[3];\\n  assign _0470_ = _0290_ ? _0437_ : _0438_;\\n  assign _0439_ = lsu_out_data_rd_i[4] & lsu_out_data_rd_i[0];\\n  assign _0440_ = _0286_ & lsu_out_data_rd_i[4];\\n  assign _0471_ = _0290_ ? _0439_ : _0440_;\\n  assign _0441_ = lsu_out_data_rd_i[10] & lsu_out_data_rd_i[0];\\n  assign _0442_ = ~_0286_;\\n  assign _0443_ = ~(\\\\genblk1.request_addr_w [12] | lsu_out_data_rd_i[10]);\\n  assign _0444_ = ~(_0443_ | _0442_);\\n  assign _0448_ = _0290_ ? _0441_ : _0444_;\\n  assign _0445_ = lsu_out_data_rd_i[11] & lsu_out_data_rd_i[0];\\n  assign _0446_ = ~(\\\\genblk1.request_addr_w [13] | lsu_out_data_rd_i[11]);\\n  assign _0015_ = ~(_0446_ | _0442_);\\n  assign _0449_ = _0290_ ? _0445_ : _0015_;\\n  assign _0016_ = lsu_out_data_rd_i[12] & lsu_out_data_rd_i[0];\\n  assign _0017_ = ~(\\\\genblk1.request_addr_w [14] | lsu_out_data_rd_i[12]);\\n  assign _0018_ = ~(_0017_ | _0442_);\\n  assign _0450_ = _0290_ ? _0016_ : _0018_;\\n  assign _0019_ = lsu_out_data_rd_i[13] & lsu_out_data_rd_i[0];\\n  assign _0020_ = ~(\\\\genblk1.request_addr_w [15] | lsu_out_data_rd_i[13]);\\n  assign _0021_ = ~(_0020_ | _0442_);\\n  assign _0451_ = _0290_ ? _0019_ : _0021_;\\n  assign _0022_ = lsu_out_data_rd_i[14] & lsu_out_data_rd_i[0];\\n  assign _0023_ = ~(\\\\genblk1.request_addr_w [16] | lsu_out_data_rd_i[14]);\\n  assign _0024_ = ~(_0023_ | _0442_);\\n  assign _0452_ = _0290_ ? _0022_ : _0024_;\\n  assign _0025_ = lsu_out_data_rd_i[15] & lsu_out_data_rd_i[0];\\n  assign _0026_ = ~(\\\\genblk1.request_addr_w [17] | lsu_out_data_rd_i[15]);\\n  assign _0027_ = ~(_0026_ | _0442_);\\n  assign _0453_ = _0290_ ? _0025_ : _0027_;\\n  assign _0028_ = lsu_out_data_rd_i[16] & lsu_out_data_rd_i[0];\\n  assign _0029_ = ~(\\\\genblk1.request_addr_w [18] | lsu_out_data_rd_i[16]);\\n  assign _0030_ = ~(_0029_ | _0442_);\\n  assign _0454_ = _0290_ ? _0028_ : _0030_;\\n  assign _0031_ = lsu_out_data_rd_i[17] & lsu_out_data_rd_i[0];\\n  assign _0032_ = ~(\\\\genblk1.request_addr_w [19] | lsu_out_data_rd_i[17]);\\n  assign _0033_ = ~(_0032_ | _0442_);\\n  assign _0455_ = _0290_ ? _0031_ : _0033_;\\n  assign _0034_ = lsu_out_data_rd_i[18] & lsu_out_data_rd_i[0];\\n  assign _0035_ = ~(\\\\genblk1.request_addr_w [20] | lsu_out_data_rd_i[18]);\\n  assign _0036_ = ~(_0035_ | _0442_);\\n  assign _0457_ = _0290_ ? _0034_ : _0036_;\\n  assign _0037_ = lsu_out_data_rd_i[19] & lsu_out_data_rd_i[0];\\n  assign _0038_ = ~(\\\\genblk1.request_addr_w [21] | lsu_out_data_rd_i[19]);\\n  assign _0039_ = ~(_0038_ | _0442_);\\n  assign _0458_ = _0290_ ? _0037_ : _0039_;\\n  assign _0040_ = lsu_out_data_rd_i[20] & lsu_out_data_rd_i[0];\\n  assign _0041_ = _0286_ & lsu_out_data_rd_i[20];\\n  assign _0459_ = _0290_ ? _0040_ : _0041_;\\n  assign _0042_ = lsu_out_data_rd_i[21] & lsu_out_data_rd_i[0];\\n  assign _0043_ = _0286_ & lsu_out_data_rd_i[21];\\n  assign _0460_ = _0290_ ? _0042_ : _0043_;\\n  assign _0044_ = lsu_out_data_rd_i[22] & lsu_out_data_rd_i[0];\\n  assign _0045_ = _0286_ & lsu_out_data_rd_i[22];\\n  assign _0461_ = _0290_ ? _0044_ : _0045_;\\n  assign _0046_ = lsu_out_data_rd_i[23] & lsu_out_data_rd_i[0];\\n  assign _0047_ = _0286_ & lsu_out_data_rd_i[23];\\n  assign _0462_ = _0290_ ? _0046_ : _0047_;\\n  assign _0048_ = lsu_out_data_rd_i[24] & lsu_out_data_rd_i[0];\\n  assign _0049_ = _0286_ & lsu_out_data_rd_i[24];\\n  assign _0463_ = _0290_ ? _0048_ : _0049_;\\n  assign _0050_ = lsu_out_data_rd_i[25] & lsu_out_data_rd_i[0];\\n  assign _0051_ = _0286_ & lsu_out_data_rd_i[25];\\n  assign _0464_ = _0290_ ? _0050_ : _0051_;\\n  assign _0052_ = lsu_out_data_rd_i[26] & lsu_out_data_rd_i[0];\\n  assign _0053_ = _0286_ & lsu_out_data_rd_i[26];\\n  assign _0465_ = _0290_ ? _0052_ : _0053_;\\n  assign _0054_ = lsu_out_data_rd_i[27] & lsu_out_data_rd_i[0];\\n  assign _0055_ = _0286_ & lsu_out_data_rd_i[27];\\n  assign _0466_ = _0290_ ? _0054_ : _0055_;\\n  assign _0056_ = lsu_out_data_rd_i[28] & lsu_out_data_rd_i[0];\\n  assign _0057_ = _0286_ & lsu_out_data_rd_i[28];\\n  assign _0468_ = _0290_ ? _0056_ : _0057_;\\n  assign _0058_ = lsu_out_data_rd_i[29] & lsu_out_data_rd_i[0];\\n  assign _0059_ = _0286_ & lsu_out_data_rd_i[29];\\n  assign _0469_ = _0290_ ? _0058_ : _0059_;\\n  assign _0060_ = lsu_out_accept_i & ~(\\\\genblk1.src_mmu_w );\\n  assign _0061_ = _0060_ & ~(_0151_);\\n  assign _0062_ = _0251_ | ~(_0151_);\\n  assign _0063_ = _0060_ & ~(_0062_);\\n  assign _0064_ = _0063_ | _0061_;\\n  assign _0065_ = _0064_ | \\\\genblk1.store_fault_r ;\\n  assign lsu_in_accept_o = _0065_ | \\\\genblk1.load_fault_r ;\\n  assign _0473_ = lsu_in_wr_i[0] & ~(lsu_in_accept_o);\\n  assign _0474_ = lsu_in_wr_i[1] & ~(lsu_in_accept_o);\\n  assign _0475_ = lsu_in_wr_i[2] & ~(lsu_in_accept_o);\\n  assign _0476_ = lsu_in_wr_i[3] & ~(lsu_in_accept_o);\\n  assign _0447_ = ~lsu_in_accept_o;\\n  assign _0066_ = ~(\\\\genblk1.lsu_addr_w [1] | \\\\genblk1.lsu_addr_w [0]);\\n  assign _0067_ = \\\\genblk1.lsu_addr_w [3] | \\\\genblk1.lsu_addr_w [2];\\n  assign _0068_ = _0066_ & ~(_0067_);\\n  assign _0069_ = \\\\genblk1.lsu_addr_w [5] | \\\\genblk1.lsu_addr_w [4];\\n  assign _0070_ = \\\\genblk1.lsu_addr_w [7] | \\\\genblk1.lsu_addr_w [6];\\n  assign _0071_ = _0070_ | _0069_;\\n  assign _0072_ = _0068_ & ~(_0071_);\\n  assign _0073_ = \\\\genblk1.lsu_addr_w [9] | \\\\genblk1.lsu_addr_w [8];\\n  assign _0074_ = \\\\genblk1.lsu_addr_w [11] | \\\\genblk1.lsu_addr_w [10];\\n  assign _0075_ = _0074_ | _0073_;\\n  assign _0076_ = _0372_ | _0371_;\\n  assign _0077_ = _0374_ | _0373_;\\n  assign _0078_ = _0077_ | _0076_;\\n  assign _0079_ = _0078_ | _0075_;\\n  assign _0080_ = _0072_ & ~(_0079_);\\n  assign _0081_ = _0376_ | _0375_;\\n  assign _0082_ = _0378_ | _0377_;\\n  assign _0083_ = _0082_ | _0081_;\\n  assign _0084_ = _0380_ | _0379_;\\n  assign _0085_ = _0382_ | _0381_;\\n  assign _0086_ = _0085_ | _0084_;\\n  assign _0087_ = _0086_ | _0083_;\\n  assign _0088_ = _0384_ | _0383_;\\n  assign _0089_ = _0386_ | _0385_;\\n  assign _0090_ = _0089_ | _0088_;\\n  assign _0091_ = _0390_ & ~(_0389_);\\n  assign _0092_ = ~(_0388_ | _0387_);\\n  assign _0093_ = ~(_0092_ & _0091_);\\n  assign _0094_ = _0093_ | _0090_;\\n  assign _0095_ = _0094_ | _0087_;\\n  assign _0096_ = _0080_ & ~(_0095_);\\n  assign _0097_ = _0096_ | _0390_;\\n  assign _0098_ = ~(_0386_ & _0385_);\\n  assign _0099_ = ~(_0384_ & _0383_);\\n  assign _0100_ = _0099_ | _0098_;\\n  assign _0101_ = _0100_ | _0093_;\\n  assign _0102_ = ~(_0382_ & _0381_);\\n  assign _0103_ = ~(_0380_ & _0379_);\\n  assign _0104_ = _0103_ | _0102_;\\n  assign _0105_ = ~(_0378_ & _0377_);\\n  assign _0106_ = ~(_0376_ & _0375_);\\n  assign _0107_ = _0106_ | _0105_;\\n  assign _0108_ = _0107_ | _0104_;\\n  assign _0109_ = _0108_ | _0101_;\\n  assign _0110_ = ~(_0374_ & _0373_);\\n  assign _0111_ = ~(_0372_ & _0371_);\\n  assign _0112_ = _0111_ | _0110_;\\n  assign _0113_ = ~(\\\\genblk1.lsu_addr_w [11] & \\\\genblk1.lsu_addr_w [10]);\\n  assign _0114_ = ~(\\\\genblk1.lsu_addr_w [9] & \\\\genblk1.lsu_addr_w [8]);\\n  assign _0115_ = _0114_ | _0113_;\\n  assign _0116_ = _0115_ | _0112_;\\n  assign _0117_ = ~(\\\\genblk1.lsu_addr_w [7] & \\\\genblk1.lsu_addr_w [6]);\\n  assign _0118_ = ~(\\\\genblk1.lsu_addr_w [5] & \\\\genblk1.lsu_addr_w [4]);\\n  assign _0119_ = _0118_ | _0117_;\\n  assign _0120_ = ~(\\\\genblk1.lsu_addr_w [3] & \\\\genblk1.lsu_addr_w [2]);\\n  assign _0121_ = ~(\\\\genblk1.lsu_addr_w [1] & \\\\genblk1.lsu_addr_w [0]);\\n  assign _0122_ = _0121_ | _0120_;\\n  assign _0123_ = _0122_ | _0119_;\\n  assign _0124_ = _0123_ | _0116_;\\n  assign _0125_ = _0124_ | _0109_;\\n  assign _0126_ = ~(_0390_ & _0389_);\\n  assign _0127_ = _0091_ & ~(_0092_);\\n  assign _0128_ = _0126_ & ~(_0127_);\\n  assign _0129_ = _0125_ & ~(_0128_);\\n  assign _0130_ = _0097_ & ~(_0129_);\\n  assign _0131_ = lsu_in_writeback_i | lsu_in_invalidate_i;\\n  assign _0132_ = _0131_ | lsu_in_flush_i;\\n  assign _0133_ = _0132_ | _0130_;\\n  assign lsu_out_cacheable_o = _0133_ | \\\\genblk1.src_mmu_w ;\\n  assign _0134_ = _0284_ & lsu_out_error_i;\\n  assign _0135_ = _0134_ | \\\\genblk1.store_fault_q ;\\n  assign lsu_in_error_o = _0135_ | \\\\genblk1.load_fault_q ;\\n  assign _0136_ = _0284_ & ~(_0288_);\\n  assign _0137_ = _0136_ | \\\\genblk1.store_fault_q ;\\n  assign lsu_in_ack_o = _0137_ | \\\\genblk1.load_fault_q ;\\n  assign fetch_in_error_o = fetch_out_error_i & fetch_out_valid_i;\\n  assign fetch_in_valid_o = \\\\genblk1.pc_fault_q  | fetch_out_valid_i;\\n  assign _0138_ = _0293_ & fetch_out_accept_i;\\n  assign _0139_ = _0366_ & fetch_out_accept_i;\\n  assign _0140_ = _0139_ | _0138_;\\n  assign fetch_in_accept_o = _0140_ | \\\\genblk1.pc_fault_r ;\\n  (* src = \"../riscv/core/riscv/riscv_mmu.v:365.5-371.30\" *)\\n  always @(posedge clk_i, posedge rst_i)\\n    if (rst_i) \\\\genblk1.dtlb_valid_q  <= 1\\'h0;\\n    else if (_0008_) \\\\genblk1.dtlb_valid_q  <= _0000_;\\n  (* src = \"../riscv/core/riscv/riscv_mmu.v:301.5-311.8\" *)\\n  always @(posedge clk_i, posedge rst_i)\\n    if (rst_i) \\\\genblk1.itlb_va_addr_q [12] <= 1\\'h0;\\n    else if (_0013_) \\\\genblk1.itlb_va_addr_q [12] <= \\\\genblk1.virt_addr_q [12];\\n  (* src = \"../riscv/core/riscv/riscv_mmu.v:301.5-311.8\" *)\\n  always @(posedge clk_i, posedge rst_i)\\n    if (rst_i) \\\\genblk1.itlb_va_addr_q [13] <= 1\\'h0;\\n    else if (_0013_) \\\\genblk1.itlb_va_addr_q [13] <= \\\\genblk1.virt_addr_q [13];\\n  (* src = \"../riscv/core/riscv/riscv_mmu.v:301.5-311.8\" *)\\n  always @(posedge clk_i, posedge rst_i)\\n    if (rst_i) \\\\genblk1.itlb_va_addr_q [14] <= 1\\'h0;\\n    else if (_0013_) \\\\genblk1.itlb_va_addr_q [14] <= \\\\genblk1.virt_addr_q [14];\\n  (* src = \"../riscv/core/riscv/riscv_mmu.v:301.5-311.8\" *)\\n  always @(posedge clk_i, posedge rst_i)\\n    if (rst_i) \\\\genblk1.itlb_va_addr_q [15] <= 1\\'h0;\\n    else if (_0013_) \\\\genblk1.itlb_va_addr_q [15] <= \\\\genblk1.virt_addr_q [15];\\n  (* src = \"../riscv/core/riscv/riscv_mmu.v:301.5-311.8\" *)\\n  always @(posedge clk_i, posedge rst_i)\\n    if (rst_i) \\\\genblk1.itlb_va_addr_q [16] <= 1\\'h0;\\n    else if (_0013_) \\\\genblk1.itlb_va_addr_q [16] <= \\\\genblk1.virt_addr_q [16];\\n  (* src = \"../riscv/core/riscv/riscv_mmu.v:301.5-311.8\" *)\\n  always @(posedge clk_i, posedge rst_i)\\n    if (rst_i) \\\\genblk1.itlb_va_addr_q [17] <= 1\\'h0;\\n    else if (_0013_) \\\\genblk1.itlb_va_addr_q [17] <= \\\\genblk1.virt_addr_q [17];\\n  (* src = \"../riscv/core/riscv/riscv_mmu.v:301.5-311.8\" *)\\n  always @(posedge clk_i, posedge rst_i)\\n    if (rst_i) \\\\genblk1.itlb_va_addr_q [18] <= 1\\'h0;\\n    else if (_0013_) \\\\genblk1.itlb_va_addr_q [18] <= \\\\genblk1.virt_addr_q [18];\\n  (* src = \"../riscv/core/riscv/riscv_mmu.v:301.5-311.8\" *)\\n  always @(posedge clk_i, posedge rst_i)\\n    if (rst_i) \\\\genblk1.itlb_va_addr_q [19] <= 1\\'h0;\\n    else if (_0013_) \\\\genblk1.itlb_va_addr_q [19] <= \\\\genblk1.virt_addr_q [19];\\n  (* src = \"../riscv/core/riscv/riscv_mmu.v:301.5-311.8\" *)\\n  always @(posedge clk_i, posedge rst_i)\\n    if (rst_i) \\\\genblk1.itlb_va_addr_q [20] <= 1\\'h0;\\n    else if (_0013_) \\\\genblk1.itlb_va_addr_q [20] <= \\\\genblk1.virt_addr_q [20];\\n  (* src = \"../riscv/core/riscv/riscv_mmu.v:301.5-311.8\" *)\\n  always @(posedge clk_i, posedge rst_i)\\n    if (rst_i) \\\\genblk1.itlb_va_addr_q [21] <= 1\\'h0;\\n    else if (_0013_) \\\\genblk1.itlb_va_addr_q [21] <= \\\\genblk1.virt_addr_q [21];\\n  (* src = \"../riscv/core/riscv/riscv_mmu.v:301.5-311.8\" *)\\n  always @(posedge clk_i, posedge rst_i)\\n    if (rst_i) \\\\genblk1.itlb_va_addr_q [22] <= 1\\'h0;\\n    else if (_0013_) \\\\genblk1.itlb_va_addr_q [22] <= \\\\genblk1.virt_addr_q [22];\\n  (* src = \"../riscv/core/riscv/riscv_mmu.v:301.5-311.8\" *)\\n  always @(posedge clk_i, posedge rst_i)\\n    if (rst_i) \\\\genblk1.itlb_va_addr_q [23] <= 1\\'h0;\\n    else if (_0013_) \\\\genblk1.itlb_va_addr_q [23] <= \\\\genblk1.virt_addr_q [23];\\n  (* src = \"../riscv/core/riscv/riscv_mmu.v:301.5-311.8\" *)\\n  always @(posedge clk_i, posedge rst_i)\\n    if (rst_i) \\\\genblk1.itlb_va_addr_q [24] <= 1\\'h0;\\n    else if (_0013_) \\\\genblk1.itlb_va_addr_q [24] <= \\\\genblk1.virt_addr_q [24];\\n  (* src = \"../riscv/core/riscv/riscv_mmu.v:301.5-311.8\" *)\\n  always @(posedge clk_i, posedge rst_i)\\n    if (rst_i) \\\\genblk1.itlb_va_addr_q [25] <= 1\\'h0;\\n    else if (_0013_) \\\\genblk1.itlb_va_addr_q [25] <= \\\\genblk1.virt_addr_q [25];\\n  (* src = \"../riscv/core/riscv/riscv_mmu.v:301.5-311.8\" *)\\n  always @(posedge clk_i, posedge rst_i)\\n    if (rst_i) \\\\genblk1.itlb_va_addr_q [26] <= 1\\'h0;\\n    else if (_0013_) \\\\genblk1.itlb_va_addr_q [26] <= \\\\genblk1.virt_addr_q [26];\\n  (* src = \"../riscv/core/riscv/riscv_mmu.v:301.5-311.8\" *)\\n  always @(posedge clk_i, posedge rst_i)\\n    if (rst_i) \\\\genblk1.itlb_va_addr_q [27] <= 1\\'h0;\\n    else if (_0013_) \\\\genblk1.itlb_va_addr_q [27] <= \\\\genblk1.virt_addr_q [27];\\n  (* src = \"../riscv/core/riscv/riscv_mmu.v:301.5-311.8\" *)\\n  always @(posedge clk_i, posedge rst_i)\\n    if (rst_i) \\\\genblk1.itlb_va_addr_q [28] <= 1\\'h0;\\n    else if (_0013_) \\\\genblk1.itlb_va_addr_q [28] <= \\\\genblk1.virt_addr_q [28];\\n  (* src = \"../riscv/core/riscv/riscv_mmu.v:301.5-311.8\" *)\\n  always @(posedge clk_i, posedge rst_i)\\n    if (rst_i) \\\\genblk1.itlb_va_addr_q [29] <= 1\\'h0;\\n    else if (_0013_) \\\\genblk1.itlb_va_addr_q [29] <= \\\\genblk1.virt_addr_q [29];\\n  (* src = \"../riscv/core/riscv/riscv_mmu.v:301.5-311.8\" *)\\n  always @(posedge clk_i, posedge rst_i)\\n    if (rst_i) \\\\genblk1.itlb_va_addr_q [30] <= 1\\'h0;\\n    else if (_0013_) \\\\genblk1.itlb_va_addr_q [30] <= \\\\genblk1.virt_addr_q [30];\\n  (* src = \"../riscv/core/riscv/riscv_mmu.v:301.5-311.8\" *)\\n  always @(posedge clk_i, posedge rst_i)\\n    if (rst_i) \\\\genblk1.itlb_va_addr_q [31] <= 1\\'h0;\\n    else if (_0013_) \\\\genblk1.itlb_va_addr_q [31] <= \\\\genblk1.virt_addr_q [31];\\n  (* src = \"../riscv/core/riscv/riscv_mmu.v:291.5-299.30\" *)\\n  always @(posedge clk_i, posedge rst_i)\\n    if (rst_i) \\\\genblk1.itlb_valid_q  <= 1\\'h0;\\n    else if (_0007_) \\\\genblk1.itlb_valid_q  <= _0001_;\\n  reg \\\\genblk1.dtlb_entry_q_reg[1] ;\\n  (* src = \"../riscv/core/riscv/riscv_mmu.v:373.5-383.8\" *)\\n  always @(posedge clk_i, posedge rst_i)\\n    if (rst_i) \\\\genblk1.dtlb_entry_q_reg[1]  <= 1\\'h0;\\n    else if (_0014_) \\\\genblk1.dtlb_entry_q_reg[1]  <= \\\\genblk1.pte_entry_q [1];\\n  assign \\\\genblk1.dtlb_entry_q [1] = \\\\genblk1.dtlb_entry_q_reg[1] ;\\n  reg \\\\genblk1.dtlb_entry_q_reg[2] ;\\n  (* src = \"../riscv/core/riscv/riscv_mmu.v:373.5-383.8\" *)\\n  always @(posedge clk_i, posedge rst_i)\\n    if (rst_i) \\\\genblk1.dtlb_entry_q_reg[2]  <= 1\\'h0;\\n    else if (_0014_) \\\\genblk1.dtlb_entry_q_reg[2]  <= \\\\genblk1.pte_entry_q [2];\\n  assign \\\\genblk1.dtlb_entry_q [2] = \\\\genblk1.dtlb_entry_q_reg[2] ;\\n  reg \\\\genblk1.dtlb_entry_q_reg[3] ;\\n  (* src = \"../riscv/core/riscv/riscv_mmu.v:373.5-383.8\" *)\\n  always @(posedge clk_i, posedge rst_i)\\n    if (rst_i) \\\\genblk1.dtlb_entry_q_reg[3]  <= 1\\'h0;\\n    else if (_0014_) \\\\genblk1.dtlb_entry_q_reg[3]  <= \\\\genblk1.pte_entry_q [3];\\n  assign \\\\genblk1.dtlb_entry_q [3] = \\\\genblk1.dtlb_entry_q_reg[3] ;\\n  reg \\\\genblk1.dtlb_entry_q_reg[4] ;\\n  (* src = \"../riscv/core/riscv/riscv_mmu.v:373.5-383.8\" *)\\n  always @(posedge clk_i, posedge rst_i)\\n    if (rst_i) \\\\genblk1.dtlb_entry_q_reg[4]  <= 1\\'h0;\\n    else if (_0014_) \\\\genblk1.dtlb_entry_q_reg[4]  <= \\\\genblk1.pte_entry_q [4];\\n  assign \\\\genblk1.dtlb_entry_q [4] = \\\\genblk1.dtlb_entry_q_reg[4] ;\\n  reg \\\\genblk1.dtlb_entry_q_reg[12] ;\\n  (* src = \"../riscv/core/riscv/riscv_mmu.v:373.5-383.8\" *)\\n  always @(posedge clk_i, posedge rst_i)\\n    if (rst_i) \\\\genblk1.dtlb_entry_q_reg[12]  <= 1\\'h0;\\n    else if (_0014_) \\\\genblk1.dtlb_entry_q_reg[12]  <= \\\\genblk1.pte_entry_q [12];\\n  assign \\\\genblk1.dtlb_entry_q [12] = \\\\genblk1.dtlb_entry_q_reg[12] ;\\n  reg \\\\genblk1.dtlb_entry_q_reg[13] ;\\n  (* src = \"../riscv/core/riscv/riscv_mmu.v:373.5-383.8\" *)\\n  always @(posedge clk_i, posedge rst_i)\\n    if (rst_i) \\\\genblk1.dtlb_entry_q_reg[13]  <= 1\\'h0;\\n    else if (_0014_) \\\\genblk1.dtlb_entry_q_reg[13]  <= \\\\genblk1.pte_entry_q [13];\\n  assign \\\\genblk1.dtlb_entry_q [13] = \\\\genblk1.dtlb_entry_q_reg[13] ;\\n  reg \\\\genblk1.dtlb_entry_q_reg[14] ;\\n  (* src = \"../riscv/core/riscv/riscv_mmu.v:373.5-383.8\" *)\\n  always @(posedge clk_i, posedge rst_i)\\n    if (rst_i) \\\\genblk1.dtlb_entry_q_reg[14]  <= 1\\'h0;\\n    else if (_0014_) \\\\genblk1.dtlb_entry_q_reg[14]  <= \\\\genblk1.pte_entry_q [14];\\n  assign \\\\genblk1.dtlb_entry_q [14] = \\\\genblk1.dtlb_entry_q_reg[14] ;\\n  reg \\\\genblk1.dtlb_entry_q_reg[15] ;\\n  (* src = \"../riscv/core/riscv/riscv_mmu.v:373.5-383.8\" *)\\n  always @(posedge clk_i, posedge rst_i)\\n    if (rst_i) \\\\genblk1.dtlb_entry_q_reg[15]  <= 1\\'h0;\\n    else if (_0014_) \\\\genblk1.dtlb_entry_q_reg[15]  <= \\\\genblk1.pte_entry_q [15];\\n  assign \\\\genblk1.dtlb_entry_q [15] = \\\\genblk1.dtlb_entry_q_reg[15] ;\\n  reg \\\\genblk1.dtlb_entry_q_reg[16] ;\\n  (* src = \"../riscv/core/riscv/riscv_mmu.v:373.5-383.8\" *)\\n  always @(posedge clk_i, posedge rst_i)\\n    if (rst_i) \\\\genblk1.dtlb_entry_q_reg[16]  <= 1\\'h0;\\n    else if (_0014_) \\\\genblk1.dtlb_entry_q_reg[16]  <= \\\\genblk1.pte_entry_q [16];\\n  assign \\\\genblk1.dtlb_entry_q [16] = \\\\genblk1.dtlb_entry_q_reg[16] ;\\n  reg \\\\genblk1.dtlb_entry_q_reg[17] ;\\n  (* src = \"../riscv/core/riscv/riscv_mmu.v:373.5-383.8\" *)\\n  always @(posedge clk_i, posedge rst_i)\\n    if (rst_i) \\\\genblk1.dtlb_entry_q_reg[17]  <= 1\\'h0;\\n    else if (_0014_) \\\\genblk1.dtlb_entry_q_reg[17]  <= \\\\genblk1.pte_entry_q [17];\\n  assign \\\\genblk1.dtlb_entry_q [17] = \\\\genblk1.dtlb_entry_q_reg[17] ;\\n  reg \\\\genblk1.dtlb_entry_q_reg[18] ;\\n  (* src = \"../riscv/core/riscv/riscv_mmu.v:373.5-383.8\" *)\\n  always @(posedge clk_i, posedge rst_i)\\n    if (rst_i) \\\\genblk1.dtlb_entry_q_reg[18]  <= 1\\'h0;\\n    else if (_0014_) \\\\genblk1.dtlb_entry_q_reg[18]  <= \\\\genblk1.pte_entry_q [18];\\n  assign \\\\genblk1.dtlb_entry_q [18] = \\\\genblk1.dtlb_entry_q_reg[18] ;\\n  reg \\\\genblk1.dtlb_entry_q_reg[19] ;\\n  (* src = \"../riscv/core/riscv/riscv_mmu.v:373.5-383.8\" *)\\n  always @(posedge clk_i, posedge rst_i)\\n    if (rst_i) \\\\genblk1.dtlb_entry_q_reg[19]  <= 1\\'h0;\\n    else if (_0014_) \\\\genblk1.dtlb_entry_q_reg[19]  <= \\\\genblk1.pte_entry_q [19];\\n  assign \\\\genblk1.dtlb_entry_q [19] = \\\\genblk1.dtlb_entry_q_reg[19] ;\\n  reg \\\\genblk1.dtlb_entry_q_reg[20] ;\\n  (* src = \"../riscv/core/riscv/riscv_mmu.v:373.5-383.8\" *)\\n  always @(posedge clk_i, posedge rst_i)\\n    if (rst_i) \\\\genblk1.dtlb_entry_q_reg[20]  <= 1\\'h0;\\n    else if (_0014_) \\\\genblk1.dtlb_entry_q_reg[20]  <= \\\\genblk1.pte_entry_q [20];\\n  assign \\\\genblk1.dtlb_entry_q [20] = \\\\genblk1.dtlb_entry_q_reg[20] ;\\n  reg \\\\genblk1.dtlb_entry_q_reg[21] ;\\n  (* src = \"../riscv/core/riscv/riscv_mmu.v:373.5-383.8\" *)\\n  always @(posedge clk_i, posedge rst_i)\\n    if (rst_i) \\\\genblk1.dtlb_entry_q_reg[21]  <= 1\\'h0;\\n    else if (_0014_) \\\\genblk1.dtlb_entry_q_reg[21]  <= \\\\genblk1.pte_entry_q [21];\\n  assign \\\\genblk1.dtlb_entry_q [21] = \\\\genblk1.dtlb_entry_q_reg[21] ;\\n  reg \\\\genblk1.dtlb_entry_q_reg[22] ;\\n  (* src = \"../riscv/core/riscv/riscv_mmu.v:373.5-383.8\" *)\\n  always @(posedge clk_i, posedge rst_i)\\n    if (rst_i) \\\\genblk1.dtlb_entry_q_reg[22]  <= 1\\'h0;\\n    else if (_0014_) \\\\genblk1.dtlb_entry_q_reg[22]  <= \\\\genblk1.pte_entry_q [22];\\n  assign \\\\genblk1.dtlb_entry_q [22] = \\\\genblk1.dtlb_entry_q_reg[22] ;\\n  reg \\\\genblk1.dtlb_entry_q_reg[23] ;\\n  (* src = \"../riscv/core/riscv/riscv_mmu.v:373.5-383.8\" *)\\n  always @(posedge clk_i, posedge rst_i)\\n    if (rst_i) \\\\genblk1.dtlb_entry_q_reg[23]  <= 1\\'h0;\\n    else if (_0014_) \\\\genblk1.dtlb_entry_q_reg[23]  <= \\\\genblk1.pte_entry_q [23];\\n  assign \\\\genblk1.dtlb_entry_q [23] = \\\\genblk1.dtlb_entry_q_reg[23] ;\\n  reg \\\\genblk1.dtlb_entry_q_reg[24] ;\\n  (* src = \"../riscv/core/riscv/riscv_mmu.v:373.5-383.8\" *)\\n  always @(posedge clk_i, posedge rst_i)\\n    if (rst_i) \\\\genblk1.dtlb_entry_q_reg[24]  <= 1\\'h0;\\n    else if (_0014_) \\\\genblk1.dtlb_entry_q_reg[24]  <= \\\\genblk1.pte_entry_q [24];\\n  assign \\\\genblk1.dtlb_entry_q [24] = \\\\genblk1.dtlb_entry_q_reg[24] ;\\n  reg \\\\genblk1.dtlb_entry_q_reg[25] ;\\n  (* src = \"../riscv/core/riscv/riscv_mmu.v:373.5-383.8\" *)\\n  always @(posedge clk_i, posedge rst_i)\\n    if (rst_i) \\\\genblk1.dtlb_entry_q_reg[25]  <= 1\\'h0;\\n    else if (_0014_) \\\\genblk1.dtlb_entry_q_reg[25]  <= \\\\genblk1.pte_entry_q [25];\\n  assign \\\\genblk1.dtlb_entry_q [25] = \\\\genblk1.dtlb_entry_q_reg[25] ;\\n  reg \\\\genblk1.dtlb_entry_q_reg[26] ;\\n  (* src = \"../riscv/core/riscv/riscv_mmu.v:373.5-383.8\" *)\\n  always @(posedge clk_i, posedge rst_i)\\n    if (rst_i) \\\\genblk1.dtlb_entry_q_reg[26]  <= 1\\'h0;\\n    else if (_0014_) \\\\genblk1.dtlb_entry_q_reg[26]  <= \\\\genblk1.pte_entry_q [26];\\n  assign \\\\genblk1.dtlb_entry_q [26] = \\\\genblk1.dtlb_entry_q_reg[26] ;\\n  reg \\\\genblk1.dtlb_entry_q_reg[27] ;\\n  (* src = \"../riscv/core/riscv/riscv_mmu.v:373.5-383.8\" *)\\n  always @(posedge clk_i, posedge rst_i)\\n    if (rst_i) \\\\genblk1.dtlb_entry_q_reg[27]  <= 1\\'h0;\\n    else if (_0014_) \\\\genblk1.dtlb_entry_q_reg[27]  <= \\\\genblk1.pte_entry_q [27];\\n  assign \\\\genblk1.dtlb_entry_q [27] = \\\\genblk1.dtlb_entry_q_reg[27] ;\\n  reg \\\\genblk1.dtlb_entry_q_reg[28] ;\\n  (* src = \"../riscv/core/riscv/riscv_mmu.v:373.5-383.8\" *)\\n  always @(posedge clk_i, posedge rst_i)\\n    if (rst_i) \\\\genblk1.dtlb_entry_q_reg[28]  <= 1\\'h0;\\n    else if (_0014_) \\\\genblk1.dtlb_entry_q_reg[28]  <= \\\\genblk1.pte_entry_q [28];\\n  assign \\\\genblk1.dtlb_entry_q [28] = \\\\genblk1.dtlb_entry_q_reg[28] ;\\n  reg \\\\genblk1.dtlb_entry_q_reg[29] ;\\n  (* src = \"../riscv/core/riscv/riscv_mmu.v:373.5-383.8\" *)\\n  always @(posedge clk_i, posedge rst_i)\\n    if (rst_i) \\\\genblk1.dtlb_entry_q_reg[29]  <= 1\\'h0;\\n    else if (_0014_) \\\\genblk1.dtlb_entry_q_reg[29]  <= \\\\genblk1.pte_entry_q [29];\\n  assign \\\\genblk1.dtlb_entry_q [29] = \\\\genblk1.dtlb_entry_q_reg[29] ;\\n  reg \\\\genblk1.dtlb_entry_q_reg[30] ;\\n  (* src = \"../riscv/core/riscv/riscv_mmu.v:373.5-383.8\" *)\\n  always @(posedge clk_i, posedge rst_i)\\n    if (rst_i) \\\\genblk1.dtlb_entry_q_reg[30]  <= 1\\'h0;\\n    else if (_0014_) \\\\genblk1.dtlb_entry_q_reg[30]  <= \\\\genblk1.pte_entry_q [30];\\n  assign \\\\genblk1.dtlb_entry_q [30] = \\\\genblk1.dtlb_entry_q_reg[30] ;\\n  reg \\\\genblk1.dtlb_entry_q_reg[31] ;\\n  (* src = \"../riscv/core/riscv/riscv_mmu.v:373.5-383.8\" *)\\n  always @(posedge clk_i, posedge rst_i)\\n    if (rst_i) \\\\genblk1.dtlb_entry_q_reg[31]  <= 1\\'h0;\\n    else if (_0014_) \\\\genblk1.dtlb_entry_q_reg[31]  <= \\\\genblk1.pte_entry_q [31];\\n  assign \\\\genblk1.dtlb_entry_q [31] = \\\\genblk1.dtlb_entry_q_reg[31] ;\\n  reg \\\\genblk1.virt_addr_q_reg[12] ;\\n  (* src = \"../riscv/core/riscv/riscv_mmu.v:220.5-282.8\" *)\\n  always @(posedge clk_i, posedge rst_i)\\n    if (rst_i) \\\\genblk1.virt_addr_q_reg[12]  <= 1\\'h0;\\n    else if (!_0340_) \\\\genblk1.virt_addr_q_reg[12]  <= \\\\genblk1.request_addr_w [12];\\n  assign \\\\genblk1.virt_addr_q [12] = \\\\genblk1.virt_addr_q_reg[12] ;\\n  reg \\\\genblk1.virt_addr_q_reg[13] ;\\n  (* src = \"../riscv/core/riscv/riscv_mmu.v:220.5-282.8\" *)\\n  always @(posedge clk_i, posedge rst_i)\\n    if (rst_i) \\\\genblk1.virt_addr_q_reg[13]  <= 1\\'h0;\\n    else if (!_0340_) \\\\genblk1.virt_addr_q_reg[13]  <= \\\\genblk1.request_addr_w [13];\\n  assign \\\\genblk1.virt_addr_q [13] = \\\\genblk1.virt_addr_q_reg[13] ;\\n  reg \\\\genblk1.virt_addr_q_reg[14] ;\\n  (* src = \"../riscv/core/riscv/riscv_mmu.v:220.5-282.8\" *)\\n  always @(posedge clk_i, posedge rst_i)\\n    if (rst_i) \\\\genblk1.virt_addr_q_reg[14]  <= 1\\'h0;\\n    else if (!_0340_) \\\\genblk1.virt_addr_q_reg[14]  <= \\\\genblk1.request_addr_w [14];\\n  assign \\\\genblk1.virt_addr_q [14] = \\\\genblk1.virt_addr_q_reg[14] ;\\n  reg \\\\genblk1.virt_addr_q_reg[15] ;\\n  (* src = \"../riscv/core/riscv/riscv_mmu.v:220.5-282.8\" *)\\n  always @(posedge clk_i, posedge rst_i)\\n    if (rst_i) \\\\genblk1.virt_addr_q_reg[15]  <= 1\\'h0;\\n    else if (!_0340_) \\\\genblk1.virt_addr_q_reg[15]  <= \\\\genblk1.request_addr_w [15];\\n  assign \\\\genblk1.virt_addr_q [15] = \\\\genblk1.virt_addr_q_reg[15] ;\\n  reg \\\\genblk1.virt_addr_q_reg[16] ;\\n  (* src = \"../riscv/core/riscv/riscv_mmu.v:220.5-282.8\" *)\\n  always @(posedge clk_i, posedge rst_i)\\n    if (rst_i) \\\\genblk1.virt_addr_q_reg[16]  <= 1\\'h0;\\n    else if (!_0340_) \\\\genblk1.virt_addr_q_reg[16]  <= \\\\genblk1.request_addr_w [16];\\n  assign \\\\genblk1.virt_addr_q [16] = \\\\genblk1.virt_addr_q_reg[16] ;\\n  reg \\\\genblk1.virt_addr_q_reg[17] ;\\n  (* src = \"../riscv/core/riscv/riscv_mmu.v:220.5-282.8\" *)\\n  always @(posedge clk_i, posedge rst_i)\\n    if (rst_i) \\\\genblk1.virt_addr_q_reg[17]  <= 1\\'h0;\\n    else if (!_0340_) \\\\genblk1.virt_addr_q_reg[17]  <= \\\\genblk1.request_addr_w [17];\\n  assign \\\\genblk1.virt_addr_q [17] = \\\\genblk1.virt_addr_q_reg[17] ;\\n  reg \\\\genblk1.virt_addr_q_reg[18] ;\\n  (* src = \"../riscv/core/riscv/riscv_mmu.v:220.5-282.8\" *)\\n  always @(posedge clk_i, posedge rst_i)\\n    if (rst_i) \\\\genblk1.virt_addr_q_reg[18]  <= 1\\'h0;\\n    else if (!_0340_) \\\\genblk1.virt_addr_q_reg[18]  <= \\\\genblk1.request_addr_w [18];\\n  assign \\\\genblk1.virt_addr_q [18] = \\\\genblk1.virt_addr_q_reg[18] ;\\n  reg \\\\genblk1.virt_addr_q_reg[19] ;\\n  (* src = \"../riscv/core/riscv/riscv_mmu.v:220.5-282.8\" *)\\n  always @(posedge clk_i, posedge rst_i)\\n    if (rst_i) \\\\genblk1.virt_addr_q_reg[19]  <= 1\\'h0;\\n    else if (!_0340_) \\\\genblk1.virt_addr_q_reg[19]  <= \\\\genblk1.request_addr_w [19];\\n  assign \\\\genblk1.virt_addr_q [19] = \\\\genblk1.virt_addr_q_reg[19] ;\\n  reg \\\\genblk1.virt_addr_q_reg[20] ;\\n  (* src = \"../riscv/core/riscv/riscv_mmu.v:220.5-282.8\" *)\\n  always @(posedge clk_i, posedge rst_i)\\n    if (rst_i) \\\\genblk1.virt_addr_q_reg[20]  <= 1\\'h0;\\n    else if (!_0340_) \\\\genblk1.virt_addr_q_reg[20]  <= \\\\genblk1.request_addr_w [20];\\n  assign \\\\genblk1.virt_addr_q [20] = \\\\genblk1.virt_addr_q_reg[20] ;\\n  reg \\\\genblk1.virt_addr_q_reg[21] ;\\n  (* src = \"../riscv/core/riscv/riscv_mmu.v:220.5-282.8\" *)\\n  always @(posedge clk_i, posedge rst_i)\\n    if (rst_i) \\\\genblk1.virt_addr_q_reg[21]  <= 1\\'h0;\\n    else if (!_0340_) \\\\genblk1.virt_addr_q_reg[21]  <= \\\\genblk1.request_addr_w [21];\\n  assign \\\\genblk1.virt_addr_q [21] = \\\\genblk1.virt_addr_q_reg[21] ;\\n  reg \\\\genblk1.virt_addr_q_reg[22] ;\\n  (* src = \"../riscv/core/riscv/riscv_mmu.v:220.5-282.8\" *)\\n  always @(posedge clk_i, posedge rst_i)\\n    if (rst_i) \\\\genblk1.virt_addr_q_reg[22]  <= 1\\'h0;\\n    else if (!_0340_) \\\\genblk1.virt_addr_q_reg[22]  <= \\\\genblk1.request_addr_w [22];\\n  assign \\\\genblk1.virt_addr_q [22] = \\\\genblk1.virt_addr_q_reg[22] ;\\n  reg \\\\genblk1.virt_addr_q_reg[23] ;\\n  (* src = \"../riscv/core/riscv/riscv_mmu.v:220.5-282.8\" *)\\n  always @(posedge clk_i, posedge rst_i)\\n    if (rst_i) \\\\genblk1.virt_addr_q_reg[23]  <= 1\\'h0;\\n    else if (!_0340_) \\\\genblk1.virt_addr_q_reg[23]  <= \\\\genblk1.request_addr_w [23];\\n  assign \\\\genblk1.virt_addr_q [23] = \\\\genblk1.virt_addr_q_reg[23] ;\\n  reg \\\\genblk1.virt_addr_q_reg[24] ;\\n  (* src = \"../riscv/core/riscv/riscv_mmu.v:220.5-282.8\" *)\\n  always @(posedge clk_i, posedge rst_i)\\n    if (rst_i) \\\\genblk1.virt_addr_q_reg[24]  <= 1\\'h0;\\n    else if (!_0340_) \\\\genblk1.virt_addr_q_reg[24]  <= \\\\genblk1.request_addr_w [24];\\n  assign \\\\genblk1.virt_addr_q [24] = \\\\genblk1.virt_addr_q_reg[24] ;\\n  reg \\\\genblk1.virt_addr_q_reg[25] ;\\n  (* src = \"../riscv/core/riscv/riscv_mmu.v:220.5-282.8\" *)\\n  always @(posedge clk_i, posedge rst_i)\\n    if (rst_i) \\\\genblk1.virt_addr_q_reg[25]  <= 1\\'h0;\\n    else if (!_0340_) \\\\genblk1.virt_addr_q_reg[25]  <= \\\\genblk1.request_addr_w [25];\\n  assign \\\\genblk1.virt_addr_q [25] = \\\\genblk1.virt_addr_q_reg[25] ;\\n  reg \\\\genblk1.virt_addr_q_reg[26] ;\\n  (* src = \"../riscv/core/riscv/riscv_mmu.v:220.5-282.8\" *)\\n  always @(posedge clk_i, posedge rst_i)\\n    if (rst_i) \\\\genblk1.virt_addr_q_reg[26]  <= 1\\'h0;\\n    else if (!_0340_) \\\\genblk1.virt_addr_q_reg[26]  <= \\\\genblk1.request_addr_w [26];\\n  assign \\\\genblk1.virt_addr_q [26] = \\\\genblk1.virt_addr_q_reg[26] ;\\n  reg \\\\genblk1.virt_addr_q_reg[27] ;\\n  (* src = \"../riscv/core/riscv/riscv_mmu.v:220.5-282.8\" *)\\n  always @(posedge clk_i, posedge rst_i)\\n    if (rst_i) \\\\genblk1.virt_addr_q_reg[27]  <= 1\\'h0;\\n    else if (!_0340_) \\\\genblk1.virt_addr_q_reg[27]  <= \\\\genblk1.request_addr_w [27];\\n  assign \\\\genblk1.virt_addr_q [27] = \\\\genblk1.virt_addr_q_reg[27] ;\\n  reg \\\\genblk1.virt_addr_q_reg[28] ;\\n  (* src = \"../riscv/core/riscv/riscv_mmu.v:220.5-282.8\" *)\\n  always @(posedge clk_i, posedge rst_i)\\n    if (rst_i) \\\\genblk1.virt_addr_q_reg[28]  <= 1\\'h0;\\n    else if (!_0340_) \\\\genblk1.virt_addr_q_reg[28]  <= \\\\genblk1.request_addr_w [28];\\n  assign \\\\genblk1.virt_addr_q [28] = \\\\genblk1.virt_addr_q_reg[28] ;\\n  reg \\\\genblk1.virt_addr_q_reg[29] ;\\n  (* src = \"../riscv/core/riscv/riscv_mmu.v:220.5-282.8\" *)\\n  always @(posedge clk_i, posedge rst_i)\\n    if (rst_i) \\\\genblk1.virt_addr_q_reg[29]  <= 1\\'h0;\\n    else if (!_0340_) \\\\genblk1.virt_addr_q_reg[29]  <= \\\\genblk1.request_addr_w [29];\\n  assign \\\\genblk1.virt_addr_q [29] = \\\\genblk1.virt_addr_q_reg[29] ;\\n  reg \\\\genblk1.virt_addr_q_reg[30] ;\\n  (* src = \"../riscv/core/riscv/riscv_mmu.v:220.5-282.8\" *)\\n  always @(posedge clk_i, posedge rst_i)\\n    if (rst_i) \\\\genblk1.virt_addr_q_reg[30]  <= 1\\'h0;\\n    else if (!_0340_) \\\\genblk1.virt_addr_q_reg[30]  <= \\\\genblk1.request_addr_w [30];\\n  assign \\\\genblk1.virt_addr_q [30] = \\\\genblk1.virt_addr_q_reg[30] ;\\n  reg \\\\genblk1.virt_addr_q_reg[31] ;\\n  (* src = \"../riscv/core/riscv/riscv_mmu.v:220.5-282.8\" *)\\n  always @(posedge clk_i, posedge rst_i)\\n    if (rst_i) \\\\genblk1.virt_addr_q_reg[31]  <= 1\\'h0;\\n    else if (!_0340_) \\\\genblk1.virt_addr_q_reg[31]  <= \\\\genblk1.request_addr_w [31];\\n  assign \\\\genblk1.virt_addr_q [31] = \\\\genblk1.virt_addr_q_reg[31] ;\\n  (* src = \"../riscv/core/riscv/riscv_mmu.v:341.5-345.34\" *)\\n  always @(posedge clk_i, posedge rst_i)\\n    if (rst_i) \\\\genblk1.pc_fault_q  <= 1\\'h0;\\n    else \\\\genblk1.pc_fault_q  <= \\\\genblk1.pc_fault_r ;\\n  reg \\\\genblk1.pte_entry_q_reg[1] ;\\n  (* src = \"../riscv/core/riscv/riscv_mmu.v:220.5-282.8\" *)\\n  always @(posedge clk_i, posedge rst_i)\\n    if (rst_i) \\\\genblk1.pte_entry_q_reg[1]  <= 1\\'h0;\\n    else if (_0012_) \\\\genblk1.pte_entry_q_reg[1]  <= _0456_;\\n  assign \\\\genblk1.pte_entry_q [1] = \\\\genblk1.pte_entry_q_reg[1] ;\\n  reg \\\\genblk1.pte_entry_q_reg[2] ;\\n  (* src = \"../riscv/core/riscv/riscv_mmu.v:220.5-282.8\" *)\\n  always @(posedge clk_i, posedge rst_i)\\n    if (rst_i) \\\\genblk1.pte_entry_q_reg[2]  <= 1\\'h0;\\n    else if (_0012_) \\\\genblk1.pte_entry_q_reg[2]  <= _0467_;\\n  assign \\\\genblk1.pte_entry_q [2] = \\\\genblk1.pte_entry_q_reg[2] ;\\n  reg \\\\genblk1.pte_entry_q_reg[3] ;\\n  (* src = \"../riscv/core/riscv/riscv_mmu.v:220.5-282.8\" *)\\n  always @(posedge clk_i, posedge rst_i)\\n    if (rst_i) \\\\genblk1.pte_entry_q_reg[3]  <= 1\\'h0;\\n    else if (_0012_) \\\\genblk1.pte_entry_q_reg[3]  <= _0470_;\\n  assign \\\\genblk1.pte_entry_q [3] = \\\\genblk1.pte_entry_q_reg[3] ;\\n  reg \\\\genblk1.pte_entry_q_reg[4] ;\\n  (* src = \"../riscv/core/riscv/riscv_mmu.v:220.5-282.8\" *)\\n  always @(posedge clk_i, posedge rst_i)\\n    if (rst_i) \\\\genblk1.pte_entry_q_reg[4]  <= 1\\'h0;\\n    else if (_0012_) \\\\genblk1.pte_entry_q_reg[4]  <= _0471_;\\n  assign \\\\genblk1.pte_entry_q [4] = \\\\genblk1.pte_entry_q_reg[4] ;\\n  reg \\\\genblk1.pte_entry_q_reg[12] ;\\n  (* src = \"../riscv/core/riscv/riscv_mmu.v:220.5-282.8\" *)\\n  always @(posedge clk_i, posedge rst_i)\\n    if (rst_i) \\\\genblk1.pte_entry_q_reg[12]  <= 1\\'h0;\\n    else if (_0012_) \\\\genblk1.pte_entry_q_reg[12]  <= _0448_;\\n  assign \\\\genblk1.pte_entry_q [12] = \\\\genblk1.pte_entry_q_reg[12] ;\\n  reg \\\\genblk1.pte_entry_q_reg[13] ;\\n  (* src = \"../riscv/core/riscv/riscv_mmu.v:220.5-282.8\" *)\\n  always @(posedge clk_i, posedge rst_i)\\n    if (rst_i) \\\\genblk1.pte_entry_q_reg[13]  <= 1\\'h0;\\n    else if (_0012_) \\\\genblk1.pte_entry_q_reg[13]  <= _0449_;\\n  assign \\\\genblk1.pte_entry_q [13] = \\\\genblk1.pte_entry_q_reg[13] ;\\n  reg \\\\genblk1.pte_entry_q_reg[14] ;\\n  (* src = \"../riscv/core/riscv/riscv_mmu.v:220.5-282.8\" *)\\n  always @(posedge clk_i, posedge rst_i)\\n    if (rst_i) \\\\genblk1.pte_entry_q_reg[14]  <= 1\\'h0;\\n    else if (_0012_) \\\\genblk1.pte_entry_q_reg[14]  <= _0450_;\\n  assign \\\\genblk1.pte_entry_q [14] = \\\\genblk1.pte_entry_q_reg[14] ;\\n  reg \\\\genblk1.pte_entry_q_reg[15] ;\\n  (* src = \"../riscv/core/riscv/riscv_mmu.v:220.5-282.8\" *)\\n  always @(posedge clk_i, posedge rst_i)\\n    if (rst_i) \\\\genblk1.pte_entry_q_reg[15]  <= 1\\'h0;\\n    else if (_0012_) \\\\genblk1.pte_entry_q_reg[15]  <= _0451_;\\n  assign \\\\genblk1.pte_entry_q [15] = \\\\genblk1.pte_entry_q_reg[15] ;\\n  reg \\\\genblk1.pte_entry_q_reg[16] ;\\n  (* src = \"../riscv/core/riscv/riscv_mmu.v:220.5-282.8\" *)\\n  always @(posedge clk_i, posedge rst_i)\\n    if (rst_i) \\\\genblk1.pte_entry_q_reg[16]  <= 1\\'h0;\\n    else if (_0012_) \\\\genblk1.pte_entry_q_reg[16]  <= _0452_;\\n  assign \\\\genblk1.pte_entry_q [16] = \\\\genblk1.pte_entry_q_reg[16] ;\\n  reg \\\\genblk1.pte_entry_q_reg[17] ;\\n  (* src = \"../riscv/core/riscv/riscv_mmu.v:220.5-282.8\" *)\\n  always @(posedge clk_i, posedge rst_i)\\n    if (rst_i) \\\\genblk1.pte_entry_q_reg[17]  <= 1\\'h0;\\n    else if (_0012_) \\\\genblk1.pte_entry_q_reg[17]  <= _0453_;\\n  assign \\\\genblk1.pte_entry_q [17] = \\\\genblk1.pte_entry_q_reg[17] ;\\n  reg \\\\genblk1.pte_entry_q_reg[18] ;\\n  (* src = \"../riscv/core/riscv/riscv_mmu.v:220.5-282.8\" *)\\n  always @(posedge clk_i, posedge rst_i)\\n    if (rst_i) \\\\genblk1.pte_entry_q_reg[18]  <= 1\\'h0;\\n    else if (_0012_) \\\\genblk1.pte_entry_q_reg[18]  <= _0454_;\\n  assign \\\\genblk1.pte_entry_q [18] = \\\\genblk1.pte_entry_q_reg[18] ;\\n  reg \\\\genblk1.pte_entry_q_reg[19] ;\\n  (* src = \"../riscv/core/riscv/riscv_mmu.v:220.5-282.8\" *)\\n  always @(posedge clk_i, posedge rst_i)\\n    if (rst_i) \\\\genblk1.pte_entry_q_reg[19]  <= 1\\'h0;\\n    else if (_0012_) \\\\genblk1.pte_entry_q_reg[19]  <= _0455_;\\n  assign \\\\genblk1.pte_entry_q [19] = \\\\genblk1.pte_entry_q_reg[19] ;\\n  reg \\\\genblk1.pte_entry_q_reg[20] ;\\n  (* src = \"../riscv/core/riscv/riscv_mmu.v:220.5-282.8\" *)\\n  always @(posedge clk_i, posedge rst_i)\\n    if (rst_i) \\\\genblk1.pte_entry_q_reg[20]  <= 1\\'h0;\\n    else if (_0012_) \\\\genblk1.pte_entry_q_reg[20]  <= _0457_;\\n  assign \\\\genblk1.pte_entry_q [20] = \\\\genblk1.pte_entry_q_reg[20] ;\\n  reg \\\\genblk1.pte_entry_q_reg[21] ;\\n  (* src = \"../riscv/core/riscv/riscv_mmu.v:220.5-282.8\" *)\\n  always @(posedge clk_i, posedge rst_i)\\n    if (rst_i) \\\\genblk1.pte_entry_q_reg[21]  <= 1\\'h0;\\n    else if (_0012_) \\\\genblk1.pte_entry_q_reg[21]  <= _0458_;\\n  assign \\\\genblk1.pte_entry_q [21] = \\\\genblk1.pte_entry_q_reg[21] ;\\n  reg \\\\genblk1.pte_entry_q_reg[22] ;\\n  (* src = \"../riscv/core/riscv/riscv_mmu.v:220.5-282.8\" *)\\n  always @(posedge clk_i, posedge rst_i)\\n    if (rst_i) \\\\genblk1.pte_entry_q_reg[22]  <= 1\\'h0;\\n    else if (_0012_) \\\\genblk1.pte_entry_q_reg[22]  <= _0459_;\\n  assign \\\\genblk1.pte_entry_q [22] = \\\\genblk1.pte_entry_q_reg[22] ;\\n  reg \\\\genblk1.pte_entry_q_reg[23] ;\\n  (* src = \"../riscv/core/riscv/riscv_mmu.v:220.5-282.8\" *)\\n  always @(posedge clk_i, posedge rst_i)\\n    if (rst_i) \\\\genblk1.pte_entry_q_reg[23]  <= 1\\'h0;\\n    else if (_0012_) \\\\genblk1.pte_entry_q_reg[23]  <= _0460_;\\n  assign \\\\genblk1.pte_entry_q [23] = \\\\genblk1.pte_entry_q_reg[23] ;\\n  reg \\\\genblk1.pte_entry_q_reg[24] ;\\n  (* src = \"../riscv/core/riscv/riscv_mmu.v:220.5-282.8\" *)\\n  always @(posedge clk_i, posedge rst_i)\\n    if (rst_i) \\\\genblk1.pte_entry_q_reg[24]  <= 1\\'h0;\\n    else if (_0012_) \\\\genblk1.pte_entry_q_reg[24]  <= _0461_;\\n  assign \\\\genblk1.pte_entry_q [24] = \\\\genblk1.pte_entry_q_reg[24] ;\\n  reg \\\\genblk1.pte_entry_q_reg[25] ;\\n  (* src = \"../riscv/core/riscv/riscv_mmu.v:220.5-282.8\" *)\\n  always @(posedge clk_i, posedge rst_i)\\n    if (rst_i) \\\\genblk1.pte_entry_q_reg[25]  <= 1\\'h0;\\n    else if (_0012_) \\\\genblk1.pte_entry_q_reg[25]  <= _0462_;\\n  assign \\\\genblk1.pte_entry_q [25] = \\\\genblk1.pte_entry_q_reg[25] ;\\n  reg \\\\genblk1.pte_entry_q_reg[26] ;\\n  (* src = \"../riscv/core/riscv/riscv_mmu.v:220.5-282.8\" *)\\n  always @(posedge clk_i, posedge rst_i)\\n    if (rst_i) \\\\genblk1.pte_entry_q_reg[26]  <= 1\\'h0;\\n    else if (_0012_) \\\\genblk1.pte_entry_q_reg[26]  <= _0463_;\\n  assign \\\\genblk1.pte_entry_q [26] = \\\\genblk1.pte_entry_q_reg[26] ;\\n  reg \\\\genblk1.pte_entry_q_reg[27] ;\\n  (* src = \"../riscv/core/riscv/riscv_mmu.v:220.5-282.8\" *)\\n  always @(posedge clk_i, posedge rst_i)\\n    if (rst_i) \\\\genblk1.pte_entry_q_reg[27]  <= 1\\'h0;\\n    else if (_0012_) \\\\genblk1.pte_entry_q_reg[27]  <= _0464_;\\n  assign \\\\genblk1.pte_entry_q [27] = \\\\genblk1.pte_entry_q_reg[27] ;\\n  reg \\\\genblk1.pte_entry_q_reg[28] ;\\n  (* src = \"../riscv/core/riscv/riscv_mmu.v:220.5-282.8\" *)\\n  always @(posedge clk_i, posedge rst_i)\\n    if (rst_i) \\\\genblk1.pte_entry_q_reg[28]  <= 1\\'h0;\\n    else if (_0012_) \\\\genblk1.pte_entry_q_reg[28]  <= _0465_;\\n  assign \\\\genblk1.pte_entry_q [28] = \\\\genblk1.pte_entry_q_reg[28] ;\\n  reg \\\\genblk1.pte_entry_q_reg[29] ;\\n  (* src = \"../riscv/core/riscv/riscv_mmu.v:220.5-282.8\" *)\\n  always @(posedge clk_i, posedge rst_i)\\n    if (rst_i) \\\\genblk1.pte_entry_q_reg[29]  <= 1\\'h0;\\n    else if (_0012_) \\\\genblk1.pte_entry_q_reg[29]  <= _0466_;\\n  assign \\\\genblk1.pte_entry_q [29] = \\\\genblk1.pte_entry_q_reg[29] ;\\n  reg \\\\genblk1.pte_entry_q_reg[30] ;\\n  (* src = \"../riscv/core/riscv/riscv_mmu.v:220.5-282.8\" *)\\n  always @(posedge clk_i, posedge rst_i)\\n    if (rst_i) \\\\genblk1.pte_entry_q_reg[30]  <= 1\\'h0;\\n    else if (_0012_) \\\\genblk1.pte_entry_q_reg[30]  <= _0468_;\\n  assign \\\\genblk1.pte_entry_q [30] = \\\\genblk1.pte_entry_q_reg[30] ;\\n  reg \\\\genblk1.pte_entry_q_reg[31] ;\\n  (* src = \"../riscv/core/riscv/riscv_mmu.v:220.5-282.8\" *)\\n  always @(posedge clk_i, posedge rst_i)\\n    if (rst_i) \\\\genblk1.pte_entry_q_reg[31]  <= 1\\'h0;\\n    else if (_0012_) \\\\genblk1.pte_entry_q_reg[31]  <= _0469_;\\n  assign \\\\genblk1.pte_entry_q [31] = \\\\genblk1.pte_entry_q_reg[31] ;\\n  (* src = \"../riscv/core/riscv/riscv_mmu.v:220.5-282.8\" *)\\n  always @(posedge clk_i, posedge rst_i)\\n    if (rst_i) \\\\genblk1.dtlb_req_q  <= 1\\'h0;\\n    else if (!_0340_) \\\\genblk1.dtlb_req_q  <= \\\\genblk1.dtlb_miss_w ;\\n  (* src = \"../riscv/core/riscv/riscv_mmu.v:175.5-179.40\" *)\\n  always @(posedge clk_i, posedge rst_i)\\n    if (rst_i) \\\\genblk1.lsu_in_addr_q [0] <= 1\\'h0;\\n    else \\\\genblk1.lsu_in_addr_q [0] <= \\\\genblk1.lsu_addr_w [0];\\n  (* src = \"../riscv/core/riscv/riscv_mmu.v:175.5-179.40\" *)\\n  always @(posedge clk_i, posedge rst_i)\\n    if (rst_i) \\\\genblk1.lsu_in_addr_q [1] <= 1\\'h0;\\n    else \\\\genblk1.lsu_in_addr_q [1] <= \\\\genblk1.lsu_addr_w [1];\\n  (* src = \"../riscv/core/riscv/riscv_mmu.v:175.5-179.40\" *)\\n  always @(posedge clk_i, posedge rst_i)\\n    if (rst_i) \\\\genblk1.lsu_in_addr_q [2] <= 1\\'h0;\\n    else \\\\genblk1.lsu_in_addr_q [2] <= \\\\genblk1.lsu_addr_w [2];\\n  (* src = \"../riscv/core/riscv/riscv_mmu.v:175.5-179.40\" *)\\n  always @(posedge clk_i, posedge rst_i)\\n    if (rst_i) \\\\genblk1.lsu_in_addr_q [3] <= 1\\'h0;\\n    else \\\\genblk1.lsu_in_addr_q [3] <= \\\\genblk1.lsu_addr_w [3];\\n  (* src = \"../riscv/core/riscv/riscv_mmu.v:175.5-179.40\" *)\\n  always @(posedge clk_i, posedge rst_i)\\n    if (rst_i) \\\\genblk1.lsu_in_addr_q [4] <= 1\\'h0;\\n    else \\\\genblk1.lsu_in_addr_q [4] <= \\\\genblk1.lsu_addr_w [4];\\n  (* src = \"../riscv/core/riscv/riscv_mmu.v:175.5-179.40\" *)\\n  always @(posedge clk_i, posedge rst_i)\\n    if (rst_i) \\\\genblk1.lsu_in_addr_q [5] <= 1\\'h0;\\n    else \\\\genblk1.lsu_in_addr_q [5] <= \\\\genblk1.lsu_addr_w [5];\\n  (* src = \"../riscv/core/riscv/riscv_mmu.v:175.5-179.40\" *)\\n  always @(posedge clk_i, posedge rst_i)\\n    if (rst_i) \\\\genblk1.lsu_in_addr_q [6] <= 1\\'h0;\\n    else \\\\genblk1.lsu_in_addr_q [6] <= \\\\genblk1.lsu_addr_w [6];\\n  (* src = \"../riscv/core/riscv/riscv_mmu.v:175.5-179.40\" *)\\n  always @(posedge clk_i, posedge rst_i)\\n    if (rst_i) \\\\genblk1.lsu_in_addr_q [7] <= 1\\'h0;\\n    else \\\\genblk1.lsu_in_addr_q [7] <= \\\\genblk1.lsu_addr_w [7];\\n  (* src = \"../riscv/core/riscv/riscv_mmu.v:175.5-179.40\" *)\\n  always @(posedge clk_i, posedge rst_i)\\n    if (rst_i) \\\\genblk1.lsu_in_addr_q [8] <= 1\\'h0;\\n    else \\\\genblk1.lsu_in_addr_q [8] <= \\\\genblk1.lsu_addr_w [8];\\n  (* src = \"../riscv/core/riscv/riscv_mmu.v:175.5-179.40\" *)\\n  always @(posedge clk_i, posedge rst_i)\\n    if (rst_i) \\\\genblk1.lsu_in_addr_q [9] <= 1\\'h0;\\n    else \\\\genblk1.lsu_in_addr_q [9] <= \\\\genblk1.lsu_addr_w [9];\\n  (* src = \"../riscv/core/riscv/riscv_mmu.v:175.5-179.40\" *)\\n  always @(posedge clk_i, posedge rst_i)\\n    if (rst_i) \\\\genblk1.lsu_in_addr_q [10] <= 1\\'h0;\\n    else \\\\genblk1.lsu_in_addr_q [10] <= \\\\genblk1.lsu_addr_w [10];\\n  (* src = \"../riscv/core/riscv/riscv_mmu.v:175.5-179.40\" *)\\n  always @(posedge clk_i, posedge rst_i)\\n    if (rst_i) \\\\genblk1.lsu_in_addr_q [11] <= 1\\'h0;\\n    else \\\\genblk1.lsu_in_addr_q [11] <= \\\\genblk1.lsu_addr_w [11];\\n  (* src = \"../riscv/core/riscv/riscv_mmu.v:175.5-179.40\" *)\\n  always @(posedge clk_i, posedge rst_i)\\n    if (rst_i) \\\\genblk1.lsu_in_addr_q [12] <= 1\\'h0;\\n    else \\\\genblk1.lsu_in_addr_q [12] <= \\\\genblk1.lsu_addr_w [12];\\n  (* src = \"../riscv/core/riscv/riscv_mmu.v:175.5-179.40\" *)\\n  always @(posedge clk_i, posedge rst_i)\\n    if (rst_i) \\\\genblk1.lsu_in_addr_q [13] <= 1\\'h0;\\n    else \\\\genblk1.lsu_in_addr_q [13] <= \\\\genblk1.lsu_addr_w [13];\\n  (* src = \"../riscv/core/riscv/riscv_mmu.v:175.5-179.40\" *)\\n  always @(posedge clk_i, posedge rst_i)\\n    if (rst_i) \\\\genblk1.lsu_in_addr_q [14] <= 1\\'h0;\\n    else \\\\genblk1.lsu_in_addr_q [14] <= \\\\genblk1.lsu_addr_w [14];\\n  (* src = \"../riscv/core/riscv/riscv_mmu.v:175.5-179.40\" *)\\n  always @(posedge clk_i, posedge rst_i)\\n    if (rst_i) \\\\genblk1.lsu_in_addr_q [15] <= 1\\'h0;\\n    else \\\\genblk1.lsu_in_addr_q [15] <= \\\\genblk1.lsu_addr_w [15];\\n  (* src = \"../riscv/core/riscv/riscv_mmu.v:175.5-179.40\" *)\\n  always @(posedge clk_i, posedge rst_i)\\n    if (rst_i) \\\\genblk1.lsu_in_addr_q [16] <= 1\\'h0;\\n    else \\\\genblk1.lsu_in_addr_q [16] <= \\\\genblk1.lsu_addr_w [16];\\n  (* src = \"../riscv/core/riscv/riscv_mmu.v:175.5-179.40\" *)\\n  always @(posedge clk_i, posedge rst_i)\\n    if (rst_i) \\\\genblk1.lsu_in_addr_q [17] <= 1\\'h0;\\n    else \\\\genblk1.lsu_in_addr_q [17] <= \\\\genblk1.lsu_addr_w [17];\\n  (* src = \"../riscv/core/riscv/riscv_mmu.v:175.5-179.40\" *)\\n  always @(posedge clk_i, posedge rst_i)\\n    if (rst_i) \\\\genblk1.lsu_in_addr_q [18] <= 1\\'h0;\\n    else \\\\genblk1.lsu_in_addr_q [18] <= \\\\genblk1.lsu_addr_w [18];\\n  (* src = \"../riscv/core/riscv/riscv_mmu.v:175.5-179.40\" *)\\n  always @(posedge clk_i, posedge rst_i)\\n    if (rst_i) \\\\genblk1.lsu_in_addr_q [19] <= 1\\'h0;\\n    else \\\\genblk1.lsu_in_addr_q [19] <= \\\\genblk1.lsu_addr_w [19];\\n  (* src = \"../riscv/core/riscv/riscv_mmu.v:175.5-179.40\" *)\\n  always @(posedge clk_i, posedge rst_i)\\n    if (rst_i) \\\\genblk1.lsu_in_addr_q [20] <= 1\\'h0;\\n    else \\\\genblk1.lsu_in_addr_q [20] <= \\\\genblk1.lsu_addr_w [20];\\n  (* src = \"../riscv/core/riscv/riscv_mmu.v:175.5-179.40\" *)\\n  always @(posedge clk_i, posedge rst_i)\\n    if (rst_i) \\\\genblk1.lsu_in_addr_q [21] <= 1\\'h0;\\n    else \\\\genblk1.lsu_in_addr_q [21] <= \\\\genblk1.lsu_addr_w [21];\\n  (* src = \"../riscv/core/riscv/riscv_mmu.v:175.5-179.40\" *)\\n  always @(posedge clk_i, posedge rst_i)\\n    if (rst_i) \\\\genblk1.lsu_in_addr_q [22] <= 1\\'h0;\\n    else \\\\genblk1.lsu_in_addr_q [22] <= \\\\genblk1.lsu_addr_w [22];\\n  (* src = \"../riscv/core/riscv/riscv_mmu.v:175.5-179.40\" *)\\n  always @(posedge clk_i, posedge rst_i)\\n    if (rst_i) \\\\genblk1.lsu_in_addr_q [23] <= 1\\'h0;\\n    else \\\\genblk1.lsu_in_addr_q [23] <= \\\\genblk1.lsu_addr_w [23];\\n  (* src = \"../riscv/core/riscv/riscv_mmu.v:175.5-179.40\" *)\\n  always @(posedge clk_i, posedge rst_i)\\n    if (rst_i) \\\\genblk1.lsu_in_addr_q [24] <= 1\\'h0;\\n    else \\\\genblk1.lsu_in_addr_q [24] <= \\\\genblk1.lsu_addr_w [24];\\n  (* src = \"../riscv/core/riscv/riscv_mmu.v:175.5-179.40\" *)\\n  always @(posedge clk_i, posedge rst_i)\\n    if (rst_i) \\\\genblk1.lsu_in_addr_q [25] <= 1\\'h0;\\n    else \\\\genblk1.lsu_in_addr_q [25] <= \\\\genblk1.lsu_addr_w [25];\\n  (* src = \"../riscv/core/riscv/riscv_mmu.v:175.5-179.40\" *)\\n  always @(posedge clk_i, posedge rst_i)\\n    if (rst_i) \\\\genblk1.lsu_in_addr_q [26] <= 1\\'h0;\\n    else \\\\genblk1.lsu_in_addr_q [26] <= \\\\genblk1.lsu_addr_w [26];\\n  (* src = \"../riscv/core/riscv/riscv_mmu.v:175.5-179.40\" *)\\n  always @(posedge clk_i, posedge rst_i)\\n    if (rst_i) \\\\genblk1.lsu_in_addr_q [27] <= 1\\'h0;\\n    else \\\\genblk1.lsu_in_addr_q [27] <= \\\\genblk1.lsu_addr_w [27];\\n  (* src = \"../riscv/core/riscv/riscv_mmu.v:175.5-179.40\" *)\\n  always @(posedge clk_i, posedge rst_i)\\n    if (rst_i) \\\\genblk1.lsu_in_addr_q [28] <= 1\\'h0;\\n    else \\\\genblk1.lsu_in_addr_q [28] <= \\\\genblk1.lsu_addr_w [28];\\n  (* src = \"../riscv/core/riscv/riscv_mmu.v:175.5-179.40\" *)\\n  always @(posedge clk_i, posedge rst_i)\\n    if (rst_i) \\\\genblk1.lsu_in_addr_q [29] <= 1\\'h0;\\n    else \\\\genblk1.lsu_in_addr_q [29] <= \\\\genblk1.lsu_addr_w [29];\\n  (* src = \"../riscv/core/riscv/riscv_mmu.v:175.5-179.40\" *)\\n  always @(posedge clk_i, posedge rst_i)\\n    if (rst_i) \\\\genblk1.lsu_in_addr_q [30] <= 1\\'h0;\\n    else \\\\genblk1.lsu_in_addr_q [30] <= \\\\genblk1.lsu_addr_w [30];\\n  (* src = \"../riscv/core/riscv/riscv_mmu.v:175.5-179.40\" *)\\n  always @(posedge clk_i, posedge rst_i)\\n    if (rst_i) \\\\genblk1.lsu_in_addr_q [31] <= 1\\'h0;\\n    else \\\\genblk1.lsu_in_addr_q [31] <= \\\\genblk1.lsu_addr_w [31];\\n  (* src = \"../riscv/core/riscv/riscv_mmu.v:220.5-282.8\" *)\\n  always @(posedge clk_i, posedge rst_i)\\n    if (rst_i) \\\\genblk1.state_q [0] <= 1\\'h0;\\n    else if (_0006_) \\\\genblk1.state_q [0] <= _0005_[0];\\n  (* src = \"../riscv/core/riscv/riscv_mmu.v:220.5-282.8\" *)\\n  always @(posedge clk_i, posedge rst_i)\\n    if (rst_i) \\\\genblk1.state_q [1] <= 1\\'h0;\\n    else if (_0006_) \\\\genblk1.state_q [1] <= _0005_[1];\\n  (* src = \"../riscv/core/riscv/riscv_mmu.v:164.5-168.57\" *)\\n  always @(posedge clk_i, posedge rst_i)\\n    if (rst_i) \\\\genblk1.store_q [0] <= 1\\'h0;\\n    else if (_0472_) \\\\genblk1.store_q [0] <= _0473_;\\n  (* src = \"../riscv/core/riscv/riscv_mmu.v:164.5-168.57\" *)\\n  always @(posedge clk_i, posedge rst_i)\\n    if (rst_i) \\\\genblk1.store_q [1] <= 1\\'h0;\\n    else if (_0472_) \\\\genblk1.store_q [1] <= _0474_;\\n  (* src = \"../riscv/core/riscv/riscv_mmu.v:164.5-168.57\" *)\\n  always @(posedge clk_i, posedge rst_i)\\n    if (rst_i) \\\\genblk1.store_q [2] <= 1\\'h0;\\n    else if (_0472_) \\\\genblk1.store_q [2] <= _0475_;\\n  (* src = \"../riscv/core/riscv/riscv_mmu.v:164.5-168.57\" *)\\n  always @(posedge clk_i, posedge rst_i)\\n    if (rst_i) \\\\genblk1.store_q [3] <= 1\\'h0;\\n    else if (_0472_) \\\\genblk1.store_q [3] <= _0476_;\\n  (* src = \"../riscv/core/riscv/riscv_mmu.v:505.5-517.30\" *)\\n  always @(posedge clk_i, posedge rst_i)\\n    if (rst_i) \\\\genblk1.read_hold_q  <= 1\\'h0;\\n    else if (_0010_) \\\\genblk1.read_hold_q  <= _0004_;\\n  reg \\\\genblk1.itlb_entry_q_reg[3] ;\\n  (* src = \"../riscv/core/riscv/riscv_mmu.v:301.5-311.8\" *)\\n  always @(posedge clk_i, posedge rst_i)\\n    if (rst_i) \\\\genblk1.itlb_entry_q_reg[3]  <= 1\\'h0;\\n    else if (_0013_) \\\\genblk1.itlb_entry_q_reg[3]  <= \\\\genblk1.pte_entry_q [3];\\n  assign \\\\genblk1.itlb_entry_q [3] = \\\\genblk1.itlb_entry_q_reg[3] ;\\n  reg \\\\genblk1.itlb_entry_q_reg[4] ;\\n  (* src = \"../riscv/core/riscv/riscv_mmu.v:301.5-311.8\" *)\\n  always @(posedge clk_i, posedge rst_i)\\n    if (rst_i) \\\\genblk1.itlb_entry_q_reg[4]  <= 1\\'h0;\\n    else if (_0013_) \\\\genblk1.itlb_entry_q_reg[4]  <= \\\\genblk1.pte_entry_q [4];\\n  assign \\\\genblk1.itlb_entry_q [4] = \\\\genblk1.itlb_entry_q_reg[4] ;\\n  reg \\\\genblk1.itlb_entry_q_reg[12] ;\\n  (* src = \"../riscv/core/riscv/riscv_mmu.v:301.5-311.8\" *)\\n  always @(posedge clk_i, posedge rst_i)\\n    if (rst_i) \\\\genblk1.itlb_entry_q_reg[12]  <= 1\\'h0;\\n    else if (_0013_) \\\\genblk1.itlb_entry_q_reg[12]  <= \\\\genblk1.pte_entry_q [12];\\n  assign \\\\genblk1.itlb_entry_q [12] = \\\\genblk1.itlb_entry_q_reg[12] ;\\n  reg \\\\genblk1.itlb_entry_q_reg[13] ;\\n  (* src = \"../riscv/core/riscv/riscv_mmu.v:301.5-311.8\" *)\\n  always @(posedge clk_i, posedge rst_i)\\n    if (rst_i) \\\\genblk1.itlb_entry_q_reg[13]  <= 1\\'h0;\\n    else if (_0013_) \\\\genblk1.itlb_entry_q_reg[13]  <= \\\\genblk1.pte_entry_q [13];\\n  assign \\\\genblk1.itlb_entry_q [13] = \\\\genblk1.itlb_entry_q_reg[13] ;\\n  reg \\\\genblk1.itlb_entry_q_reg[14] ;\\n  (* src = \"../riscv/core/riscv/riscv_mmu.v:301.5-311.8\" *)\\n  always @(posedge clk_i, posedge rst_i)\\n    if (rst_i) \\\\genblk1.itlb_entry_q_reg[14]  <= 1\\'h0;\\n    else if (_0013_) \\\\genblk1.itlb_entry_q_reg[14]  <= \\\\genblk1.pte_entry_q [14];\\n  assign \\\\genblk1.itlb_entry_q [14] = \\\\genblk1.itlb_entry_q_reg[14] ;\\n  reg \\\\genblk1.itlb_entry_q_reg[15] ;\\n  (* src = \"../riscv/core/riscv/riscv_mmu.v:301.5-311.8\" *)\\n  always @(posedge clk_i, posedge rst_i)\\n    if (rst_i) \\\\genblk1.itlb_entry_q_reg[15]  <= 1\\'h0;\\n    else if (_0013_) \\\\genblk1.itlb_entry_q_reg[15]  <= \\\\genblk1.pte_entry_q [15];\\n  assign \\\\genblk1.itlb_entry_q [15] = \\\\genblk1.itlb_entry_q_reg[15] ;\\n  reg \\\\genblk1.itlb_entry_q_reg[16] ;\\n  (* src = \"../riscv/core/riscv/riscv_mmu.v:301.5-311.8\" *)\\n  always @(posedge clk_i, posedge rst_i)\\n    if (rst_i) \\\\genblk1.itlb_entry_q_reg[16]  <= 1\\'h0;\\n    else if (_0013_) \\\\genblk1.itlb_entry_q_reg[16]  <= \\\\genblk1.pte_entry_q [16];\\n  assign \\\\genblk1.itlb_entry_q [16] = \\\\genblk1.itlb_entry_q_reg[16] ;\\n  reg \\\\genblk1.itlb_entry_q_reg[17] ;\\n  (* src = \"../riscv/core/riscv/riscv_mmu.v:301.5-311.8\" *)\\n  always @(posedge clk_i, posedge rst_i)\\n    if (rst_i) \\\\genblk1.itlb_entry_q_reg[17]  <= 1\\'h0;\\n    else if (_0013_) \\\\genblk1.itlb_entry_q_reg[17]  <= \\\\genblk1.pte_entry_q [17];\\n  assign \\\\genblk1.itlb_entry_q [17] = \\\\genblk1.itlb_entry_q_reg[17] ;\\n  reg \\\\genblk1.itlb_entry_q_reg[18] ;\\n  (* src = \"../riscv/core/riscv/riscv_mmu.v:301.5-311.8\" *)\\n  always @(posedge clk_i, posedge rst_i)\\n    if (rst_i) \\\\genblk1.itlb_entry_q_reg[18]  <= 1\\'h0;\\n    else if (_0013_) \\\\genblk1.itlb_entry_q_reg[18]  <= \\\\genblk1.pte_entry_q [18];\\n  assign \\\\genblk1.itlb_entry_q [18] = \\\\genblk1.itlb_entry_q_reg[18] ;\\n  reg \\\\genblk1.itlb_entry_q_reg[19] ;\\n  (* src = \"../riscv/core/riscv/riscv_mmu.v:301.5-311.8\" *)\\n  always @(posedge clk_i, posedge rst_i)\\n    if (rst_i) \\\\genblk1.itlb_entry_q_reg[19]  <= 1\\'h0;\\n    else if (_0013_) \\\\genblk1.itlb_entry_q_reg[19]  <= \\\\genblk1.pte_entry_q [19];\\n  assign \\\\genblk1.itlb_entry_q [19] = \\\\genblk1.itlb_entry_q_reg[19] ;\\n  reg \\\\genblk1.itlb_entry_q_reg[20] ;\\n  (* src = \"../riscv/core/riscv/riscv_mmu.v:301.5-311.8\" *)\\n  always @(posedge clk_i, posedge rst_i)\\n    if (rst_i) \\\\genblk1.itlb_entry_q_reg[20]  <= 1\\'h0;\\n    else if (_0013_) \\\\genblk1.itlb_entry_q_reg[20]  <= \\\\genblk1.pte_entry_q [20];\\n  assign \\\\genblk1.itlb_entry_q [20] = \\\\genblk1.itlb_entry_q_reg[20] ;\\n  reg \\\\genblk1.itlb_entry_q_reg[21] ;\\n  (* src = \"../riscv/core/riscv/riscv_mmu.v:301.5-311.8\" *)\\n  always @(posedge clk_i, posedge rst_i)\\n    if (rst_i) \\\\genblk1.itlb_entry_q_reg[21]  <= 1\\'h0;\\n    else if (_0013_) \\\\genblk1.itlb_entry_q_reg[21]  <= \\\\genblk1.pte_entry_q [21];\\n  assign \\\\genblk1.itlb_entry_q [21] = \\\\genblk1.itlb_entry_q_reg[21] ;\\n  reg \\\\genblk1.itlb_entry_q_reg[22] ;\\n  (* src = \"../riscv/core/riscv/riscv_mmu.v:301.5-311.8\" *)\\n  always @(posedge clk_i, posedge rst_i)\\n    if (rst_i) \\\\genblk1.itlb_entry_q_reg[22]  <= 1\\'h0;\\n    else if (_0013_) \\\\genblk1.itlb_entry_q_reg[22]  <= \\\\genblk1.pte_entry_q [22];\\n  assign \\\\genblk1.itlb_entry_q [22] = \\\\genblk1.itlb_entry_q_reg[22] ;\\n  reg \\\\genblk1.itlb_entry_q_reg[23] ;\\n  (* src = \"../riscv/core/riscv/riscv_mmu.v:301.5-311.8\" *)\\n  always @(posedge clk_i, posedge rst_i)\\n    if (rst_i) \\\\genblk1.itlb_entry_q_reg[23]  <= 1\\'h0;\\n    else if (_0013_) \\\\genblk1.itlb_entry_q_reg[23]  <= \\\\genblk1.pte_entry_q [23];\\n  assign \\\\genblk1.itlb_entry_q [23] = \\\\genblk1.itlb_entry_q_reg[23] ;\\n  reg \\\\genblk1.itlb_entry_q_reg[24] ;\\n  (* src = \"../riscv/core/riscv/riscv_mmu.v:301.5-311.8\" *)\\n  always @(posedge clk_i, posedge rst_i)\\n    if (rst_i) \\\\genblk1.itlb_entry_q_reg[24]  <= 1\\'h0;\\n    else if (_0013_) \\\\genblk1.itlb_entry_q_reg[24]  <= \\\\genblk1.pte_entry_q [24];\\n  assign \\\\genblk1.itlb_entry_q [24] = \\\\genblk1.itlb_entry_q_reg[24] ;\\n  reg \\\\genblk1.itlb_entry_q_reg[25] ;\\n  (* src = \"../riscv/core/riscv/riscv_mmu.v:301.5-311.8\" *)\\n  always @(posedge clk_i, posedge rst_i)\\n    if (rst_i) \\\\genblk1.itlb_entry_q_reg[25]  <= 1\\'h0;\\n    else if (_0013_) \\\\genblk1.itlb_entry_q_reg[25]  <= \\\\genblk1.pte_entry_q [25];\\n  assign \\\\genblk1.itlb_entry_q [25] = \\\\genblk1.itlb_entry_q_reg[25] ;\\n  reg \\\\genblk1.itlb_entry_q_reg[26] ;\\n  (* src = \"../riscv/core/riscv/riscv_mmu.v:301.5-311.8\" *)\\n  always @(posedge clk_i, posedge rst_i)\\n    if (rst_i) \\\\genblk1.itlb_entry_q_reg[26]  <= 1\\'h0;\\n    else if (_0013_) \\\\genblk1.itlb_entry_q_reg[26]  <= \\\\genblk1.pte_entry_q [26];\\n  assign \\\\genblk1.itlb_entry_q [26] = \\\\genblk1.itlb_entry_q_reg[26] ;\\n  reg \\\\genblk1.itlb_entry_q_reg[27] ;\\n  (* src = \"../riscv/core/riscv/riscv_mmu.v:301.5-311.8\" *)\\n  always @(posedge clk_i, posedge rst_i)\\n    if (rst_i) \\\\genblk1.itlb_entry_q_reg[27]  <= 1\\'h0;\\n    else if (_0013_) \\\\genblk1.itlb_entry_q_reg[27]  <= \\\\genblk1.pte_entry_q [27];\\n  assign \\\\genblk1.itlb_entry_q [27] = \\\\genblk1.itlb_entry_q_reg[27] ;\\n  reg \\\\genblk1.itlb_entry_q_reg[28] ;\\n  (* src = \"../riscv/core/riscv/riscv_mmu.v:301.5-311.8\" *)\\n  always @(posedge clk_i, posedge rst_i)\\n    if (rst_i) \\\\genblk1.itlb_entry_q_reg[28]  <= 1\\'h0;\\n    else if (_0013_) \\\\genblk1.itlb_entry_q_reg[28]  <= \\\\genblk1.pte_entry_q [28];\\n  assign \\\\genblk1.itlb_entry_q [28] = \\\\genblk1.itlb_entry_q_reg[28] ;\\n  reg \\\\genblk1.itlb_entry_q_reg[29] ;\\n  (* src = \"../riscv/core/riscv/riscv_mmu.v:301.5-311.8\" *)\\n  always @(posedge clk_i, posedge rst_i)\\n    if (rst_i) \\\\genblk1.itlb_entry_q_reg[29]  <= 1\\'h0;\\n    else if (_0013_) \\\\genblk1.itlb_entry_q_reg[29]  <= \\\\genblk1.pte_entry_q [29];\\n  assign \\\\genblk1.itlb_entry_q [29] = \\\\genblk1.itlb_entry_q_reg[29] ;\\n  reg \\\\genblk1.itlb_entry_q_reg[30] ;\\n  (* src = \"../riscv/core/riscv/riscv_mmu.v:301.5-311.8\" *)\\n  always @(posedge clk_i, posedge rst_i)\\n    if (rst_i) \\\\genblk1.itlb_entry_q_reg[30]  <= 1\\'h0;\\n    else if (_0013_) \\\\genblk1.itlb_entry_q_reg[30]  <= \\\\genblk1.pte_entry_q [30];\\n  assign \\\\genblk1.itlb_entry_q [30] = \\\\genblk1.itlb_entry_q_reg[30] ;\\n  reg \\\\genblk1.itlb_entry_q_reg[31] ;\\n  (* src = \"../riscv/core/riscv/riscv_mmu.v:301.5-311.8\" *)\\n  always @(posedge clk_i, posedge rst_i)\\n    if (rst_i) \\\\genblk1.itlb_entry_q_reg[31]  <= 1\\'h0;\\n    else if (_0013_) \\\\genblk1.itlb_entry_q_reg[31]  <= \\\\genblk1.pte_entry_q [31];\\n  assign \\\\genblk1.itlb_entry_q [31] = \\\\genblk1.itlb_entry_q_reg[31] ;\\n  (* src = \"../riscv/core/riscv/riscv_mmu.v:505.5-517.30\" *)\\n  always @(posedge clk_i, posedge rst_i)\\n    if (rst_i) \\\\genblk1.src_mmu_q  <= 1\\'h0;\\n    else if (_0004_) \\\\genblk1.src_mmu_q  <= \\\\genblk1.src_mmu_w ;\\n  reg \\\\genblk1.pte_addr_q_reg[2] ;\\n  (* src = \"../riscv/core/riscv/riscv_mmu.v:220.5-282.8\" *)\\n  always @(posedge clk_i, posedge rst_i)\\n    if (rst_i) \\\\genblk1.pte_addr_q_reg[2]  <= 1\\'h0;\\n    else if (_0011_) \\\\genblk1.pte_addr_q_reg[2]  <= _0003_[2];\\n  assign \\\\genblk1.pte_addr_q [2] = \\\\genblk1.pte_addr_q_reg[2] ;\\n  reg \\\\genblk1.pte_addr_q_reg[3] ;\\n  (* src = \"../riscv/core/riscv/riscv_mmu.v:220.5-282.8\" *)\\n  always @(posedge clk_i, posedge rst_i)\\n    if (rst_i) \\\\genblk1.pte_addr_q_reg[3]  <= 1\\'h0;\\n    else if (_0011_) \\\\genblk1.pte_addr_q_reg[3]  <= _0003_[3];\\n  assign \\\\genblk1.pte_addr_q [3] = \\\\genblk1.pte_addr_q_reg[3] ;\\n  reg \\\\genblk1.pte_addr_q_reg[4] ;\\n  (* src = \"../riscv/core/riscv/riscv_mmu.v:220.5-282.8\" *)\\n  always @(posedge clk_i, posedge rst_i)\\n    if (rst_i) \\\\genblk1.pte_addr_q_reg[4]  <= 1\\'h0;\\n    else if (_0011_) \\\\genblk1.pte_addr_q_reg[4]  <= _0003_[4];\\n  assign \\\\genblk1.pte_addr_q [4] = \\\\genblk1.pte_addr_q_reg[4] ;\\n  reg \\\\genblk1.pte_addr_q_reg[5] ;\\n  (* src = \"../riscv/core/riscv/riscv_mmu.v:220.5-282.8\" *)\\n  always @(posedge clk_i, posedge rst_i)\\n    if (rst_i) \\\\genblk1.pte_addr_q_reg[5]  <= 1\\'h0;\\n    else if (_0011_) \\\\genblk1.pte_addr_q_reg[5]  <= _0003_[5];\\n  assign \\\\genblk1.pte_addr_q [5] = \\\\genblk1.pte_addr_q_reg[5] ;\\n  reg \\\\genblk1.pte_addr_q_reg[6] ;\\n  (* src = \"../riscv/core/riscv/riscv_mmu.v:220.5-282.8\" *)\\n  always @(posedge clk_i, posedge rst_i)\\n    if (rst_i) \\\\genblk1.pte_addr_q_reg[6]  <= 1\\'h0;\\n    else if (_0011_) \\\\genblk1.pte_addr_q_reg[6]  <= _0003_[6];\\n  assign \\\\genblk1.pte_addr_q [6] = \\\\genblk1.pte_addr_q_reg[6] ;\\n  reg \\\\genblk1.pte_addr_q_reg[7] ;\\n  (* src = \"../riscv/core/riscv/riscv_mmu.v:220.5-282.8\" *)\\n  always @(posedge clk_i, posedge rst_i)\\n    if (rst_i) \\\\genblk1.pte_addr_q_reg[7]  <= 1\\'h0;\\n    else if (_0011_) \\\\genblk1.pte_addr_q_reg[7]  <= _0003_[7];\\n  assign \\\\genblk1.pte_addr_q [7] = \\\\genblk1.pte_addr_q_reg[7] ;\\n  reg \\\\genblk1.pte_addr_q_reg[8] ;\\n  (* src = \"../riscv/core/riscv/riscv_mmu.v:220.5-282.8\" *)\\n  always @(posedge clk_i, posedge rst_i)\\n    if (rst_i) \\\\genblk1.pte_addr_q_reg[8]  <= 1\\'h0;\\n    else if (_0011_) \\\\genblk1.pte_addr_q_reg[8]  <= _0003_[8];\\n  assign \\\\genblk1.pte_addr_q [8] = \\\\genblk1.pte_addr_q_reg[8] ;\\n  reg \\\\genblk1.pte_addr_q_reg[9] ;\\n  (* src = \"../riscv/core/riscv/riscv_mmu.v:220.5-282.8\" *)\\n  always @(posedge clk_i, posedge rst_i)\\n    if (rst_i) \\\\genblk1.pte_addr_q_reg[9]  <= 1\\'h0;\\n    else if (_0011_) \\\\genblk1.pte_addr_q_reg[9]  <= _0003_[9];\\n  assign \\\\genblk1.pte_addr_q [9] = \\\\genblk1.pte_addr_q_reg[9] ;\\n  reg \\\\genblk1.pte_addr_q_reg[10] ;\\n  (* src = \"../riscv/core/riscv/riscv_mmu.v:220.5-282.8\" *)\\n  always @(posedge clk_i, posedge rst_i)\\n    if (rst_i) \\\\genblk1.pte_addr_q_reg[10]  <= 1\\'h0;\\n    else if (_0011_) \\\\genblk1.pte_addr_q_reg[10]  <= _0003_[10];\\n  assign \\\\genblk1.pte_addr_q [10] = \\\\genblk1.pte_addr_q_reg[10] ;\\n  reg \\\\genblk1.pte_addr_q_reg[11] ;\\n  (* src = \"../riscv/core/riscv/riscv_mmu.v:220.5-282.8\" *)\\n  always @(posedge clk_i, posedge rst_i)\\n    if (rst_i) \\\\genblk1.pte_addr_q_reg[11]  <= 1\\'h0;\\n    else if (_0011_) \\\\genblk1.pte_addr_q_reg[11]  <= _0003_[11];\\n  assign \\\\genblk1.pte_addr_q [11] = \\\\genblk1.pte_addr_q_reg[11] ;\\n  reg \\\\genblk1.pte_addr_q_reg[12] ;\\n  (* src = \"../riscv/core/riscv/riscv_mmu.v:220.5-282.8\" *)\\n  always @(posedge clk_i, posedge rst_i)\\n    if (rst_i) \\\\genblk1.pte_addr_q_reg[12]  <= 1\\'h0;\\n    else if (_0011_) \\\\genblk1.pte_addr_q_reg[12]  <= _0003_[12];\\n  assign \\\\genblk1.pte_addr_q [12] = \\\\genblk1.pte_addr_q_reg[12] ;\\n  reg \\\\genblk1.pte_addr_q_reg[13] ;\\n  (* src = \"../riscv/core/riscv/riscv_mmu.v:220.5-282.8\" *)\\n  always @(posedge clk_i, posedge rst_i)\\n    if (rst_i) \\\\genblk1.pte_addr_q_reg[13]  <= 1\\'h0;\\n    else if (_0011_) \\\\genblk1.pte_addr_q_reg[13]  <= _0003_[13];\\n  assign \\\\genblk1.pte_addr_q [13] = \\\\genblk1.pte_addr_q_reg[13] ;\\n  reg \\\\genblk1.pte_addr_q_reg[14] ;\\n  (* src = \"../riscv/core/riscv/riscv_mmu.v:220.5-282.8\" *)\\n  always @(posedge clk_i, posedge rst_i)\\n    if (rst_i) \\\\genblk1.pte_addr_q_reg[14]  <= 1\\'h0;\\n    else if (_0011_) \\\\genblk1.pte_addr_q_reg[14]  <= _0003_[14];\\n  assign \\\\genblk1.pte_addr_q [14] = \\\\genblk1.pte_addr_q_reg[14] ;\\n  reg \\\\genblk1.pte_addr_q_reg[15] ;\\n  (* src = \"../riscv/core/riscv/riscv_mmu.v:220.5-282.8\" *)\\n  always @(posedge clk_i, posedge rst_i)\\n    if (rst_i) \\\\genblk1.pte_addr_q_reg[15]  <= 1\\'h0;\\n    else if (_0011_) \\\\genblk1.pte_addr_q_reg[15]  <= _0003_[15];\\n  assign \\\\genblk1.pte_addr_q [15] = \\\\genblk1.pte_addr_q_reg[15] ;\\n  reg \\\\genblk1.pte_addr_q_reg[16] ;\\n  (* src = \"../riscv/core/riscv/riscv_mmu.v:220.5-282.8\" *)\\n  always @(posedge clk_i, posedge rst_i)\\n    if (rst_i) \\\\genblk1.pte_addr_q_reg[16]  <= 1\\'h0;\\n    else if (_0011_) \\\\genblk1.pte_addr_q_reg[16]  <= _0003_[16];\\n  assign \\\\genblk1.pte_addr_q [16] = \\\\genblk1.pte_addr_q_reg[16] ;\\n  reg \\\\genblk1.pte_addr_q_reg[17] ;\\n  (* src = \"../riscv/core/riscv/riscv_mmu.v:220.5-282.8\" *)\\n  always @(posedge clk_i, posedge rst_i)\\n    if (rst_i) \\\\genblk1.pte_addr_q_reg[17]  <= 1\\'h0;\\n    else if (_0011_) \\\\genblk1.pte_addr_q_reg[17]  <= _0003_[17];\\n  assign \\\\genblk1.pte_addr_q [17] = \\\\genblk1.pte_addr_q_reg[17] ;\\n  reg \\\\genblk1.pte_addr_q_reg[18] ;\\n  (* src = \"../riscv/core/riscv/riscv_mmu.v:220.5-282.8\" *)\\n  always @(posedge clk_i, posedge rst_i)\\n    if (rst_i) \\\\genblk1.pte_addr_q_reg[18]  <= 1\\'h0;\\n    else if (_0011_) \\\\genblk1.pte_addr_q_reg[18]  <= _0003_[18];\\n  assign \\\\genblk1.pte_addr_q [18] = \\\\genblk1.pte_addr_q_reg[18] ;\\n  reg \\\\genblk1.pte_addr_q_reg[19] ;\\n  (* src = \"../riscv/core/riscv/riscv_mmu.v:220.5-282.8\" *)\\n  always @(posedge clk_i, posedge rst_i)\\n    if (rst_i) \\\\genblk1.pte_addr_q_reg[19]  <= 1\\'h0;\\n    else if (_0011_) \\\\genblk1.pte_addr_q_reg[19]  <= _0003_[19];\\n  assign \\\\genblk1.pte_addr_q [19] = \\\\genblk1.pte_addr_q_reg[19] ;\\n  reg \\\\genblk1.pte_addr_q_reg[20] ;\\n  (* src = \"../riscv/core/riscv/riscv_mmu.v:220.5-282.8\" *)\\n  always @(posedge clk_i, posedge rst_i)\\n    if (rst_i) \\\\genblk1.pte_addr_q_reg[20]  <= 1\\'h0;\\n    else if (_0011_) \\\\genblk1.pte_addr_q_reg[20]  <= _0003_[20];\\n  assign \\\\genblk1.pte_addr_q [20] = \\\\genblk1.pte_addr_q_reg[20] ;\\n  reg \\\\genblk1.pte_addr_q_reg[21] ;\\n  (* src = \"../riscv/core/riscv/riscv_mmu.v:220.5-282.8\" *)\\n  always @(posedge clk_i, posedge rst_i)\\n    if (rst_i) \\\\genblk1.pte_addr_q_reg[21]  <= 1\\'h0;\\n    else if (_0011_) \\\\genblk1.pte_addr_q_reg[21]  <= _0003_[21];\\n  assign \\\\genblk1.pte_addr_q [21] = \\\\genblk1.pte_addr_q_reg[21] ;\\n  reg \\\\genblk1.pte_addr_q_reg[22] ;\\n  (* src = \"../riscv/core/riscv/riscv_mmu.v:220.5-282.8\" *)\\n  always @(posedge clk_i, posedge rst_i)\\n    if (rst_i) \\\\genblk1.pte_addr_q_reg[22]  <= 1\\'h0;\\n    else if (_0011_) \\\\genblk1.pte_addr_q_reg[22]  <= _0003_[22];\\n  assign \\\\genblk1.pte_addr_q [22] = \\\\genblk1.pte_addr_q_reg[22] ;\\n  reg \\\\genblk1.pte_addr_q_reg[23] ;\\n  (* src = \"../riscv/core/riscv/riscv_mmu.v:220.5-282.8\" *)\\n  always @(posedge clk_i, posedge rst_i)\\n    if (rst_i) \\\\genblk1.pte_addr_q_reg[23]  <= 1\\'h0;\\n    else if (_0011_) \\\\genblk1.pte_addr_q_reg[23]  <= _0003_[23];\\n  assign \\\\genblk1.pte_addr_q [23] = \\\\genblk1.pte_addr_q_reg[23] ;\\n  reg \\\\genblk1.pte_addr_q_reg[24] ;\\n  (* src = \"../riscv/core/riscv/riscv_mmu.v:220.5-282.8\" *)\\n  always @(posedge clk_i, posedge rst_i)\\n    if (rst_i) \\\\genblk1.pte_addr_q_reg[24]  <= 1\\'h0;\\n    else if (_0011_) \\\\genblk1.pte_addr_q_reg[24]  <= _0003_[24];\\n  assign \\\\genblk1.pte_addr_q [24] = \\\\genblk1.pte_addr_q_reg[24] ;\\n  reg \\\\genblk1.pte_addr_q_reg[25] ;\\n  (* src = \"../riscv/core/riscv/riscv_mmu.v:220.5-282.8\" *)\\n  always @(posedge clk_i, posedge rst_i)\\n    if (rst_i) \\\\genblk1.pte_addr_q_reg[25]  <= 1\\'h0;\\n    else if (_0011_) \\\\genblk1.pte_addr_q_reg[25]  <= _0003_[25];\\n  assign \\\\genblk1.pte_addr_q [25] = \\\\genblk1.pte_addr_q_reg[25] ;\\n  reg \\\\genblk1.pte_addr_q_reg[26] ;\\n  (* src = \"../riscv/core/riscv/riscv_mmu.v:220.5-282.8\" *)\\n  always @(posedge clk_i, posedge rst_i)\\n    if (rst_i) \\\\genblk1.pte_addr_q_reg[26]  <= 1\\'h0;\\n    else if (_0011_) \\\\genblk1.pte_addr_q_reg[26]  <= _0003_[26];\\n  assign \\\\genblk1.pte_addr_q [26] = \\\\genblk1.pte_addr_q_reg[26] ;\\n  reg \\\\genblk1.pte_addr_q_reg[27] ;\\n  (* src = \"../riscv/core/riscv/riscv_mmu.v:220.5-282.8\" *)\\n  always @(posedge clk_i, posedge rst_i)\\n    if (rst_i) \\\\genblk1.pte_addr_q_reg[27]  <= 1\\'h0;\\n    else if (_0011_) \\\\genblk1.pte_addr_q_reg[27]  <= _0003_[27];\\n  assign \\\\genblk1.pte_addr_q [27] = \\\\genblk1.pte_addr_q_reg[27] ;\\n  reg \\\\genblk1.pte_addr_q_reg[28] ;\\n  (* src = \"../riscv/core/riscv/riscv_mmu.v:220.5-282.8\" *)\\n  always @(posedge clk_i, posedge rst_i)\\n    if (rst_i) \\\\genblk1.pte_addr_q_reg[28]  <= 1\\'h0;\\n    else if (_0011_) \\\\genblk1.pte_addr_q_reg[28]  <= _0003_[28];\\n  assign \\\\genblk1.pte_addr_q [28] = \\\\genblk1.pte_addr_q_reg[28] ;\\n  reg \\\\genblk1.pte_addr_q_reg[29] ;\\n  (* src = \"../riscv/core/riscv/riscv_mmu.v:220.5-282.8\" *)\\n  always @(posedge clk_i, posedge rst_i)\\n    if (rst_i) \\\\genblk1.pte_addr_q_reg[29]  <= 1\\'h0;\\n    else if (_0011_) \\\\genblk1.pte_addr_q_reg[29]  <= _0003_[29];\\n  assign \\\\genblk1.pte_addr_q [29] = \\\\genblk1.pte_addr_q_reg[29] ;\\n  reg \\\\genblk1.pte_addr_q_reg[30] ;\\n  (* src = \"../riscv/core/riscv/riscv_mmu.v:220.5-282.8\" *)\\n  always @(posedge clk_i, posedge rst_i)\\n    if (rst_i) \\\\genblk1.pte_addr_q_reg[30]  <= 1\\'h0;\\n    else if (_0011_) \\\\genblk1.pte_addr_q_reg[30]  <= _0003_[30];\\n  assign \\\\genblk1.pte_addr_q [30] = \\\\genblk1.pte_addr_q_reg[30] ;\\n  reg \\\\genblk1.pte_addr_q_reg[31] ;\\n  (* src = \"../riscv/core/riscv/riscv_mmu.v:220.5-282.8\" *)\\n  always @(posedge clk_i, posedge rst_i)\\n    if (rst_i) \\\\genblk1.pte_addr_q_reg[31]  <= 1\\'h0;\\n    else if (_0011_) \\\\genblk1.pte_addr_q_reg[31]  <= _0003_[31];\\n  assign \\\\genblk1.pte_addr_q [31] = \\\\genblk1.pte_addr_q_reg[31] ;\\n  (* src = \"../riscv/core/riscv/riscv_mmu.v:443.5-447.38\" *)\\n  always @(posedge clk_i, posedge rst_i)\\n    if (rst_i) \\\\genblk1.load_fault_q  <= 1\\'h0;\\n    else \\\\genblk1.load_fault_q  <= \\\\genblk1.load_fault_r ;\\n  (* src = \"../riscv/core/riscv/riscv_mmu.v:437.5-441.40\" *)\\n  always @(posedge clk_i, posedge rst_i)\\n    if (rst_i) \\\\genblk1.store_fault_q  <= 1\\'h0;\\n    else \\\\genblk1.store_fault_q  <= \\\\genblk1.store_fault_r ;\\n  (* src = \"../riscv/core/riscv/riscv_mmu.v:488.5-496.27\" *)\\n  always @(posedge clk_i, posedge rst_i)\\n    if (rst_i) \\\\genblk1.mem_req_q  <= 1\\'h0;\\n    else if (_0009_) \\\\genblk1.mem_req_q  <= _0002_;\\n  (* src = \"../riscv/core/riscv/riscv_mmu.v:373.5-383.8\" *)\\n  always @(posedge clk_i, posedge rst_i)\\n    if (rst_i) \\\\genblk1.dtlb_va_addr_q [12] <= 1\\'h0;\\n    else if (_0014_) \\\\genblk1.dtlb_va_addr_q [12] <= \\\\genblk1.virt_addr_q [12];\\n  (* src = \"../riscv/core/riscv/riscv_mmu.v:373.5-383.8\" *)\\n  always @(posedge clk_i, posedge rst_i)\\n    if (rst_i) \\\\genblk1.dtlb_va_addr_q [13] <= 1\\'h0;\\n    else if (_0014_) \\\\genblk1.dtlb_va_addr_q [13] <= \\\\genblk1.virt_addr_q [13];\\n  (* src = \"../riscv/core/riscv/riscv_mmu.v:373.5-383.8\" *)\\n  always @(posedge clk_i, posedge rst_i)\\n    if (rst_i) \\\\genblk1.dtlb_va_addr_q [14] <= 1\\'h0;\\n    else if (_0014_) \\\\genblk1.dtlb_va_addr_q [14] <= \\\\genblk1.virt_addr_q [14];\\n  (* src = \"../riscv/core/riscv/riscv_mmu.v:373.5-383.8\" *)\\n  always @(posedge clk_i, posedge rst_i)\\n    if (rst_i) \\\\genblk1.dtlb_va_addr_q [15] <= 1\\'h0;\\n    else if (_0014_) \\\\genblk1.dtlb_va_addr_q [15] <= \\\\genblk1.virt_addr_q [15];\\n  (* src = \"../riscv/core/riscv/riscv_mmu.v:373.5-383.8\" *)\\n  always @(posedge clk_i, posedge rst_i)\\n    if (rst_i) \\\\genblk1.dtlb_va_addr_q [16] <= 1\\'h0;\\n    else if (_0014_) \\\\genblk1.dtlb_va_addr_q [16] <= \\\\genblk1.virt_addr_q [16];\\n  (* src = \"../riscv/core/riscv/riscv_mmu.v:373.5-383.8\" *)\\n  always @(posedge clk_i, posedge rst_i)\\n    if (rst_i) \\\\genblk1.dtlb_va_addr_q [17] <= 1\\'h0;\\n    else if (_0014_) \\\\genblk1.dtlb_va_addr_q [17] <= \\\\genblk1.virt_addr_q [17];\\n  (* src = \"../riscv/core/riscv/riscv_mmu.v:373.5-383.8\" *)\\n  always @(posedge clk_i, posedge rst_i)\\n    if (rst_i) \\\\genblk1.dtlb_va_addr_q [18] <= 1\\'h0;\\n    else if (_0014_) \\\\genblk1.dtlb_va_addr_q [18] <= \\\\genblk1.virt_addr_q [18];\\n  (* src = \"../riscv/core/riscv/riscv_mmu.v:373.5-383.8\" *)\\n  always @(posedge clk_i, posedge rst_i)\\n    if (rst_i) \\\\genblk1.dtlb_va_addr_q [19] <= 1\\'h0;\\n    else if (_0014_) \\\\genblk1.dtlb_va_addr_q [19] <= \\\\genblk1.virt_addr_q [19];\\n  (* src = \"../riscv/core/riscv/riscv_mmu.v:373.5-383.8\" *)\\n  always @(posedge clk_i, posedge rst_i)\\n    if (rst_i) \\\\genblk1.dtlb_va_addr_q [20] <= 1\\'h0;\\n    else if (_0014_) \\\\genblk1.dtlb_va_addr_q [20] <= \\\\genblk1.virt_addr_q [20];\\n  (* src = \"../riscv/core/riscv/riscv_mmu.v:373.5-383.8\" *)\\n  always @(posedge clk_i, posedge rst_i)\\n    if (rst_i) \\\\genblk1.dtlb_va_addr_q [21] <= 1\\'h0;\\n    else if (_0014_) \\\\genblk1.dtlb_va_addr_q [21] <= \\\\genblk1.virt_addr_q [21];\\n  (* src = \"../riscv/core/riscv/riscv_mmu.v:373.5-383.8\" *)\\n  always @(posedge clk_i, posedge rst_i)\\n    if (rst_i) \\\\genblk1.dtlb_va_addr_q [22] <= 1\\'h0;\\n    else if (_0014_) \\\\genblk1.dtlb_va_addr_q [22] <= \\\\genblk1.virt_addr_q [22];\\n  (* src = \"../riscv/core/riscv/riscv_mmu.v:373.5-383.8\" *)\\n  always @(posedge clk_i, posedge rst_i)\\n    if (rst_i) \\\\genblk1.dtlb_va_addr_q [23] <= 1\\'h0;\\n    else if (_0014_) \\\\genblk1.dtlb_va_addr_q [23] <= \\\\genblk1.virt_addr_q [23];\\n  (* src = \"../riscv/core/riscv/riscv_mmu.v:373.5-383.8\" *)\\n  always @(posedge clk_i, posedge rst_i)\\n    if (rst_i) \\\\genblk1.dtlb_va_addr_q [24] <= 1\\'h0;\\n    else if (_0014_) \\\\genblk1.dtlb_va_addr_q [24] <= \\\\genblk1.virt_addr_q [24];\\n  (* src = \"../riscv/core/riscv/riscv_mmu.v:373.5-383.8\" *)\\n  always @(posedge clk_i, posedge rst_i)\\n    if (rst_i) \\\\genblk1.dtlb_va_addr_q [25] <= 1\\'h0;\\n    else if (_0014_) \\\\genblk1.dtlb_va_addr_q [25] <= \\\\genblk1.virt_addr_q [25];\\n  (* src = \"../riscv/core/riscv/riscv_mmu.v:373.5-383.8\" *)\\n  always @(posedge clk_i, posedge rst_i)\\n    if (rst_i) \\\\genblk1.dtlb_va_addr_q [26] <= 1\\'h0;\\n    else if (_0014_) \\\\genblk1.dtlb_va_addr_q [26] <= \\\\genblk1.virt_addr_q [26];\\n  (* src = \"../riscv/core/riscv/riscv_mmu.v:373.5-383.8\" *)\\n  always @(posedge clk_i, posedge rst_i)\\n    if (rst_i) \\\\genblk1.dtlb_va_addr_q [27] <= 1\\'h0;\\n    else if (_0014_) \\\\genblk1.dtlb_va_addr_q [27] <= \\\\genblk1.virt_addr_q [27];\\n  (* src = \"../riscv/core/riscv/riscv_mmu.v:373.5-383.8\" *)\\n  always @(posedge clk_i, posedge rst_i)\\n    if (rst_i) \\\\genblk1.dtlb_va_addr_q [28] <= 1\\'h0;\\n    else if (_0014_) \\\\genblk1.dtlb_va_addr_q [28] <= \\\\genblk1.virt_addr_q [28];\\n  (* src = \"../riscv/core/riscv/riscv_mmu.v:373.5-383.8\" *)\\n  always @(posedge clk_i, posedge rst_i)\\n    if (rst_i) \\\\genblk1.dtlb_va_addr_q [29] <= 1\\'h0;\\n    else if (_0014_) \\\\genblk1.dtlb_va_addr_q [29] <= \\\\genblk1.virt_addr_q [29];\\n  (* src = \"../riscv/core/riscv/riscv_mmu.v:373.5-383.8\" *)\\n  always @(posedge clk_i, posedge rst_i)\\n    if (rst_i) \\\\genblk1.dtlb_va_addr_q [30] <= 1\\'h0;\\n    else if (_0014_) \\\\genblk1.dtlb_va_addr_q [30] <= \\\\genblk1.virt_addr_q [30];\\n  (* src = \"../riscv/core/riscv/riscv_mmu.v:373.5-383.8\" *)\\n  always @(posedge clk_i, posedge rst_i)\\n    if (rst_i) \\\\genblk1.dtlb_va_addr_q [31] <= 1\\'h0;\\n    else if (_0014_) \\\\genblk1.dtlb_va_addr_q [31] <= \\\\genblk1.virt_addr_q [31];\\n  (* src = \"../riscv/core/riscv/riscv_mmu.v:158.5-162.36\" *)\\n  always @(posedge clk_i, posedge rst_i)\\n    if (rst_i) \\\\genblk1.load_q  <= 1\\'h0;\\n    else if (lsu_in_rd_i) \\\\genblk1.load_q  <= _0447_;\\n  assign _0003_[1:0] = 2\\'h0;\\n  assign fetch_in_fault_o = \\\\genblk1.pc_fault_q ;\\n  assign fetch_in_inst_o = fetch_out_inst_i;\\n  assign fetch_out_flush_o = fetch_in_flush_i;\\n  assign fetch_out_invalidate_o = fetch_in_invalidate_i;\\n  assign fetch_out_pc_o[11:0] = fetch_in_pc_i[11:0];\\n  assign \\\\genblk1.dtlb_entry_q [11:10] = 2\\'h0;\\n  assign \\\\genblk1.itlb_entry_q [11:10] = 2\\'h0;\\n  assign \\\\genblk1.lsu_out_addr_w [11:0] = \\\\genblk1.lsu_addr_w [11:0];\\n  assign \\\\genblk1.lsu_out_data_wr_w  = lsu_in_data_wr_i;\\n  assign \\\\genblk1.lsu_out_flush_w  = lsu_in_flush_i;\\n  assign \\\\genblk1.lsu_out_invalidate_w  = lsu_in_invalidate_i;\\n  assign \\\\genblk1.lsu_out_req_tag_w  = lsu_in_req_tag_i;\\n  assign \\\\genblk1.lsu_out_writeback_w  = lsu_in_writeback_i;\\n  assign \\\\genblk1.ptbr_w  = { satp_i[19:0], 12\\'h000 };\\n  assign \\\\genblk1.pte_addr_q [1:0] = 2\\'h0;\\n  assign \\\\genblk1.pte_entry_q [11:10] = 2\\'h0;\\n  assign \\\\genblk1.pte_flags_w  = lsu_out_data_rd_i[9:0];\\n  assign \\\\genblk1.pte_ppn_w  = lsu_out_data_rd_i[31:10];\\n  assign \\\\genblk1.resp_data_w  = lsu_out_data_rd_i;\\n  assign \\\\genblk1.vm_enable_w  = satp_i[31];\\n  assign lsu_in_data_rd_o = lsu_out_data_rd_i;\\n  assign lsu_in_load_fault_o = \\\\genblk1.load_fault_q ;\\n  assign lsu_in_resp_tag_o = lsu_out_resp_tag_i;\\n  assign lsu_in_store_fault_o = \\\\genblk1.store_fault_q ;\\n  assign lsu_out_data_wr_o = lsu_in_data_wr_i;\\nendmodule\\n'"
            ],
            "application/vnd.google.colaboratory.intrinsic+json": {
              "type": "string"
            }
          },
          "metadata": {},
          "execution_count": 5
        }
      ],
      "source": [
        "dataset[0][\"question\"]"
      ]
    },
    {
      "cell_type": "code",
      "execution_count": 6,
      "metadata": {
        "colab": {
          "base_uri": "https://localhost:8080/",
          "height": 122
        },
        "id": "B3yJTiFgtKYq",
        "outputId": "586d0e0e-34cf-4ccf-e040-fe61f5b5632c"
      },
      "outputs": [
        {
          "output_type": "execute_result",
          "data": {
            "text/plain": [
              "'//-----------------------------------------------------------------\\n//                         RISC-V Core\\n//                            V1.0.1\\n//                     Ultra-Embedded.com\\n//                     Copyright 2014-2019\\n//\\n//                   admin@ultra-embedded.com\\n//\\n//                       License: BSD\\n//-----------------------------------------------------------------\\n//\\n// Copyright (c) 2014-2019, Ultra-Embedded.com\\n// All rights reserved.\\n// \\n// Redistribution and use in source and binary forms, with or without\\n// modification, are permitted provided that the following conditions \\n// are met:\\n//   - Redistributions of source code must retain the above copyright\\n//     notice, this list of conditions and the following disclaimer.\\n//   - Redistributions in binary form must reproduce the above copyright\\n//     notice, this list of conditions and the following disclaimer \\n//     in the documentation and/or other materials provided with the \\n//     distribution.\\n//   - Neither the name of the author nor the names of its contributors \\n//     may be used to endorse or promote products derived from this \\n//     software without specific prior written permission.\\n// \\n// THIS SOFTWARE IS PROVIDED BY THE COPYRIGHT HOLDERS AND CONTRIBUTORS \\n// \"AS IS\" AND ANY EXPRESS OR IMPLIED WARRANTIES, INCLUDING, BUT NOT \\n// LIMITED TO, THE IMPLIED WARRANTIES OF MERCHANTABILITY AND FITNESS FOR \\n// A PARTICULAR PURPOSE ARE DISCLAIMED. IN NO EVENT SHALL THE AUTHOR BE \\n// LIABLE FOR ANY DIRECT, INDIRECT, INCIDENTAL, SPECIAL, EXEMPLARY, OR \\n// CONSEQUENTIAL DAMAGES (INCLUDING, BUT NOT LIMITED TO, PROCUREMENT OF \\n// SUBSTITUTE GOODS OR SERVICES; LOSS OF USE, DATA, OR PROFITS; OR \\n// BUSINESS INTERRUPTION) HOWEVER CAUSED AND ON ANY THEORY OF \\n// LIABILITY, WHETHER IN CONTRACT, STRICT LIABILITY, OR TORT\\n// (INCLUDING NEGLIGENCE OR OTHERWISE) ARISING IN ANY WAY OUT OF \\n// THE USE OF THIS SOFTWARE, EVEN IF ADVISED OF THE POSSIBILITY OF \\n// SUCH DAMAGE.\\n//-----------------------------------------------------------------\\n\\nmodule riscv_mmu\\n//-----------------------------------------------------------------\\n// Params\\n//-----------------------------------------------------------------\\n#(\\n     parameter MEM_CACHE_ADDR_MIN = 32\\'h80000000\\n    ,parameter MEM_CACHE_ADDR_MAX = 32\\'h8fffffff\\n    ,parameter SUPPORT_MMU      = 1\\n)\\n//-----------------------------------------------------------------\\n// Ports\\n//-----------------------------------------------------------------\\n(\\n    // Inputs\\n     input           clk_i\\n    ,input           rst_i\\n    ,input  [  1:0]  priv_d_i\\n    ,input           sum_i\\n    ,input           mxr_i\\n    ,input           flush_i\\n    ,input  [ 31:0]  satp_i\\n    ,input           fetch_in_rd_i\\n    ,input           fetch_in_flush_i\\n    ,input           fetch_in_invalidate_i\\n    ,input  [ 31:0]  fetch_in_pc_i\\n    ,input  [  1:0]  fetch_in_priv_i\\n    ,input           fetch_out_accept_i\\n    ,input           fetch_out_valid_i\\n    ,input           fetch_out_error_i\\n    ,input  [ 31:0]  fetch_out_inst_i\\n    ,input  [ 31:0]  lsu_in_addr_i\\n    ,input  [ 31:0]  lsu_in_data_wr_i\\n    ,input           lsu_in_rd_i\\n    ,input  [  3:0]  lsu_in_wr_i\\n    ,input           lsu_in_cacheable_i\\n    ,input  [ 10:0]  lsu_in_req_tag_i\\n    ,input           lsu_in_invalidate_i\\n    ,input           lsu_in_writeback_i\\n    ,input           lsu_in_flush_i\\n    ,input  [ 31:0]  lsu_out_data_rd_i\\n    ,input           lsu_out_accept_i\\n    ,input           lsu_out_ack_i\\n    ,input           lsu_out_error_i\\n    ,input  [ 10:0]  lsu_out_resp_tag_i\\n\\n    // Outputs\\n    ,output          fetch_in_accept_o\\n    ,output          fetch_in_valid_o\\n    ,output          fetch_in_error_o\\n    ,output [ 31:0]  fetch_in_inst_o\\n    ,output          fetch_out_rd_o\\n    ,output          fetch_out_flush_o\\n    ,output          fetch_out_invalidate_o\\n    ,output [ 31:0]  fetch_out_pc_o\\n    ,output          fetch_in_fault_o\\n    ,output [ 31:0]  lsu_in_data_rd_o\\n    ,output          lsu_in_accept_o\\n    ,output          lsu_in_ack_o\\n    ,output          lsu_in_error_o\\n    ,output [ 10:0]  lsu_in_resp_tag_o\\n    ,output [ 31:0]  lsu_out_addr_o\\n    ,output [ 31:0]  lsu_out_data_wr_o\\n    ,output          lsu_out_rd_o\\n    ,output [  3:0]  lsu_out_wr_o\\n    ,output          lsu_out_cacheable_o\\n    ,output [ 10:0]  lsu_out_req_tag_o\\n    ,output          lsu_out_invalidate_o\\n    ,output          lsu_out_writeback_o\\n    ,output          lsu_out_flush_o\\n    ,output          lsu_in_load_fault_o\\n    ,output          lsu_in_store_fault_o\\n);\\n\\n\\n\\n//-----------------------------------------------------------------\\n// Includes\\n//-----------------------------------------------------------------\\n`include \"riscv_defs.v\"\\n\\n//-----------------------------------------------------------------\\n// Local defs\\n//-----------------------------------------------------------------\\nlocalparam  STATE_W            = 2;\\nlocalparam  STATE_IDLE         = 0;\\nlocalparam  STATE_LEVEL_FIRST  = 1;\\nlocalparam  STATE_LEVEL_SECOND = 2;\\nlocalparam  STATE_UPDATE       = 3;\\n\\n//-----------------------------------------------------------------\\n// Basic MMU support\\n//-----------------------------------------------------------------\\ngenerate\\nif (SUPPORT_MMU)\\nbegin\\n\\n    //-----------------------------------------------------------------\\n    // Registers\\n    //-----------------------------------------------------------------\\n    reg [STATE_W-1:0] state_q;\\n    wire              idle_w = (state_q == STATE_IDLE);\\n\\n    // Magic combo used only by MMU\\n    wire        resp_mmu_w   = (lsu_out_resp_tag_i[9:7] == 3\\'b111);\\n    wire        resp_valid_w = resp_mmu_w & lsu_out_ack_i;\\n    wire        resp_error_w = resp_mmu_w & lsu_out_error_i;\\n    wire [31:0] resp_data_w  = lsu_out_data_rd_i;\\n\\n    wire        cpu_accept_w;\\n\\n    //-----------------------------------------------------------------\\n    // Load / Store\\n    //-----------------------------------------------------------------\\n    reg       load_q;\\n    reg [3:0] store_q;\\n\\n    always @ (posedge clk_i or posedge rst_i)\\n    if (rst_i)\\n        load_q <= 1\\'b0;\\n    else if (lsu_in_rd_i)\\n        load_q <= ~lsu_in_accept_o;\\n\\n    always @ (posedge clk_i or posedge rst_i)\\n    if (rst_i)\\n        store_q <= 4\\'b0;\\n    else if (|lsu_in_wr_i)\\n        store_q <= lsu_in_accept_o ? 4\\'b0 : lsu_in_wr_i;\\n\\n    wire       load_w  = lsu_in_rd_i | load_q;\\n    wire [3:0] store_w = lsu_in_wr_i | store_q;\\n\\n    reg [31:0] lsu_in_addr_q;\\n\\n    always @ (posedge clk_i or posedge rst_i)\\n    if (rst_i)\\n        lsu_in_addr_q <= 32\\'b0;\\n    else if (load_w || (|store_w))\\n        lsu_in_addr_q <= lsu_in_addr_i;\\n\\n    wire [31:0] lsu_addr_w = (load_w || (|store_w)) ? lsu_in_addr_i : lsu_in_addr_q;\\n\\n    //-----------------------------------------------------------------\\n    // Page table walker\\n    //-----------------------------------------------------------------\\n    wire        itlb_hit_w;\\n    wire        dtlb_hit_w;\\n\\n    reg         dtlb_req_q;\\n\\n    // Global enable\\n    wire        vm_enable_w = satp_i[`SATP_MODE_R];\\n    wire [31:0] ptbr_w      = {satp_i[`SATP_PPN_R], 12\\'b0};\\n\\n    wire        ifetch_vm_w = (fetch_in_priv_i != `PRIV_MACHINE);\\n    wire        dfetch_vm_w = (priv_d_i != `PRIV_MACHINE);\\n\\n    wire        supervisor_i_w = (fetch_in_priv_i == `PRIV_SUPER);\\n    wire        supervisor_d_w = (priv_d_i == `PRIV_SUPER);\\n\\n    wire        vm_i_enable_w = (ifetch_vm_w);\\n    wire        vm_d_enable_w = (vm_enable_w & dfetch_vm_w);\\n\\n    // TLB entry does not match request address\\n    wire        itlb_miss_w = fetch_in_rd_i & vm_i_enable_w & ~itlb_hit_w;\\n    wire        dtlb_miss_w = (load_w || (|store_w)) & vm_d_enable_w & ~dtlb_hit_w;\\n\\n    // Data miss is higher priority than instruction...\\n    wire [31:0] request_addr_w = idle_w ? \\n                                (dtlb_miss_w ? lsu_addr_w : fetch_in_pc_i) :\\n                                 dtlb_req_q ? lsu_addr_w : fetch_in_pc_i;\\n\\n    reg [31:0]  pte_addr_q;\\n    reg [31:0]  pte_entry_q;\\n    reg [31:0]  virt_addr_q;\\n\\n    wire [31:0] pte_ppn_w   = {`PAGE_PFN_SHIFT\\'b0, resp_data_w[31:`PAGE_PFN_SHIFT]};\\n    wire [9:0]  pte_flags_w = resp_data_w[9:0];\\n\\n    always @ (posedge clk_i or posedge rst_i)\\n    if (rst_i)\\n    begin\\n        pte_addr_q  <= 32\\'b0;\\n        pte_entry_q <= 32\\'b0;\\n        virt_addr_q <= 32\\'b0;\\n        dtlb_req_q  <= 1\\'b0;\\n        state_q     <= STATE_IDLE;\\n    end\\n    else\\n    begin\\n        // TLB miss, walk page table\\n        if (state_q == STATE_IDLE && (itlb_miss_w || dtlb_miss_w))\\n        begin\\n            pte_addr_q  <= ptbr_w + {20\\'b0, request_addr_w[31:22], 2\\'b0};\\n            virt_addr_q <= request_addr_w;\\n            dtlb_req_q  <= dtlb_miss_w;\\n\\n            state_q     <= STATE_LEVEL_FIRST;\\n        end\\n        // First level (4MB superpage)\\n        else if (state_q == STATE_LEVEL_FIRST && resp_valid_w)\\n        begin\\n            // Error or page not present\\n            if (resp_error_w || !resp_data_w[`PAGE_PRESENT])\\n            begin\\n                pte_entry_q <= 32\\'b0;\\n                state_q     <= STATE_UPDATE;\\n            end\\n            // Valid entry, but another level to fetch\\n            else if (!(resp_data_w[`PAGE_READ] || resp_data_w[`PAGE_WRITE] || resp_data_w[`PAGE_EXEC]))\\n            begin\\n                pte_addr_q  <= {resp_data_w[29:10], 12\\'b0} + {20\\'b0, request_addr_w[21:12], 2\\'b0};\\n                state_q     <= STATE_LEVEL_SECOND;\\n            end\\n            // Valid entry, actual valid PTE\\n            else\\n            begin\\n                pte_entry_q <= ((pte_ppn_w | {22\\'b0, request_addr_w[21:12]}) << `MMU_PGSHIFT) | {22\\'b0, pte_flags_w};\\n                state_q     <= STATE_UPDATE;\\n            end\\n        end\\n        // Second level (4KB page)\\n        else if (state_q == STATE_LEVEL_SECOND && resp_valid_w)\\n        begin\\n            // Valid entry, final level\\n            if (resp_data_w[`PAGE_PRESENT])\\n            begin\\n                pte_entry_q <= (pte_ppn_w << `MMU_PGSHIFT) | {22\\'b0, pte_flags_w};\\n                state_q     <= STATE_UPDATE;\\n            end\\n            // Page fault\\n            else\\n            begin\\n                pte_entry_q <= 32\\'b0;\\n                state_q     <= STATE_UPDATE;\\n            end\\n        end\\n        else if (state_q == STATE_UPDATE)\\n        begin\\n            state_q    <= STATE_IDLE;\\n        end\\n    end\\n\\n    //-----------------------------------------------------------------\\n    // IMMU TLB\\n    //-----------------------------------------------------------------\\n    reg         itlb_valid_q;\\n    reg [31:12] itlb_va_addr_q;\\n    reg [31:0]  itlb_entry_q;\\n\\n    always @ (posedge clk_i or posedge rst_i)\\n    if (rst_i)\\n        itlb_valid_q <= 1\\'b0;\\n    else if (flush_i)\\n        itlb_valid_q <= 1\\'b0;\\n    else if (state_q == STATE_UPDATE && !dtlb_req_q)\\n        itlb_valid_q <= (itlb_va_addr_q == fetch_in_pc_i[31:12]); // Fetch TLB still matches incoming request\\n    else if (state_q != STATE_IDLE && !dtlb_req_q)\\n        itlb_valid_q <= 1\\'b0;\\n\\n    always @ (posedge clk_i or posedge rst_i)\\n    if (rst_i)\\n    begin\\n        itlb_va_addr_q <= 20\\'b0;\\n        itlb_entry_q   <= 32\\'b0;\\n    end\\n    else if (state_q == STATE_UPDATE && !dtlb_req_q)\\n    begin\\n        itlb_va_addr_q <= virt_addr_q[31:12];\\n        itlb_entry_q   <= pte_entry_q;\\n    end\\n\\n    // TLB address matched (even on page fault)\\n    assign itlb_hit_w   = fetch_in_rd_i & itlb_valid_q & (itlb_va_addr_q == fetch_in_pc_i[31:12]);\\n\\n    reg pc_fault_r;\\n    always @ *\\n    begin\\n        pc_fault_r = 1\\'b0;\\n\\n        if (vm_i_enable_w && itlb_hit_w)\\n        begin\\n            // Supervisor mode\\n            if (supervisor_i_w)\\n            begin\\n                // User page, supervisor cannot execute\\n                if (itlb_entry_q[`PAGE_USER])\\n                    pc_fault_r = 1\\'b1;\\n                // Check exec permissions\\n                else\\n                    pc_fault_r = ~itlb_entry_q[`PAGE_EXEC];\\n            end\\n            // User mode\\n            else\\n                pc_fault_r = (~itlb_entry_q[`PAGE_EXEC]) | (~itlb_entry_q[`PAGE_USER]);\\n        end\\n    end\\n\\n    reg pc_fault_q;\\n\\n    always @ (posedge clk_i or posedge rst_i)\\n    if (rst_i)\\n        pc_fault_q <= 1\\'b0;\\n    else\\n        pc_fault_q <= pc_fault_r;\\n\\n    assign fetch_out_rd_o         = (~vm_i_enable_w & fetch_in_rd_i) || (itlb_hit_w & ~pc_fault_r);\\n    assign fetch_out_pc_o         = vm_i_enable_w ? {itlb_entry_q[31:12], fetch_in_pc_i[11:0]} : fetch_in_pc_i;\\n    assign fetch_out_flush_o      = fetch_in_flush_i;\\n    assign fetch_out_invalidate_o = fetch_in_invalidate_i; // TODO: ...\\n\\n    assign fetch_in_accept_o      = (~vm_i_enable_w & fetch_out_accept_i) | (vm_i_enable_w & itlb_hit_w & fetch_out_accept_i) | pc_fault_r;\\n    assign fetch_in_valid_o       = fetch_out_valid_i | pc_fault_q;\\n    assign fetch_in_error_o       = fetch_out_valid_i & fetch_out_error_i;\\n    assign fetch_in_fault_o       = pc_fault_q;\\n    assign fetch_in_inst_o        = fetch_out_inst_i;\\n\\n    //-----------------------------------------------------------------\\n    // DMMU TLB\\n    //-----------------------------------------------------------------\\n    reg         dtlb_valid_q;\\n    reg [31:12] dtlb_va_addr_q;\\n    reg [31:0]  dtlb_entry_q;\\n\\n    always @ (posedge clk_i or posedge rst_i)\\n    if (rst_i)\\n        dtlb_valid_q <= 1\\'b0;\\n    else if (flush_i)\\n        dtlb_valid_q <= 1\\'b0;\\n    else if (state_q == STATE_UPDATE && dtlb_req_q)\\n        dtlb_valid_q <= 1\\'b1;\\n\\n    always @ (posedge clk_i or posedge rst_i)\\n    if (rst_i)\\n    begin\\n        dtlb_va_addr_q <= 20\\'b0;\\n        dtlb_entry_q   <= 32\\'b0;\\n    end\\n    else if (state_q == STATE_UPDATE && dtlb_req_q)\\n    begin\\n        dtlb_va_addr_q <= virt_addr_q[31:12];\\n        dtlb_entry_q   <= pte_entry_q;\\n    end\\n\\n    // TLB address matched (even on page fault)\\n    assign dtlb_hit_w   = dtlb_valid_q & (dtlb_va_addr_q == lsu_addr_w[31:12]);\\n\\n    reg load_fault_r;\\n    always @ *\\n    begin\\n        load_fault_r = 1\\'b0;\\n\\n        if (vm_d_enable_w && load_w && dtlb_hit_w)\\n        begin\\n            // Supervisor mode\\n            if (supervisor_d_w)\\n            begin\\n                // User page, supervisor user mode not enabled\\n                if (dtlb_entry_q[`PAGE_USER] && !sum_i)\\n                    load_fault_r = 1\\'b1;\\n                // Check exec permissions\\n                else\\n                    load_fault_r = ~(dtlb_entry_q[`PAGE_READ] | (mxr_i & dtlb_entry_q[`PAGE_EXEC]));\\n            end\\n            // User mode\\n            else\\n                load_fault_r = (~dtlb_entry_q[`PAGE_READ]) | (~dtlb_entry_q[`PAGE_USER]);\\n        end\\n    end\\n\\n    reg store_fault_r;\\n    always @ *\\n    begin\\n        store_fault_r = 1\\'b0;\\n\\n        if (vm_d_enable_w && (|store_w) && dtlb_hit_w)\\n        begin\\n            // Supervisor mode\\n            if (supervisor_d_w)\\n            begin\\n                // User page, supervisor user mode not enabled\\n                if (dtlb_entry_q[`PAGE_USER] && !sum_i)\\n                    store_fault_r = 1\\'b1;\\n                // Check exec permissions\\n                else\\n                    store_fault_r = (~dtlb_entry_q[`PAGE_READ]) | (~dtlb_entry_q[`PAGE_WRITE]);\\n            end\\n            // User mode\\n            else\\n                store_fault_r = (~dtlb_entry_q[`PAGE_READ]) | (~dtlb_entry_q[`PAGE_WRITE]) | (~dtlb_entry_q[`PAGE_USER]);\\n        end\\n    end\\n\\n    reg store_fault_q;\\n    reg load_fault_q;\\n\\n    always @ (posedge clk_i or posedge rst_i)\\n    if (rst_i)\\n        store_fault_q <= 1\\'b0;\\n    else\\n        store_fault_q <= store_fault_r;\\n\\n    always @ (posedge clk_i or posedge rst_i)\\n    if (rst_i)\\n        load_fault_q <= 1\\'b0;\\n    else\\n        load_fault_q <= load_fault_r;   \\n\\n    wire        lsu_out_rd_w         = vm_d_enable_w ? (load_w  & dtlb_hit_w & ~load_fault_r)       : lsu_in_rd_i;\\n    wire [3:0]  lsu_out_wr_w         = vm_d_enable_w ? (store_w & {4{dtlb_hit_w & ~store_fault_r}}) : lsu_in_wr_i;\\n    wire [31:0] lsu_out_addr_w       = vm_d_enable_w ? {dtlb_entry_q[31:12], lsu_addr_w[11:0]}      : lsu_addr_w;\\n    wire [31:0] lsu_out_data_wr_w    = lsu_in_data_wr_i;\\n\\n    wire        lsu_out_invalidate_w = lsu_in_invalidate_i;\\n    wire        lsu_out_writeback_w  = lsu_in_writeback_i;\\n\\n    reg         lsu_out_cacheable_r;\\n    always @ *\\n    begin\\n/* verilator lint_off UNSIGNED */\\n/* verilator lint_off CMPCONST */\\n        if (lsu_in_invalidate_i || lsu_in_writeback_i || lsu_in_flush_i)\\n            lsu_out_cacheable_r = 1\\'b1;\\n        else\\n            lsu_out_cacheable_r = (lsu_out_addr_w >= MEM_CACHE_ADDR_MIN && lsu_out_addr_w <= MEM_CACHE_ADDR_MAX);\\n/* verilator lint_on CMPCONST */\\n/* verilator lint_on UNSIGNED */\\n    end\\n\\n    wire [10:0] lsu_out_req_tag_w    = lsu_in_req_tag_i;\\n    wire        lsu_out_flush_w      = lsu_in_flush_i;\\n\\n    assign lsu_in_ack_o         = (lsu_out_ack_i & ~resp_mmu_w) | store_fault_q | load_fault_q;\\n    assign lsu_in_resp_tag_o    = lsu_out_resp_tag_i;\\n    assign lsu_in_error_o       = (lsu_out_error_i & ~resp_mmu_w) | store_fault_q | load_fault_q;\\n    assign lsu_in_data_rd_o     = lsu_out_data_rd_i;\\n    assign lsu_in_store_fault_o = store_fault_q;\\n    assign lsu_in_load_fault_o  = load_fault_q;\\n\\n    assign lsu_in_accept_o      = (~vm_d_enable_w & cpu_accept_w) | (vm_d_enable_w & dtlb_hit_w & cpu_accept_w) | store_fault_r | load_fault_r;\\n\\n    //-----------------------------------------------------------------\\n    // PTE Fetch Port\\n    //-----------------------------------------------------------------\\n    reg mem_req_q;\\n    wire mmu_accept_w;\\n\\n    always @ (posedge clk_i or posedge rst_i)\\n    if (rst_i)\\n        mem_req_q <= 1\\'b0;\\n    else if (state_q == STATE_IDLE && (itlb_miss_w || dtlb_miss_w))\\n        mem_req_q <= 1\\'b1;\\n    else if (state_q == STATE_LEVEL_FIRST && resp_valid_w && !resp_error_w && resp_data_w[`PAGE_PRESENT] && (!(resp_data_w[`PAGE_READ] || resp_data_w[`PAGE_WRITE] || resp_data_w[`PAGE_EXEC])))\\n        mem_req_q <= 1\\'b1;    \\n    else if (mmu_accept_w)\\n        mem_req_q <= 1\\'b0;\\n\\n    //-----------------------------------------------------------------\\n    // Request Muxing\\n    //-----------------------------------------------------------------\\n    reg  read_hold_q;\\n    reg  src_mmu_q;\\n    wire src_mmu_w = read_hold_q ? src_mmu_q : mem_req_q;\\n\\n    always @ (posedge clk_i or posedge rst_i)\\n    if (rst_i)\\n    begin\\n        read_hold_q  <= 1\\'b0;\\n        src_mmu_q    <= 1\\'b0;\\n    end\\n    else if ((lsu_out_rd_o || (|lsu_out_wr_o)) && !lsu_out_accept_i)\\n    begin\\n        read_hold_q  <= 1\\'b1;\\n        src_mmu_q    <= src_mmu_w;\\n    end\\n    else if (lsu_out_accept_i)\\n        read_hold_q  <= 1\\'b0;\\n\\n    assign mmu_accept_w         = src_mmu_w  & lsu_out_accept_i;\\n    assign cpu_accept_w         = ~src_mmu_w & lsu_out_accept_i;\\n\\n    assign lsu_out_rd_o         = src_mmu_w ? mem_req_q  : lsu_out_rd_w;\\n    assign lsu_out_wr_o         = src_mmu_w ? 4\\'b0       : lsu_out_wr_w;\\n    assign lsu_out_addr_o       = src_mmu_w ? pte_addr_q : lsu_out_addr_w;\\n    assign lsu_out_data_wr_o    = lsu_out_data_wr_w;\\n\\n    assign lsu_out_invalidate_o = src_mmu_w ? 1\\'b0 : lsu_out_invalidate_w;\\n    assign lsu_out_writeback_o  = src_mmu_w ? 1\\'b0 : lsu_out_writeback_w;\\n    assign lsu_out_cacheable_o  = src_mmu_w ? 1\\'b1 : lsu_out_cacheable_r;\\n    assign lsu_out_req_tag_o    = src_mmu_w ? {1\\'b0, 3\\'b111, 7\\'b0} : lsu_out_req_tag_w;\\n    assign lsu_out_flush_o      = src_mmu_w ? 1\\'b0 : lsu_out_flush_w;\\n\\nend\\n//-----------------------------------------------------------------\\n// No MMU support\\n//-----------------------------------------------------------------\\nelse\\nbegin\\n    assign fetch_out_rd_o         = fetch_in_rd_i;\\n    assign fetch_out_pc_o         = fetch_in_pc_i;\\n    assign fetch_out_flush_o      = fetch_in_flush_i;\\n    assign fetch_out_invalidate_o = fetch_in_invalidate_i;\\n    assign fetch_in_accept_o      = fetch_out_accept_i;\\n    assign fetch_in_valid_o       = fetch_out_valid_i;\\n    assign fetch_in_error_o       = fetch_out_error_i;\\n    assign fetch_in_fault_o       = 1\\'b0;\\n    assign fetch_in_inst_o        = fetch_out_inst_i;\\n\\n    assign lsu_out_rd_o           = lsu_in_rd_i;\\n    assign lsu_out_wr_o           = lsu_in_wr_i;\\n    assign lsu_out_addr_o         = lsu_in_addr_i;\\n    assign lsu_out_data_wr_o      = lsu_in_data_wr_i;\\n    assign lsu_out_invalidate_o   = lsu_in_invalidate_i;\\n    assign lsu_out_writeback_o    = lsu_in_writeback_i;\\n    assign lsu_out_cacheable_o    = lsu_in_cacheable_i;\\n    assign lsu_out_req_tag_o      = lsu_in_req_tag_i;\\n    assign lsu_out_flush_o        = lsu_in_flush_i;\\n    \\n    assign lsu_in_ack_o           = lsu_out_ack_i;\\n    assign lsu_in_resp_tag_o      = lsu_out_resp_tag_i;\\n    assign lsu_in_error_o         = lsu_out_error_i;\\n    assign lsu_in_data_rd_o       = lsu_out_data_rd_i;\\n    assign lsu_in_store_fault_o   = 1\\'b0;\\n    assign lsu_in_load_fault_o    = 1\\'b0;\\n\\n    assign lsu_in_accept_o        = lsu_out_accept_i;\\nend\\nendgenerate\\n\\nendmodule\\n'"
            ],
            "application/vnd.google.colaboratory.intrinsic+json": {
              "type": "string"
            }
          },
          "metadata": {},
          "execution_count": 6
        }
      ],
      "source": [
        "dataset[0][\"answer\"]"
      ]
    },
    {
      "cell_type": "markdown",
      "metadata": {
        "id": "yqq9kGuVtIYn"
      },
      "source": [
        "We notice all answers like about have a ####, so we extract it:"
      ]
    },
    {
      "cell_type": "code",
      "execution_count": 7,
      "metadata": {
        "id": "_5I3BCkViwuC"
      },
      "outputs": [],
      "source": [
        "def extract_hash_answer(text):\n",
        "    if \"####\" not in text: return None\n",
        "    return text.split(\"####\")[1].strip()\n",
        "extract_hash_answer(dataset[0][\"answer\"])"
      ]
    },
    {
      "cell_type": "markdown",
      "metadata": {
        "id": "FiFNBLyytPCD"
      },
      "source": [
        "We now create a system prompt which can be customized. We add 4 extra symbols for working out or thinking / reasoning sections and a final answer:"
      ]
    },
    {
      "cell_type": "code",
      "execution_count": 8,
      "metadata": {
        "colab": {
          "base_uri": "https://localhost:8080/",
          "height": 53
        },
        "id": "mHjiV3kGi8Y9",
        "outputId": "25876dc0-6449-483e-f2d5-88f69c5820b5"
      },
      "outputs": [
        {
          "output_type": "execute_result",
          "data": {
            "text/plain": [
              "'You are given a verilog netlist.\\nThink about how to reduce and simplify the netlist while keeping it logically identical and provide your reasoning.\\nPlace your reasoning between <reasoning> and </reasoning>.\\nThen, provide your simplified netlist between <SOLUTION> and </SOLUTION>'"
            ],
            "application/vnd.google.colaboratory.intrinsic+json": {
              "type": "string"
            }
          },
          "metadata": {},
          "execution_count": 8
        }
      ],
      "source": [
        "reasoning_start = \"<reasoning>\"\n",
        "reasoning_end   = \"</reasoning>\"\n",
        "solution_start = \"<SOLUTION>\"\n",
        "solution_end = \"</SOLUTION>\"\n",
        "\n",
        "system_prompt = \\\n",
        "f\"\"\"You are given a verilog netlist.\n",
        "Think about how to reduce and simplify the netlist while keeping it logically identical and provide your reasoning.\n",
        "Place your reasoning between {reasoning_start} and {reasoning_end}.\n",
        "Then, provide your simplified netlist between {solution_start} and {solution_end}\"\"\"\n",
        "system_prompt"
      ]
    },
    {
      "cell_type": "markdown",
      "metadata": {
        "id": "BFRYlk9ntYTm"
      },
      "source": [
        "Let's map the dataset! and see the first row:"
      ]
    },
    {
      "cell_type": "code",
      "execution_count": 9,
      "metadata": {
        "colab": {
          "base_uri": "https://localhost:8080/",
          "height": 49,
          "referenced_widgets": [
            "f50790fe418e405bbf513740392ca219",
            "078d5953c9154c7f94daa354a3b3aa74",
            "4319e8e8952c4b608bcfa82b3d40f8cc",
            "107af06cbecf48b69ef7f512e2aee2a7",
            "b93a10afad704999ba6e5cd016447c8f",
            "4c6105e81a6b4b49b98bfc079fc80607",
            "72fc2588b6704a528818ba7b1318ddcf",
            "d1920f7dbd8d4449b978093188b13313",
            "176adfc16acc49aa85d2d2aff48ed20c",
            "1809aeab08e24b20b11006c49be5a989",
            "6a5c2157a7124b36b24354ce3262cbe7"
          ]
        },
        "id": "5tkTF5Hmlhl-",
        "outputId": "282af873-16c8-45b6-8640-e34d516ad34b"
      },
      "outputs": [
        {
          "output_type": "display_data",
          "data": {
            "text/plain": [
              "Map:   0%|          | 0/22 [00:00<?, ? examples/s]"
            ],
            "application/vnd.jupyter.widget-view+json": {
              "version_major": 2,
              "version_minor": 0,
              "model_id": "f50790fe418e405bbf513740392ca219"
            }
          },
          "metadata": {}
        }
      ],
      "source": [
        "dataset = dataset.map(lambda x: {\n",
        "    \"prompt\" : [\n",
        "        {\"role\": \"system\", \"content\": system_prompt},\n",
        "        {\"role\": \"user\",   \"content\": x[\"question\"]},\n",
        "    ],\n",
        "    \"answer\": extract_hash_answer(x[\"answer\"]),\n",
        "})"
      ]
    },
    {
      "cell_type": "markdown",
      "metadata": {
        "id": "w6MsfbGUtja0"
      },
      "source": [
        "We create a regex format to match the reasoning sections and answers:"
      ]
    },
    {
      "cell_type": "code",
      "execution_count": 10,
      "metadata": {
        "id": "l5X6oDNDn6Zj"
      },
      "outputs": [],
      "source": [
        "import re\n",
        "\n",
        "match_format = re.compile(\n",
        "    rf\"^[\\s]{{0,}}\"\\\n",
        "    rf\"{reasoning_start}.+?{reasoning_end}.*?\"\\\n",
        "    rf\"{solution_start}(.+?){solution_end}\"\\\n",
        "    rf\"[\\s]{{0,}}$\",\n",
        "    flags = re.MULTILINE | re.DOTALL\n",
        ")"
      ]
    },
    {
      "cell_type": "markdown",
      "metadata": {
        "id": "ME3-UVc6tnYP"
      },
      "source": [
        "We verify it works:"
      ]
    },
    {
      "cell_type": "code",
      "execution_count": 11,
      "metadata": {
        "colab": {
          "base_uri": "https://localhost:8080/"
        },
        "id": "LVvrKUBEtoQD",
        "outputId": "c4b76195-08a9-4bad-eacd-92052500aaba"
      },
      "outputs": [
        {
          "output_type": "execute_result",
          "data": {
            "text/plain": [
              "<re.Match object; span=(0, 58), match='<reasoning>Let me think!</reasoning><SOLUTION>2</>"
            ]
          },
          "metadata": {},
          "execution_count": 11
        }
      ],
      "source": [
        "match_format.search(\n",
        "    \"<reasoning>Let me think!</reasoning>\"\\\n",
        "    \"<SOLUTION>2</SOLUTION>\",\n",
        ")"
      ]
    },
    {
      "cell_type": "markdown",
      "metadata": {
        "id": "Qglh2OxpuQzK"
      },
      "source": [
        "We now want to create a reward function to match the format exactly - we reward it with 3 points if it succeeds:"
      ]
    },
    {
      "cell_type": "code",
      "execution_count": 12,
      "metadata": {
        "id": "g8MPYPvvo1ri"
      },
      "outputs": [],
      "source": [
        "def match_format_exactly(completions, **kwargs):\n",
        "    scores = []\n",
        "    for completion in completions:\n",
        "        score = 0\n",
        "        response = completion[0][\"content\"]\n",
        "        # Match if format is seen exactly!\n",
        "        if match_format.search(response) is not None: score += 3.0\n",
        "        scores.append(score)\n",
        "    return scores"
      ]
    },
    {
      "cell_type": "markdown",
      "metadata": {
        "id": "VqnEZ4msuZyZ"
      },
      "source": [
        "If it fails, we want to reward the model if it at least follows the format partially, by counting each symbol:"
      ]
    },
    {
      "cell_type": "code",
      "execution_count": 13,
      "metadata": {
        "id": "1LlYVZjdpij9"
      },
      "outputs": [],
      "source": [
        "def match_format_approximately(completions, **kwargs):\n",
        "    scores = []\n",
        "    for completion in completions:\n",
        "        score = 0\n",
        "        response = completion[0][\"content\"]\n",
        "        # Count how many keywords are seen - we penalize if too many!\n",
        "        # If we see 1, then plus some points!\n",
        "        score += 0.5 if response.count(reasoning_start) == 1 else -0.5\n",
        "        score += 0.5 if response.count(reasoning_end)   == 1 else -0.5\n",
        "        score += 0.5 if response.count(solution_start)  == 1 else -0.5\n",
        "        score += 0.5 if response.count(solution_end)    == 1 else -0.5\n",
        "        scores.append(score)\n",
        "    return scores"
      ]
    },
    {
      "cell_type": "markdown",
      "metadata": {
        "id": "CBwDVDxtuhWm"
      },
      "source": [
        "Finally, we want to extract the generated answer, and reward or penalize it! We also reward it based on how close the answer is to the true one via ratios:"
      ]
    },
    {
      "cell_type": "code",
      "execution_count": 14,
      "metadata": {
        "id": "jnKYp_IYqFr2"
      },
      "outputs": [],
      "source": [
        "def check_answer(prompts, completions, answer, **kwargs):\n",
        "    question = prompts[0][-1][\"content\"]\n",
        "    responses = [completion[0][\"content\"] for completion in completions]\n",
        "\n",
        "    extracted_responses = [\n",
        "        guess.group(1)\n",
        "        if (guess := match_format.search(r)) is not None else None \\\n",
        "        for r in responses\n",
        "    ]\n",
        "\n",
        "    scores = []\n",
        "    for guess, true_answer in zip(extracted_responses, answer):\n",
        "        score = 0\n",
        "        if guess is None:\n",
        "            scores.append(0)\n",
        "            continue\n",
        "        # Correct answer gets 3 points!\n",
        "        if guess == true_answer:\n",
        "            score += 3.0\n",
        "        # Match if spaces are seen\n",
        "        elif guess.strip() == true_answer.strip():\n",
        "            score += 2.5\n",
        "        else:\n",
        "            # We also reward it if the answer is close via ratios!\n",
        "            # Ie if the answer is within some range, reward it!\n",
        "            try:\n",
        "                ratio = float(guess) / float(true_answer)\n",
        "                if   ratio >= 0.9 and ratio <= 1.1: score += 0.5\n",
        "                elif ratio >= 0.8 and ratio <= 1.2: score += 0.25\n",
        "                else: score -= 1.0 # Penalize wrong answers\n",
        "            except:\n",
        "                score -= 0.5 # Penalize\n",
        "        scores.append(score)\n",
        "    return scores"
      ]
    },
    {
      "cell_type": "markdown",
      "metadata": {
        "id": "BvOYCf1Ly83w"
      },
      "source": [
        "Also sometimes it might not be 1 number as the answer, but like a sentence for example \"The solution is $20\" -> we extract 20."
      ]
    },
    {
      "cell_type": "code",
      "execution_count": 15,
      "metadata": {
        "colab": {
          "base_uri": "https://localhost:8080/"
        },
        "id": "MtFAX3_xy77b",
        "outputId": "58b3ca01-7dc1-4134-a4f7-1a5d0b1d9fb8"
      },
      "outputs": [
        {
          "output_type": "execute_result",
          "data": {
            "text/plain": [
              "['0.34']"
            ]
          },
          "metadata": {},
          "execution_count": 15
        }
      ],
      "source": [
        "match_numbers = re.compile(\n",
        "    rf\"{solution_start}.*?([\\d\\.]{{1,}})\",\n",
        "    flags = re.MULTILINE | re.DOTALL\n",
        ")\n",
        "match_numbers.findall(\"<SOLUTION>  0.34  </SOLUTION>\")"
      ]
    },
    {
      "cell_type": "code",
      "execution_count": 16,
      "metadata": {
        "id": "VqWply0z0DrP"
      },
      "outputs": [],
      "source": [
        "def check_numbers(prompts, completions, answer, **kwargs):\n",
        "    question = prompts[0][-1][\"content\"]\n",
        "    responses = [completion[0][\"content\"] for completion in completions]\n",
        "\n",
        "    extracted_responses = [\n",
        "        guess.group(1)\n",
        "        if (guess := match_numbers.search(r)) is not None else \"\" \\\n",
        "        for r in responses\n",
        "    ]\n",
        "\n",
        "    scores = []\n",
        "    print('*'*20, f\"Question:\\n{question}\", f\"\\nAnswer:\\n{answer[0] or ''}\", f\"\\nResponse:\\n{responses[0] or ''}\", f\"\\nExtracted:\\n{extracted_responses[0] or ''}\")\n",
        "    for guess, true_answer in zip(extracted_responses, answer):\n",
        "        if not guess:\n",
        "            scores.append(0)\n",
        "            continue\n",
        "        # Convert to numbers\n",
        "        try:\n",
        "            true_answer = float(true_answer.strip())\n",
        "            guess       = float(guess.strip())\n",
        "            scores.append(1.5 if guess == true_answer else 0.0)\n",
        "        except:\n",
        "            scores.append(0)\n",
        "            continue\n",
        "    return scores"
      ]
    },
    {
      "cell_type": "markdown",
      "metadata": {
        "id": "Ux6iqP7z5YOo"
      },
      "source": [
        "<a name=\"Train\"></a>\n",
        "### Train the model\n",
        "\n",
        "Now set up GRPO Trainer and all configurations!"
      ]
    },
    {
      "cell_type": "code",
      "execution_count": 17,
      "metadata": {
        "colab": {
          "base_uri": "https://localhost:8080/"
        },
        "id": "ptqkXK2D4d6p",
        "outputId": "2f1ae601-3bb4-4924-a003-f27092caeebc"
      },
      "outputs": [
        {
          "output_type": "stream",
          "name": "stdout",
          "text": [
            "Unsloth: We now expect `per_device_train_batch_size` to be a multiple of `num_generations`.\n",
            "We will change the batch size of 1 to the `num_generations` of 2\n"
          ]
        }
      ],
      "source": [
        "from unsloth import is_bfloat16_supported\n",
        "max_prompt_length = (max_seq_length - (max_seq_length // 10))\n",
        "\n",
        "from trl import GRPOConfig, GRPOTrainer\n",
        "training_args = GRPOConfig(\n",
        "    learning_rate = 5e-6,\n",
        "    adam_beta1 = 0.9,\n",
        "    adam_beta2 = 0.99,\n",
        "    weight_decay = 0.1,\n",
        "    warmup_ratio = 0.1,\n",
        "    lr_scheduler_type = \"cosine\",\n",
        "    optim = \"adamw_torch_fused\",\n",
        "    logging_steps = 1,\n",
        "    per_device_train_batch_size = 1,\n",
        "    bf16 = is_bfloat16_supported(),\n",
        "    fp16 = not is_bfloat16_supported(),\n",
        "    gradient_accumulation_steps = 4, # Increase to 4 for smoother training\n",
        "    num_generations = 2, # Decrease if out of memory\n",
        "    max_prompt_length = max_prompt_length,\n",
        "    max_completion_length = max_seq_length - max_prompt_length,\n",
        "    # num_train_epochs = 1, # Set to 1 for a full training run\n",
        "    max_steps = 100,\n",
        "    save_steps = 25,\n",
        "    max_grad_norm = 0.1,\n",
        "    report_to = \"none\", # Can use Weights & Biases\n",
        "    output_dir = \"outputs\",\n",
        ")"
      ]
    },
    {
      "cell_type": "markdown",
      "metadata": {
        "id": "r9Mv8UZO5hz-"
      },
      "source": [
        "And let's run the trainer! If you scroll up, you'll see a table of rewards. The goal is to see the `reward` column increase!\n",
        "\n",
        "You might have to wait 150 to 200 steps for any action. You'll probably get 0 reward for the first 100 steps. Please be patient!\n",
        "\n",
        "| Step | Training Loss | reward    | reward_std | completion_length | kl       |\n",
        "|------|---------------|-----------|------------|-------------------|----------|\n",
        "| 1    | 0.000000      | 0.125000  | 0.000000   | 200.000000        | 0.000000 |\n",
        "| 2    | 0.000000      | 0.072375  | 0.248112   | 200.000000        | 0.000000 |\n",
        "| 3    | 0.000000      | -0.079000 | 0.163776   | 182.500000        | 0.000005 |\n"
      ]
    },
    {
      "cell_type": "code",
      "execution_count": null,
      "metadata": {
        "colab": {
          "base_uri": "https://localhost:8080/"
        },
        "id": "vzOuSVCL_GA9",
        "outputId": "9001aec3-e791-43a5-9df3-f44ccaa7a1dd"
      },
      "outputs": [
        {
          "output_type": "stream",
          "name": "stdout",
          "text": [
            "Unsloth: Switching to float32 training since model cannot work with float16\n"
          ]
        },
        {
          "output_type": "stream",
          "name": "stderr",
          "text": [
            "==((====))==  Unsloth - 2x faster free finetuning | Num GPUs used = 1\n",
            "   \\\\   /|    Num examples = 22 | Num Epochs = 17 | Total steps = 100\n",
            "O^O/ \\_/ \\    Batch size per device = 2 | Gradient accumulation steps = 4\n",
            "\\        /    Data Parallel GPUs = 1 | Total batch size (2 x 4 x 1) = 8\n",
            " \"-____-\"     Trainable parameters = 6,522,880/1,000,000,000 (0.65% trained)\n",
            "`generation_config` default values have been modified to match model-specific defaults: {'max_length': 32768, 'top_p': 0.95}. If this is not desired, please set these values explicitly.\n",
            "You have set `compile_config`, but we are unable to meet the criteria for compilation. Compilation will be skipped.\n"
          ]
        }
      ],
      "source": [
        "trainer = GRPOTrainer(\n",
        "    model = model,\n",
        "    processing_class = tokenizer,\n",
        "    reward_funcs = [\n",
        "        match_format_exactly,\n",
        "        match_format_approximately,\n",
        "        check_answer,\n",
        "        check_numbers,\n",
        "    ],\n",
        "    args = training_args,\n",
        "    train_dataset = dataset,\n",
        ")\n",
        "trainer.train()"
      ]
    },
    {
      "cell_type": "markdown",
      "metadata": {
        "id": "tlaUdxC_VHpz"
      },
      "source": [
        "<a name=\"Inference\"></a>\n",
        "### Inference\n",
        "Now let's try the model we just trained!"
      ]
    },
    {
      "cell_type": "code",
      "execution_count": null,
      "metadata": {
        "id": "qtcz_lpbVC92"
      },
      "outputs": [],
      "source": [
        "messages = [\n",
        "    {\"role\": \"system\", \"content\": system_prompt},\n",
        "    {\"role\": \"user\",   \"content\": \"What is the sqrt of 101?\"},\n",
        "]\n",
        "\n",
        "text = tokenizer.apply_chat_template(\n",
        "    messages,\n",
        "    add_generation_prompt = True, # Must add for generation\n",
        "    tokenize = False,\n",
        ")\n",
        "from transformers import TextStreamer\n",
        "_ = model.generate(\n",
        "    **tokenizer(text, return_tensors = \"pt\").to(\"cuda\"),\n",
        "    max_new_tokens = 64, # Increase for longer outputs!\n",
        "    # Recommended Gemma-3 settings!\n",
        "    temperature = 1.0, top_p = 0.95, top_k = 64,\n",
        "    streamer = TextStreamer(tokenizer, skip_prompt = True),\n",
        ")"
      ]
    },
    {
      "cell_type": "markdown",
      "metadata": {
        "id": "-NUEmHFSYNTp"
      },
      "source": [
        "<a name=\"Save\"></a>\n",
        "### Saving, loading finetuned models\n",
        "To save the final model as LoRA adapters, either use Huggingface's `push_to_hub` for an online save or `save_pretrained` for a local save.\n",
        "\n",
        "**[NOTE]** This ONLY saves the LoRA adapters, and not the full model. To save to 16bit or GGUF, scroll down!"
      ]
    },
    {
      "cell_type": "code",
      "execution_count": null,
      "metadata": {
        "id": "NjXGTkp7YNtB"
      },
      "outputs": [],
      "source": [
        "model.save_pretrained(use_model)  # Local saving\n",
        "tokenizer.save_pretrained(use_model)\n",
        "# model.push_to_hub(\"HF_ACCOUNT/gemma-3\", token = \"...\") # Online saving\n",
        "# tokenizer.push_to_hub(\"HF_ACCOUNT/gemma-3\", token = \"...\") # Online saving"
      ]
    },
    {
      "cell_type": "markdown",
      "metadata": {
        "id": "52WMb3k_YPt8"
      },
      "source": [
        "### Saving to float16 for VLLM\n",
        "\n",
        "We also support saving to `float16` directly for deployment! We save it in the folder `gemma-3-finetune`. Set `if False` to `if True` to let it run!"
      ]
    },
    {
      "cell_type": "code",
      "execution_count": null,
      "metadata": {
        "id": "QyEjW-WuYQIm"
      },
      "outputs": [],
      "source": [
        "if True: # Change to True to save finetune!\n",
        "    model.save_pretrained_merged(f\"{use_model}-verai-finetune\", tokenizer)"
      ]
    },
    {
      "cell_type": "markdown",
      "metadata": {
        "id": "NRrqfyaRaXRL"
      },
      "source": [
        "If you want to upload / push to your Hugging Face account, set `if False` to `if True` and add your Hugging Face token and upload location!"
      ]
    },
    {
      "cell_type": "code",
      "execution_count": null,
      "metadata": {
        "id": "_-B07m_HC5i7"
      },
      "outputs": [],
      "source": [
        "if False: # Change to True to upload finetune\n",
        "    model.push_to_hub_merged(\n",
        "        f\"HF_ACCOUNT/{use_model}-finetune\", tokenizer,\n",
        "        token = \"hf_...\"\n",
        "    )"
      ]
    },
    {
      "cell_type": "markdown",
      "metadata": {
        "id": "5JMDDS0bC7jT"
      },
      "source": [
        "### GGUF / llama.cpp Conversion\n",
        "To save to `GGUF` / `llama.cpp`, we support it natively now for all models! For now, you can convert easily to `Q8_0, F16 or BF16` precision. `Q4_K_M` for 4bit will come later!"
      ]
    },
    {
      "cell_type": "code",
      "execution_count": null,
      "metadata": {
        "id": "aX3xMj8hC6e0"
      },
      "outputs": [],
      "source": [
        "if True: # Change to True to save to GGUF\n",
        "    model.save_pretrained_gguf(\n",
        "        f\"{use_model}-verai-finetune\",\n",
        "        quantization_type = \"Q8_0\", # For now only Q8_0, BF16, F16 supported\n",
        "    )"
      ]
    },
    {
      "cell_type": "markdown",
      "metadata": {
        "id": "0CfqZW5rC9zv"
      },
      "source": [
        "Likewise, if you want to instead push to GGUF to your Hugging Face account, set `if False` to `if True` and add your Hugging Face token and upload location!"
      ]
    },
    {
      "cell_type": "code",
      "execution_count": null,
      "metadata": {
        "id": "SG6-dP0JC-G2"
      },
      "outputs": [],
      "source": [
        "if False: # Change to True to upload GGUF\n",
        "    model.push_to_hub_gguf(\n",
        "        f\"{use_model}-finetune\",\n",
        "        quantization_type = \"Q8_0\", # Only Q8_0, BF16, F16 supported\n",
        "        repo_id = f\"HF_ACCOUNT/{use_model}-finetune-gguf\",\n",
        "        token = \"hf_...\",\n",
        "    )"
      ]
    },
    {
      "cell_type": "markdown",
      "metadata": {
        "id": "-F2GVrPrDArH"
      },
      "source": [
        "Now, use the `gemma-3-finetune.gguf` file or `gemma-3-finetune-Q4_K_M.gguf` file in llama.cpp or a UI based system like Jan or Open WebUI. You can install Jan [here](https://github.com/janhq/jan) and Open WebUI [here](https://github.com/open-webui/open-webui)\n",
        "\n",
        "And we're done! If you have any questions on Unsloth, we have a [Discord](https://discord.gg/unsloth) channel! If you find any bugs or want to keep updated with the latest LLM stuff, or need help, join projects etc, feel free to join our Discord!\n",
        "\n",
        "Some other links:\n",
        "1. Train your own reasoning model - Llama GRPO notebook [Free Colab](https://colab.research.google.com/github/unslothai/notebooks/blob/main/nb/Llama3.1_(8B)-GRPO.ipynb)\n",
        "2. Saving finetunes to Ollama. [Free notebook](https://colab.research.google.com/github/unslothai/notebooks/blob/main/nb/Llama3_(8B)-Ollama.ipynb)\n",
        "3. Llama 3.2 Vision finetuning - Radiography use case. [Free Colab](https://colab.research.google.com/github/unslothai/notebooks/blob/main/nb/Llama3.2_(11B)-Vision.ipynb)\n",
        "6. See notebooks for DPO, ORPO, Continued pretraining, conversational finetuning and more on our [documentation](https://docs.unsloth.ai/get-started/unsloth-notebooks)!\n",
        "\n",
        "<div class=\"align-center\">\n",
        "  <a href=\"https://unsloth.ai\"><img src=\"https://github.com/unslothai/unsloth/raw/main/images/unsloth%20new%20logo.png\" width=\"115\"></a>\n",
        "  <a href=\"https://discord.gg/unsloth\"><img src=\"https://github.com/unslothai/unsloth/raw/main/images/Discord.png\" width=\"145\"></a>\n",
        "  <a href=\"https://docs.unsloth.ai/\"><img src=\"https://github.com/unslothai/unsloth/blob/main/images/documentation%20green%20button.png?raw=true\" width=\"125\"></a>\n",
        "\n",
        "  Join Discord if you need help + ⭐️ <i>Star us on <a href=\"https://github.com/unslothai/unsloth\">Github</a> </i> ⭐️\n",
        "</div>\n"
      ]
    }
  ],
  "metadata": {
    "accelerator": "GPU",
    "colab": {
      "gpuType": "T4",
      "provenance": [],
      "include_colab_link": true
    },
    "kernelspec": {
      "display_name": "unsloth_env",
      "language": "python",
      "name": "python3"
    },
    "language_info": {
      "name": "python",
      "version": "3.11.11"
    },
    "widgets": {
      "application/vnd.jupyter.widget-state+json": {
        "f50790fe418e405bbf513740392ca219": {
          "model_module": "@jupyter-widgets/controls",
          "model_name": "HBoxModel",
          "model_module_version": "1.5.0",
          "state": {
            "_dom_classes": [],
            "_model_module": "@jupyter-widgets/controls",
            "_model_module_version": "1.5.0",
            "_model_name": "HBoxModel",
            "_view_count": null,
            "_view_module": "@jupyter-widgets/controls",
            "_view_module_version": "1.5.0",
            "_view_name": "HBoxView",
            "box_style": "",
            "children": [
              "IPY_MODEL_078d5953c9154c7f94daa354a3b3aa74",
              "IPY_MODEL_4319e8e8952c4b608bcfa82b3d40f8cc",
              "IPY_MODEL_107af06cbecf48b69ef7f512e2aee2a7"
            ],
            "layout": "IPY_MODEL_b93a10afad704999ba6e5cd016447c8f"
          }
        },
        "078d5953c9154c7f94daa354a3b3aa74": {
          "model_module": "@jupyter-widgets/controls",
          "model_name": "HTMLModel",
          "model_module_version": "1.5.0",
          "state": {
            "_dom_classes": [],
            "_model_module": "@jupyter-widgets/controls",
            "_model_module_version": "1.5.0",
            "_model_name": "HTMLModel",
            "_view_count": null,
            "_view_module": "@jupyter-widgets/controls",
            "_view_module_version": "1.5.0",
            "_view_name": "HTMLView",
            "description": "",
            "description_tooltip": null,
            "layout": "IPY_MODEL_4c6105e81a6b4b49b98bfc079fc80607",
            "placeholder": "​",
            "style": "IPY_MODEL_72fc2588b6704a528818ba7b1318ddcf",
            "value": "Map: 100%"
          }
        },
        "4319e8e8952c4b608bcfa82b3d40f8cc": {
          "model_module": "@jupyter-widgets/controls",
          "model_name": "FloatProgressModel",
          "model_module_version": "1.5.0",
          "state": {
            "_dom_classes": [],
            "_model_module": "@jupyter-widgets/controls",
            "_model_module_version": "1.5.0",
            "_model_name": "FloatProgressModel",
            "_view_count": null,
            "_view_module": "@jupyter-widgets/controls",
            "_view_module_version": "1.5.0",
            "_view_name": "ProgressView",
            "bar_style": "success",
            "description": "",
            "description_tooltip": null,
            "layout": "IPY_MODEL_d1920f7dbd8d4449b978093188b13313",
            "max": 22,
            "min": 0,
            "orientation": "horizontal",
            "style": "IPY_MODEL_176adfc16acc49aa85d2d2aff48ed20c",
            "value": 22
          }
        },
        "107af06cbecf48b69ef7f512e2aee2a7": {
          "model_module": "@jupyter-widgets/controls",
          "model_name": "HTMLModel",
          "model_module_version": "1.5.0",
          "state": {
            "_dom_classes": [],
            "_model_module": "@jupyter-widgets/controls",
            "_model_module_version": "1.5.0",
            "_model_name": "HTMLModel",
            "_view_count": null,
            "_view_module": "@jupyter-widgets/controls",
            "_view_module_version": "1.5.0",
            "_view_name": "HTMLView",
            "description": "",
            "description_tooltip": null,
            "layout": "IPY_MODEL_1809aeab08e24b20b11006c49be5a989",
            "placeholder": "​",
            "style": "IPY_MODEL_6a5c2157a7124b36b24354ce3262cbe7",
            "value": " 22/22 [00:00&lt;00:00, 585.90 examples/s]"
          }
        },
        "b93a10afad704999ba6e5cd016447c8f": {
          "model_module": "@jupyter-widgets/base",
          "model_name": "LayoutModel",
          "model_module_version": "1.2.0",
          "state": {
            "_model_module": "@jupyter-widgets/base",
            "_model_module_version": "1.2.0",
            "_model_name": "LayoutModel",
            "_view_count": null,
            "_view_module": "@jupyter-widgets/base",
            "_view_module_version": "1.2.0",
            "_view_name": "LayoutView",
            "align_content": null,
            "align_items": null,
            "align_self": null,
            "border": null,
            "bottom": null,
            "display": null,
            "flex": null,
            "flex_flow": null,
            "grid_area": null,
            "grid_auto_columns": null,
            "grid_auto_flow": null,
            "grid_auto_rows": null,
            "grid_column": null,
            "grid_gap": null,
            "grid_row": null,
            "grid_template_areas": null,
            "grid_template_columns": null,
            "grid_template_rows": null,
            "height": null,
            "justify_content": null,
            "justify_items": null,
            "left": null,
            "margin": null,
            "max_height": null,
            "max_width": null,
            "min_height": null,
            "min_width": null,
            "object_fit": null,
            "object_position": null,
            "order": null,
            "overflow": null,
            "overflow_x": null,
            "overflow_y": null,
            "padding": null,
            "right": null,
            "top": null,
            "visibility": null,
            "width": null
          }
        },
        "4c6105e81a6b4b49b98bfc079fc80607": {
          "model_module": "@jupyter-widgets/base",
          "model_name": "LayoutModel",
          "model_module_version": "1.2.0",
          "state": {
            "_model_module": "@jupyter-widgets/base",
            "_model_module_version": "1.2.0",
            "_model_name": "LayoutModel",
            "_view_count": null,
            "_view_module": "@jupyter-widgets/base",
            "_view_module_version": "1.2.0",
            "_view_name": "LayoutView",
            "align_content": null,
            "align_items": null,
            "align_self": null,
            "border": null,
            "bottom": null,
            "display": null,
            "flex": null,
            "flex_flow": null,
            "grid_area": null,
            "grid_auto_columns": null,
            "grid_auto_flow": null,
            "grid_auto_rows": null,
            "grid_column": null,
            "grid_gap": null,
            "grid_row": null,
            "grid_template_areas": null,
            "grid_template_columns": null,
            "grid_template_rows": null,
            "height": null,
            "justify_content": null,
            "justify_items": null,
            "left": null,
            "margin": null,
            "max_height": null,
            "max_width": null,
            "min_height": null,
            "min_width": null,
            "object_fit": null,
            "object_position": null,
            "order": null,
            "overflow": null,
            "overflow_x": null,
            "overflow_y": null,
            "padding": null,
            "right": null,
            "top": null,
            "visibility": null,
            "width": null
          }
        },
        "72fc2588b6704a528818ba7b1318ddcf": {
          "model_module": "@jupyter-widgets/controls",
          "model_name": "DescriptionStyleModel",
          "model_module_version": "1.5.0",
          "state": {
            "_model_module": "@jupyter-widgets/controls",
            "_model_module_version": "1.5.0",
            "_model_name": "DescriptionStyleModel",
            "_view_count": null,
            "_view_module": "@jupyter-widgets/base",
            "_view_module_version": "1.2.0",
            "_view_name": "StyleView",
            "description_width": ""
          }
        },
        "d1920f7dbd8d4449b978093188b13313": {
          "model_module": "@jupyter-widgets/base",
          "model_name": "LayoutModel",
          "model_module_version": "1.2.0",
          "state": {
            "_model_module": "@jupyter-widgets/base",
            "_model_module_version": "1.2.0",
            "_model_name": "LayoutModel",
            "_view_count": null,
            "_view_module": "@jupyter-widgets/base",
            "_view_module_version": "1.2.0",
            "_view_name": "LayoutView",
            "align_content": null,
            "align_items": null,
            "align_self": null,
            "border": null,
            "bottom": null,
            "display": null,
            "flex": null,
            "flex_flow": null,
            "grid_area": null,
            "grid_auto_columns": null,
            "grid_auto_flow": null,
            "grid_auto_rows": null,
            "grid_column": null,
            "grid_gap": null,
            "grid_row": null,
            "grid_template_areas": null,
            "grid_template_columns": null,
            "grid_template_rows": null,
            "height": null,
            "justify_content": null,
            "justify_items": null,
            "left": null,
            "margin": null,
            "max_height": null,
            "max_width": null,
            "min_height": null,
            "min_width": null,
            "object_fit": null,
            "object_position": null,
            "order": null,
            "overflow": null,
            "overflow_x": null,
            "overflow_y": null,
            "padding": null,
            "right": null,
            "top": null,
            "visibility": null,
            "width": null
          }
        },
        "176adfc16acc49aa85d2d2aff48ed20c": {
          "model_module": "@jupyter-widgets/controls",
          "model_name": "ProgressStyleModel",
          "model_module_version": "1.5.0",
          "state": {
            "_model_module": "@jupyter-widgets/controls",
            "_model_module_version": "1.5.0",
            "_model_name": "ProgressStyleModel",
            "_view_count": null,
            "_view_module": "@jupyter-widgets/base",
            "_view_module_version": "1.2.0",
            "_view_name": "StyleView",
            "bar_color": null,
            "description_width": ""
          }
        },
        "1809aeab08e24b20b11006c49be5a989": {
          "model_module": "@jupyter-widgets/base",
          "model_name": "LayoutModel",
          "model_module_version": "1.2.0",
          "state": {
            "_model_module": "@jupyter-widgets/base",
            "_model_module_version": "1.2.0",
            "_model_name": "LayoutModel",
            "_view_count": null,
            "_view_module": "@jupyter-widgets/base",
            "_view_module_version": "1.2.0",
            "_view_name": "LayoutView",
            "align_content": null,
            "align_items": null,
            "align_self": null,
            "border": null,
            "bottom": null,
            "display": null,
            "flex": null,
            "flex_flow": null,
            "grid_area": null,
            "grid_auto_columns": null,
            "grid_auto_flow": null,
            "grid_auto_rows": null,
            "grid_column": null,
            "grid_gap": null,
            "grid_row": null,
            "grid_template_areas": null,
            "grid_template_columns": null,
            "grid_template_rows": null,
            "height": null,
            "justify_content": null,
            "justify_items": null,
            "left": null,
            "margin": null,
            "max_height": null,
            "max_width": null,
            "min_height": null,
            "min_width": null,
            "object_fit": null,
            "object_position": null,
            "order": null,
            "overflow": null,
            "overflow_x": null,
            "overflow_y": null,
            "padding": null,
            "right": null,
            "top": null,
            "visibility": null,
            "width": null
          }
        },
        "6a5c2157a7124b36b24354ce3262cbe7": {
          "model_module": "@jupyter-widgets/controls",
          "model_name": "DescriptionStyleModel",
          "model_module_version": "1.5.0",
          "state": {
            "_model_module": "@jupyter-widgets/controls",
            "_model_module_version": "1.5.0",
            "_model_name": "DescriptionStyleModel",
            "_view_count": null,
            "_view_module": "@jupyter-widgets/base",
            "_view_module_version": "1.2.0",
            "_view_name": "StyleView",
            "description_width": ""
          }
        }
      }
    }
  },
  "nbformat": 4,
  "nbformat_minor": 0
}